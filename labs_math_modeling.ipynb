{
 "cells": [
  {
   "cell_type": "markdown",
   "metadata": {},
   "source": [
    "\n",
    "# МАТЕМАТИЧНЕ МОДЕЛЮВАННЯ МАТЕРІАЛІВ ТА ТЕХНОЛОГІЧНИХ ПРОЦЕСІВ В МАТЕРІАЛОЗНАВСТВІ\n",
    "Комп'ютерний практикум\n",
    "\n",
    "*Виконав студент групи ФМ-71мп*\n",
    "\n",
    "*Богомаз Ростислав*"
   ]
  },
  {
   "cell_type": "markdown",
   "metadata": {},
   "source": [
    "## АНАЛІТИЧНА МАТЕМАТИЧНА МОДЕЛЬ НАГРІВАННЯ МЕТАЛЕВОГО ВИРОБУ В ПЕЧІ ДЛЯ НАСТУПНОЇ ТЕРМІЧНОЇ ОБРОБКИ\n",
    "\n",
    "**Мета роботи:** освоєння принципів побудови детермінованої аналітичної математичної моделі із зосередженими параметрами та визначення часу нагріву металевого виробу."
   ]
  },
  {
   "cell_type": "markdown",
   "metadata": {},
   "source": [
    "### Завдання та вихідні дані\n",
    "Розрахувати час нагріву заготівки $t_{h}$, яка нагрівається в печі та побудувати графік залежності температури від часу в процесі нагрівання. Розрахунки провести використовуючи для цього детерміновану, інтегральну, аналітичну математичну модель із зосередженими параметрами.\n",
    "\n",
    "Вихідні дані:"
   ]
  },
  {
   "cell_type": "code",
   "execution_count": 1,
   "metadata": {
    "collapsed": true
   },
   "outputs": [],
   "source": [
    "# Defining variablbbes\n",
    "# Материал Cu\n",
    "# material constants\n",
    "density = 8873  # густина металу кг/м3\n",
    "alpha = 200  # Вт*м-2*К-1\n",
    "heat_capacity = [385, 442]  # 300 K and 800 K\n",
    "thermal_emissivity = 0.78  # для міді (epsilon)\n",
    "\n",
    "# constants\n",
    "Stefan_Bolzman = 5.6704e-8  # Вт / (м^2 * К^4)\n",
    "\n",
    "# geometry, m\n",
    "width, length, high = 0.1, 0.1, 0.1\n",
    "\n",
    "# температура печі\n",
    "T_furnace = 600 + 273.0  # K\n",
    "T_specimen = 20 + 273.0  # K\n",
    "DeltaT = 1  # %"
   ]
  },
  {
   "cell_type": "markdown",
   "metadata": {},
   "source": [
    "### Порядок виконання"
   ]
  },
  {
   "cell_type": "code",
   "execution_count": 2,
   "metadata": {
    "collapsed": true
   },
   "outputs": [],
   "source": [
    "import numpy as np\n",
    "import matplotlib.pyplot as plt\n",
    "%matplotlib inline"
   ]
  },
  {
   "cell_type": "markdown",
   "metadata": {},
   "source": [
    "Розрахунок площі поверхні та маси зразка:"
   ]
  },
  {
   "cell_type": "code",
   "execution_count": 3,
   "metadata": {},
   "outputs": [
    {
     "data": {
      "text/plain": [
       "(0.06000000000000001, 0.0010000000000000002, 8.873000000000003)"
      ]
     },
     "execution_count": 3,
     "metadata": {},
     "output_type": "execute_result"
    }
   ],
   "source": [
    "square = (width * length + width * high + length * high) * 2\n",
    "volume = width * length * high\n",
    "mass = volume * density\n",
    "square, volume, mass"
   ]
  },
  {
   "cell_type": "markdown",
   "metadata": {},
   "source": [
    "Визначаємо температуру закінчення розрахунків Тк:"
   ]
  },
  {
   "cell_type": "code",
   "execution_count": 4,
   "metadata": {},
   "outputs": [
    {
     "data": {
      "text/plain": [
       "864.27"
      ]
     },
     "execution_count": 4,
     "metadata": {},
     "output_type": "execute_result"
    }
   ],
   "source": [
    "T_last = (1 - 0.01 * DeltaT) * T_furnace\n",
    "T_last"
   ]
  },
  {
   "cell_type": "markdown",
   "metadata": {},
   "source": [
    "Розраховуємо середню теплоємність через лінійний закон:"
   ]
  },
  {
   "cell_type": "code",
   "execution_count": 5,
   "metadata": {},
   "outputs": [
    {
     "data": {
      "text/plain": [
       "417.26200000000006"
      ]
     },
     "execution_count": 5,
     "metadata": {},
     "output_type": "execute_result"
    }
   ],
   "source": [
    "heat_cap_line = np.poly1d(np.polyfit([300, 800], heat_capacity, 1))\n",
    "c = heat_cap_line(np.mean([T_furnace, T_specimen]))\n",
    "c"
   ]
  },
  {
   "cell_type": "markdown",
   "metadata": {},
   "source": [
    "Розраховуємо коефіцієнт $k$ та час нагріву:"
   ]
  },
  {
   "cell_type": "code",
   "execution_count": 6,
   "metadata": {},
   "outputs": [
    {
     "data": {
      "text/plain": [
       "(0.0032411708858823842, 1294.6749435417539)"
      ]
     },
     "execution_count": 6,
     "metadata": {},
     "output_type": "execute_result"
    }
   ],
   "source": [
    "k = alpha * square / (c * mass)\n",
    "heat_time = -np.log((T_furnace - T_last) / (T_furnace - T_specimen)) / k\n",
    "k, heat_time"
   ]
  },
  {
   "cell_type": "markdown",
   "metadata": {},
   "source": [
    "Будуємо графік:"
   ]
  },
  {
   "cell_type": "code",
   "execution_count": 7,
   "metadata": {},
   "outputs": [
    {
     "data": {
      "image/png": "[encoded data removed]",
      "text/plain": [
       "<matplotlib.figure.Figure at 0x20c8af84e48>"
      ]
     },
     "metadata": {},
     "output_type": "display_data"
    }
   ],
   "source": [
    "# дані для побудови\n",
    "lab1_x = np.arange(0, heat_time, 0.5)\n",
    "lab1_y = T_furnace - (T_furnace - T_specimen) * np.exp(-k * lab1_x)\n",
    "\n",
    "plt.plot(lab1_x, lab1_y - 273.0)\n",
    "plt.xticks(np.arange(lab1_x[0], lab1_x[-1] + 60, 120))\n",
    "plt.yticks(np.arange(0, 601, 50))\n",
    "plt.title(\"Процес нагрівання\")\n",
    "plt.ylabel(u\"Температура нагріву, ℃\")\n",
    "plt.xlabel(u\"Час нагріву, c\")\n",
    "plt.grid()"
   ]
  },
  {
   "cell_type": "markdown",
   "metadata": {},
   "source": [
    "### Висновки\n",
    "Була побудована детермінована аналітична математична модель із зосередженими параметрами для визначення часу нагріву металевого виробу.\n",
    "\n",
    "Отримано, що за даними параметрами зразок в печі нагрівається до температури печі за 22 хв. (1300 с).\n"
   ]
  },
  {
   "cell_type": "markdown",
   "metadata": {},
   "source": [
    "## ЧИСЛОВА МАТЕМАТИЧНА МОДЕЛЬ НАГРІВАННЯ МЕТАЛЕВОГО ВИРОБУ В ПЕЧІ ДЛЯ НАСТУПНОЇ ТЕРМІЧНОЇ ОБРОБКИ\n",
    "\n",
    "**Мета роботи:** освоєння принципів побудови детермінованої числової математичної моделі із зосередженими параметрами та визначення впливів залежності питомої теплоємності від температури і випромінювання на процес нагріву металевого виробу. "
   ]
  },
  {
   "cell_type": "markdown",
   "metadata": {},
   "source": [
    "### Завдання та вихідні дані\n",
    "Розрахувати час нагріву заготовки $t_\\text{н}$, яка нагрівається в печі та побудувати графік залежності температури від часу в процесі нагрівання. Розрахунки провести використовуючи ітераційну формулу чисельної математичної моделі із зосередженими параметрами. Дані для розрахунків задані в комп’ютерному практикумі №1.\n",
    "\n",
    "Розрахунки провести при наступних умовах:\n",
    "1. $a_0 = c$; $a_1 = 0$; $\\epsilon = 0$. В цьому випадку розрахунки можна порівняти з результатами, які отримані в комп’ютерному практикумі №1.\n",
    "2. $a_0 \\neq c$; $a_1 \\neq 0$; $\\epsilon = 0$. В цьому випадку розрахунки показують вплив залежності питомої теплоємності від температури на динаміку процесу нагріву.\n",
    "3. $a_0 \\neq c$; $a_1 \\neq 0$; $\\epsilon = 0.78$. В цьому випадку розрахунки показують вплив залежності питомої теплоємності від температури та врахування нагріву шляхом випромінювання на динаміку процесу нагріву.\n",
    "\n",
    "Побудувати графіки для трьох варіантів розрахунків і порівняти їх між собою та з результатами, що отримані в комп’ютерному практикумі №1.  \n"
   ]
  },
  {
   "cell_type": "markdown",
   "metadata": {},
   "source": [
    "### Порядок виконання"
   ]
  },
  {
   "cell_type": "markdown",
   "metadata": {},
   "source": [
    "Реалізовуємо ітеративну функцію для розрахунку температури за формулою:\n",
    "$$ T_{i+1} = T_i + h \\frac{k_1(T_f-T_i)+k_2(T_f^4 - T_i^4)}{a_0 + a_1 T_i} $$\n",
    "де:\n",
    "\n",
    "- $T_{i+1}$, $T_{i}$ та $T_f$ -- відповідно наступна, попередня температури та температура печі,\n",
    "- $h$ -- крок по часу\n",
    "- $a_0$, $a_1$ -- емпіричні коефіцієнти з лінійної апроксимації темпоємності.\n",
    "\n",
    "Коефіцієнти $k_1$, $k_2$ розраховуються таким чином:\n",
    "$$ k_1 = \\frac{\\alpha S}{m},$$\n",
    "$$k_2 = \\frac{\\sigma \\epsilon S}{m}$$,\n",
    "де:\n",
    "\n",
    "- $\\alpha$ - коефіцієнт теплопереносу\n",
    "- $\\sigma$ - стала Стефана-Больцмана\n",
    "- $\\epsilon$ - випромінювальна здатність\n",
    "- $S$ - площа поверхні зразка\n",
    "- $m$ - маса зразка"
   ]
  },
  {
   "cell_type": "code",
   "execution_count": 8,
   "metadata": {
    "collapsed": true
   },
   "outputs": [],
   "source": [
    "def lab2_data(a0, a1, epsilon):\n",
    "    # коефіцієнти\n",
    "    k1 = alpha * square / mass\n",
    "    k2 = Stefan_Bolzman * epsilon * square / mass\n",
    "    step = 10  # крок\n",
    "\n",
    "    time_array = [0]\n",
    "    i = 0\n",
    "\n",
    "    T_array = [T_specimen]\n",
    "    T_next = T_array[0]\n",
    "\n",
    "    while T_next <= T_last:\n",
    "        i += 1\n",
    "        T_next = T_next + step * (k1 * (T_furnace - T_next) +\n",
    "                                  k2 * (T_furnace ** 4 - T_next ** 4)\n",
    "                                  ) / (a0 + a1 * T_next)\n",
    "        T_array.append(T_next)\n",
    "        time_array.append(step*i)\n",
    "    return np.array(time_array), np.array(T_array)"
   ]
  },
  {
   "cell_type": "markdown",
   "metadata": {},
   "source": [
    "$a_0 = c$; $a_1 = 0$; $\\epsilon = 0$:"
   ]
  },
  {
   "cell_type": "code",
   "execution_count": 9,
   "metadata": {
    "collapsed": true
   },
   "outputs": [],
   "source": [
    "lab2_x1, lab2_y1 = lab2_data(c, 0, 0)"
   ]
  },
  {
   "cell_type": "markdown",
   "metadata": {},
   "source": [
    "$a_0 \\neq c$; $a_1 \\neq 0$; $\\epsilon = 0$:"
   ]
  },
  {
   "cell_type": "code",
   "execution_count": 10,
   "metadata": {
    "collapsed": true
   },
   "outputs": [],
   "source": [
    "lab2_x2, lab2_y2 = lab2_data(heat_cap_line[0],\n",
    "                             heat_cap_line[1],\n",
    "                             0)"
   ]
  },
  {
   "cell_type": "markdown",
   "metadata": {},
   "source": [
    "$a_0 \\neq c$; $a_1 \\neq 0$; $\\epsilon = 0.78$:"
   ]
  },
  {
   "cell_type": "code",
   "execution_count": 11,
   "metadata": {
    "collapsed": true
   },
   "outputs": [],
   "source": [
    "lab2_x3, lab2_y3 = lab2_data(heat_cap_line[0],\n",
    "                             heat_cap_line[1],\n",
    "                             thermal_emissivity)"
   ]
  },
  {
   "cell_type": "markdown",
   "metadata": {},
   "source": [
    "Будуємо графік залежності:"
   ]
  },
  {
   "cell_type": "code",
   "execution_count": 12,
   "metadata": {},
   "outputs": [
    {
     "data": {
      "image/png": "[encoded data removed]",
      "text/plain": [
       "<matplotlib.figure.Figure at 0x20c8af849b0>"
      ]
     },
     "metadata": {},
     "output_type": "display_data"
    }
   ],
   "source": [
    "data_list = [(lab1_x, lab1_y, \"Комп.практ.№1\"),\n",
    "            (lab2_x1, lab2_y1, \"$а_0 = c$; $а_1 = 0$; $\\epsilon = 0$\"),\n",
    "            (lab2_x2, lab2_y2, \"$а_0 ≠ 0; а_1 ≠ 0; \\epsilon = 0$\"),\n",
    "            (lab2_x3, lab2_y3, '$а_0 ≠ 0$; $а_1 ≠ 0$; $\\epsilon = 0.78$')]\n",
    "\n",
    "style_iter = iter(['--', '-.', ':', '-'])\n",
    "\n",
    "for x, y, l in data_list:\n",
    "    plt.plot(x, y-273.0, next(style_iter), label=l)\n",
    "    \n",
    "plt.legend()\n",
    "plt.title(\"Процес нагрівання\")\n",
    "plt.ylabel(u\"Температура нагріву, ℃\")\n",
    "plt.xlabel(u\"Час нагріву, c\")\n",
    "plt.yticks(np.arange(0, 601, 50))\n",
    "plt.xticks(np.arange(0, 1400, 120))\n",
    "plt.grid()"
   ]
  },
  {
   "cell_type": "markdown",
   "metadata": {},
   "source": [
    "Час нагріву до температури в перших двох випадках співпадає з результатом комп'ютерного практикуму №1 з точністю до хвилини. Урахування випромінювання в моделі ($\\epsilon \\neq 0$) значно скорочує час нагрівання - для даних параметрів час становить 15 хв. "
   ]
  },
  {
   "cell_type": "markdown",
   "metadata": {},
   "source": [
    "### Висновки\n",
    "Побудована детермінована числова математична модель із зосередженими параметрами для визначення впливів залежності питомої теплоємності від температури і випромінювання на процес нагріву металевого виробу.\n",
    "\n",
    "Урахування випромінювання в даній моделі значно скорочує час нагрівання зразку.\n",
    "\n",
    "Урахування лінійної залежності теплоємності не впливає на отримані результати, отже для задовільної апроксимації достатньо середнього значення на даному проміжку температур."
   ]
  },
  {
   "cell_type": "markdown",
   "metadata": {},
   "source": [
    "## НАГРІВАННЯ МЕТАЛЕВОГО ВИРОБУ В ПЕЧІ ДЛЯ НАСТУПНОЇ ТЕРМІЧНОЇ ОБРОБКИ-3\n",
    "\n",
    "**Мета роботи:** освоєння принципів побудови детермінованої числової математичної моделі із розподіленими параметрами та визначення часу нагріву металевого виробу.\n",
    "\n",
    "### Завдання та вихідні дані\n",
    "Розрахувати час нагріву заготівки $t_h$, яка нагрівається в печі та побудувати графік залежності температури від часу в процесі нагрівання в трьох точках, розташованих по перетину системи ($r_1 = 0, r_1 = \\frac{r_0}{2}, r_1 = r_0$). Розрахунки провести використовуючи ітераційні формули чисельної математичної моделі із розгалуженими параметрами."
   ]
  },
  {
   "cell_type": "code",
   "execution_count": 79,
   "metadata": {
    "collapsed": true
   },
   "outputs": [],
   "source": [
    "# geometry, m\n",
    "R, length = 0.05, 0.1\n",
    "\n",
    "# lambda\n",
    "thermal_conductivity = [401, 366]  # W m-1 K-1 300 K and 800 K\n",
    "\n",
    "# інші потрібні параметри співпадають з даними комп. практикуму №1"
   ]
  },
  {
   "cell_type": "markdown",
   "metadata": {},
   "source": [
    "Розрахунок середньої теплоємності через лінійний закон:"
   ]
  },
  {
   "cell_type": "code",
   "execution_count": 80,
   "metadata": {
    "collapsed": true
   },
   "outputs": [],
   "source": [
    "lambda_line = np.poly1d(np.polyfit([300, 800], thermal_conductivity, 1))\n",
    "lambd = lambda_line(np.mean([T_specimen, T_furnace]))"
   ]
  },
  {
   "cell_type": "markdown",
   "metadata": {},
   "source": [
    "### Порядок виконання\n",
    "\n",
    "Реалізуємо ітераційну функцію за рівнянням *явної різницевої схеми*:\n",
    "$$T_i^{j+1} = \\left(f + \\frac{f}{i}\\right)T_{i+1}^j + \\left(1-2f\\right)T_i^j + \\left(f-\\frac{f}{i}\\right)T_{i-1}^j,$$\n",
    "де:\n",
    "\n",
    "- $j = 0 \\dots M$ - номера кроки у часі\n",
    "- $i = 1 \\dots N-1$ - номера кроків по довжині (радіусу)\n",
    "- $f$ - параметр, який розраховується за формулою:\n",
    "$$f = \\left( \\frac{\\lambda}{c \\rho} \\right) \\frac{\\tau}{h^2}$$\n",
    "\n",
    "Для визначення крайніх точок $i=0$ та $i=N$ використовуємо формули, які випливають з граничних умов задачі:\n",
    "\n",
    "$$ T_0^{j+1} = (1-2f) T_0^j+2f T_1^j $$\n",
    "\n",
    "$$ T_N^{j+1} = 2f T_{N-1}^j + \\left( 1 - 2f \\left( 1 + \\frac{\\alpha h}{\\lambda} \\right) \\right) T_N^j + 2f \\frac{\\alpha h}{\\lambda} T_f $$\n",
    "\n",
    "При цьому враховуємо умову збіжності даної числової схеми:\n",
    "$$ f \\leq \\frac{1}{2}, $$\n",
    "яка залежить від вибору кроків по часу $\\tau$ та по довжині $h$."
   ]
  },
  {
   "cell_type": "code",
   "execution_count": 184,
   "metadata": {},
   "outputs": [],
   "source": [
    "def explicit_scheme(T, tau, R=R, T_f=T_furnace, T_last=T_last, alpha=alpha, lambd=lambd, rho=density, c=c):\n",
    "    try:\n",
    "        N = len(T)\n",
    "        h = R / N\n",
    "        f = (lambd / (c * rho)) * tau / (h ** 2)\n",
    "        if f > 0.5:\n",
    "            raise Exception(\"Не виконується умова збіжності.\")\n",
    "    except Exception as e:\n",
    "        print('Помилка:', e)\n",
    "        return None\n",
    "    \n",
    "    Tnew = np.copy(T)\n",
    "    i = np.arange(1, N+1)\n",
    "    time = 0\n",
    "    T_data = [np.copy(T)]\n",
    "    while Tnew[0] < T_last:\n",
    "        _k = alpha * h / lambd\n",
    "        Tnew[1:-1] = (f+f/i[1:-1]) * T[2:] + (1 - 2*f) * T[1:-1] + (f - f/i[1:-1]) * T[:-2]\n",
    "        Tnew[-1] = 2*f * T[-2] + (1 - 2*f * (1+_k)) * T[-1] + 2*f * _k * T_f\n",
    "        Tnew[0] = (1 - 2*f) * T[0] + 2*f * T[1]\n",
    "        T = np.copy(Tnew)\n",
    "        T_data.append(np.copy(Tnew))\n",
    "        time += tau\n",
    "    return np.array(T_data), time\n"
   ]
  },
  {
   "cell_type": "markdown",
   "metadata": {},
   "source": [
    "Розраховуємо час нагріву з параметрами моделі $N = 6$ та $\\tau = 0.1$:"
   ]
  },
  {
   "cell_type": "code",
   "execution_count": null,
   "metadata": {
    "collapsed": true
   },
   "outputs": [],
   "source": [
    "N = 6\n",
    "T_initial = np.full(N, T_specimen)\n",
    "T_data, time_heat = explicit_scheme(T_initial, 0.1)"
   ]
  },
  {
   "cell_type": "code",
   "execution_count": 203,
   "metadata": {},
   "outputs": [
    {
     "data": {
      "text/plain": [
       "25.32333333332856"
      ]
     },
     "execution_count": 203,
     "metadata": {},
     "output_type": "execute_result"
    }
   ],
   "source": [
    "time_heat/60"
   ]
  },
  {
   "cell_type": "markdown",
   "metadata": {},
   "source": [
    "Нагрів до заданої температури відбувся за *25 хв*."
   ]
  },
  {
   "cell_type": "code",
   "execution_count": 168,
   "metadata": {
    "collapsed": true
   },
   "outputs": [],
   "source": [
    "from matplotlib import animation, rc\n",
    "from IPython.display import HTML\n",
    "rc('animation', html='html5')"
   ]
  },
  {
   "cell_type": "markdown",
   "metadata": {},
   "source": [
    "Зоображаємо процес нагрівання в часі:"
   ]
  },
  {
   "cell_type": "code",
   "execution_count": 201,
   "metadata": {},
   "outputs": [
    {
     "data": {
      "text/html": [
       "<video width=\"432\" height=\"288\" controls autoplay loop>\n",
       "  <source type=\"video/mp4\" src=\"data:video/mp4;base64,AAAAHGZ0eXBNNFYgAAACAGlzb21pc28yYXZjMQAAAAhmcmVlAABFBG1kYXQAAAKuBgX//6rcRem9\n",
       "5tlIt5Ys2CDZI+7veDI2NCAtIGNvcmUgMTM4IHIyMzU4IDllOTQxZDEgLSBILjI2NC9NUEVHLTQg\n",
       "QVZDIGNvZGVjIC0gQ29weWxlZnQgMjAwMy0yMDEzIC0gaHR0cDovL3d3dy52aWRlb2xhbi5vcmcv\n",
       "eDI2NC5odG1sIC0gb3B0aW9uczogY2FiYWM9MSByZWY9MyBkZWJsb2NrPTE6MDowIGFuYWx5c2U9\n",
       "MHgzOjB4MTEzIG1lPWhleCBzdWJtZT03IHBzeT0xIHBzeV9yZD0xLjAwOjAuMDAgbWl4ZWRfcmVm\n",
       "PTEgbWVfcmFuZ2U9MTYgY2hyb21hX21lPTEgdHJlbGxpcz0xIDh4OGRjdD0xIGNxbT0wIGRlYWR6\n",
       "b25lPTIxLDExIGZhc3RfcHNraXA9MSBjaHJvbWFfcXBfb2Zmc2V0PS0yIHRocmVhZHM9NiBsb29r\n",
       "YWhlYWRfdGhyZWFkcz0xIHNsaWNlZF90aHJlYWRzPTAgbnI9MCBkZWNpbWF0ZT0xIGludGVybGFj\n",
       "ZWQ9MCBibHVyYXlfY29tcGF0PTAgY29uc3RyYWluZWRfaW50cmE9MCBiZnJhbWVzPTMgYl9weXJh\n",
       "bWlkPTIgYl9hZGFwdD0xIGJfYmlhcz0wIGRpcmVjdD0xIHdlaWdodGI9MSBvcGVuX2dvcD0wIHdl\n",
       "aWdodHA9MiBrZXlpbnQ9MjUwIGtleWludF9taW49MjUgc2NlbmVjdXQ9NDAgaW50cmFfcmVmcmVz\n",
       "aD0wIHJjX2xvb2thaGVhZD00MCByYz1jcmYgbWJ0cmVlPTEgY3JmPTIzLjAgcWNvbXA9MC42MCBx\n",
       "cG1pbj0wIHFwbWF4PTY5IHFwc3RlcD00IGlwX3JhdGlvPTEuNDAgYXE9MToxLjAwAIAAABlNZYiE\n",
       "ACv//vZzfAprRzOVLgV292aj5dCS5fsQYPrQAAADAAGuIeBAvxEuBYCwS9P8aHunJ4id+i+WGy3f\n",
       "/qp0XjsJGSPzjx9IU1t8mKpIBiQb5klnpQe+LT6fw+rH2x029Q03qgzNslREHNrM5oU5IXY2cnCp\n",
       "tDMWMq4BnRAwE3pRZ0VG5/gOSPx6cbcnG0LihCAbpL8bGJQoSIfZuxT0+vFcmbPJd3ANXeu+ShkB\n",
       "EfbGQMeCecP1ee+pFVhLpqAvJCDx4EFCxPeQKLKl31UbvWwMNOXzEzYM0ZFKrFLOTHzl37BgpdqY\n",
       "BJi1sIXyq9KKjWDyZgUFJMA0VKY4t7DljujP8f1ylCNLKQ104QnnKMeIx6ijtV6yu2evvwQZJJCI\n",
       "kVLOVy9e2vcaWrDc0pbOBTPhOt4LPpBnlJPh/YH6KOTmHvgl+3xYCoTcqYiXDhOkoRlAruzGfCmS\n",
       "XLeYMCbERi4ObECbsSeW+rh32HmiYcQpK1BHNSz85QSVEND5yEzK21OIeEGdnFKs+nZhtxsiXy8o\n",
       "gnO8z/WnjREIUqpcDJznG7DVFkepVqzDRB2Zc9tvANAdjgYTAaLOQKdV7ejTkXjaGoyUU+F8PiK9\n",
       "RYecc6p9+tlSHq/SWbqAHx2RcsD0lCeOI+8DAGxb+DBHd46Yzfus1s3RBLlwnfZ0GPV3S+H9JhJl\n",
       "zEjYQ0D9MqoS4yKMx+ycvFwW0uqB3eYG18k3nRh7zipV7znYA/Iq6Y9qfEv58tCbhu2Bo5XUkKEb\n",
       "oR0rWKkg/dm+pcgjvgayjzsbzetSu2EnKlT7nCTSZ2OY66SohauyjDJWkXkMn1oxH/ktlhkxeJoR\n",
       "/MoN8m9BUWEiQ2GEfvCtCNNzbO9MriTQ4JDtbmxpK6QsASJwk773/0y2MSngYTUu6PufBJodmm+5\n",
       "CDJUGt/gq19F5GrOvNj1tMDgWio5wKRajVWey4vNBMcPLXA/hj0dhscANbbyEFvLbQTachcETyia\n",
       "44RJamuTtW7fwcOCYbacdDkO9JCVt7RZNyiFAdJMERXHxb1bwpgKo1oNuKtHqYLJjLob+lQ8R1wJ\n",
       "YQAAAwCW4itJDBWopbHKXkXeHvN3C0qsWAxaAZQr7rvkjUrDsCTS1ubrIoTVPZjbaSp2fnrCpWwP\n",
       "jnTTlCZx0uHmcwkA9i7djJOH6rrJGuvqv7axRZm18Nu1mZLuBOkslY7BalWUp6KZ5XemQySU4E4h\n",
       "IZH8rTEF7WEyYSWBV/XWG+WOPtrnCSCR2MKaUHeJuELnh7f/pWGoBNrzvfDj/ER8f92CSxrWweR8\n",
       "FzS9q2rnXfwt7n53DOofXcwE1DCfnxQ/u0b1y6CF3axEO7fZRtB6s7DcepumBAwnoGZ1+er7dBRQ\n",
       "tG0rv4jCpGgjtmaWu7vr3E4dctplNVBlzKbkmk+Vgnwj88FaeiM571dtLi0gGXLp3DDUMIyK9KNe\n",
       "gUi5RYXOFJgVMC1LbCOVzLBwRxksKQnqLATmnleUq50K8REgEvsTHyAWvnvvhdDnpc+GPEWBG/n+\n",
       "pCEUZZY5egRSyRFw2KZZ2jdpV+DtvFwZ6VlYL4xJoQuJj583WcugbBhpkA/InvGFnKQHC6KFvhKw\n",
       "8pO6ptt5u8n8rmFuv7s+K8qBp6k/cQugnaZ1j18HJNr+D3qvoQrk69oHWBcwxXf+6hR5aroKKqtn\n",
       "C729CpgtFk5uYbZZb0gnWAmlg6stdFUMI6HvwALVBbqDy5N/Aj/5Z0YSA0h0XZgRi91my6F9bNoJ\n",
       "mdHc71WaDvsyWfK0dirD+kjf05dBnfMYUuOxVEmpCoo2pt0Gnkio3bw7eQYzBXAyjNnOz/Q9lKkc\n",
       "PDNHwampGmXBX5xZ3rbHXC+VeWTdTPxrVSX1rH+oVk82pAZLkmjW3/FJ0xBSGGu190eUq2MLx+Zu\n",
       "Qqm6Bcb0N+ahGpBu059KeXnL/mAjnBZNYq/h45QrTjovZ0tYtynUvVqd1uEvoeTKwY14W6SuCu2F\n",
       "uRV56Jm2iaqDGE0jP4BdvXF9rnaWqA13v7P4nye3h2K3MQ+hPQ25bPdQSsRuGv/tY505MMSDadMK\n",
       "9pxJWd1WMy/SbZG9F862HxgeJ0Q01BKDr1P9aFNfrYCPjeZ58MX6fu5T7Obtqf8UVIG5uBs6VEGc\n",
       "NRHdbGJBEcRQxcgix8YSWxpHlkQ5yrf5M0T7CtnJgrAHuBR4DTt0Kp3oFrO5xBE7/FNfTduojpxR\n",
       "2q3xCZ/1Mw5XNmzmrk8YUozlTNI9N80Gz39+lA0Do/AdVDl2VY88TBdsRAinCsVAKh6MOTuGqVKe\n",
       "ZYO4EcuYWZB48zbymtudtpUn6Cc50JMBsZwc6VOVjVMv3fzvJkcvKGxm4PKVD3WKE3VDlEYzMUv8\n",
       "Y1hNAxPPAi9L5LT12IZJuuvs0c1MaC/w9AGFhowcsOn/Ck6mdHEmiKNa4/jRrQA8Bzc/tGu16Rxo\n",
       "28IWoSL/WeaMXR67cjnwGzlRspy64MbXcbFUw7L6odPTyN8rO7nxMh6qNIM6ptMaBGAOB2l2i7EH\n",
       "BZbSC/iedtJ+j/SHPojtKZnewBFirKXxqQFnrY9NEVW/XVay/srFoAzPeFe5bUuNsDYH9vXskUwy\n",
       "MbdSIgfI8x4coPS2jDmZcWaIX9ch+Xc38cEV7OweA/aAWm5AEWSub/1POt/l4VQO8cgOtYCB6fMO\n",
       "g6ibmAFUF3kJrab/z25elRopT6Ga7Eq4Qtlhys+kovz9xd0Hr5quQ1X5T0v4LMRgMG9iFrooA+Ef\n",
       "bG7c71Nd94mBd0zW/7D9zQQr4C/ATR6BAHtfy95bouOC4ANaRP9jl3Nuigs3sJPzk9osJwDrUqU/\n",
       "/h28rhutn8B9vLioM1SZ6mBhUBTGfNmivNBwE8am+NPVZCCQ89uddM3yDGFJiABc4luFhI2zrNUw\n",
       "LbziXrNj0cFYr66WPG7mYbumxaqBlAYuwbdwgulCF0MBhOVfSRsw4V+iCxHluvFBFiEnO4LiopSW\n",
       "j97o2V5PkU6PvbucWs9ozwVxl20XV8nUvcmV/jtdDKd16Pbv4KlHogjvVCW7TOj/+jr8LwaMH0O/\n",
       "A17rCN2ZnbDLvq5fxfvzRCFYnNiI0onmeKPwcuvmSD8UboxYNadJrHsi5+MFmGLe8P/aoHD9gHM3\n",
       "YL6UjNM3VlCkKUWlqRpQwKsCnzLT2YL3wG88yiN8/HsZLbS9GkrrZ9JKWyJzLCXTXktLDjbFg85l\n",
       "lU3djNJU7clbYExN9zpDZF10daD/SfP5mAsFVLhqBF+iX2WVs1CZNk3M4NpxdjUjFnwHnxlevrNK\n",
       "JPsqmq0Kj+ZviH4jXzcXQtDolOwzn7GpTT5OCk2cNiIL5QHW3oMb11d/IjFWYSth9waGRKEBsnoO\n",
       "AhHHFmFlvmZhdTzxR0i21qVe/sLc+P7J2JfPq1QCDoamVjemPPRAHQhM8YPHYNShnYjp6TzZFUVW\n",
       "9K75NpJW+hOgdNnH0c+i7ezWi+wZIUHS2Dj1/U5HE8ZsFebiTCUJiMVtHE0LIN2L0Ure/q6cH5NF\n",
       "uuhsQKnAyJWTRTxoBdPj8OZmD65s/E0HWIULR2XXPwaUXCJtyu6vUhsqn3RBmbrmo9ZkYnv7KBlU\n",
       "JZW0/8KFYEmu/IlMmwIhM+Ok5u1QTUzucOZvwamhyLt5JgItSa9ct36limuW7ZO9reJvPo4agHqR\n",
       "3N5oF5xGWfAQky/y8zAFcQUdTCPQ+dyeS9KRNbX8qBdSa5758yoqg7YZAVf2uytfT7e51Bq6+oSo\n",
       "EyfiZiYvNlUIwVKdWFSdwZuKiYeQR53fmGFvOXo9dmIIPu378Wyr4eQaKAiUQ8YWC2FqVhnWukG1\n",
       "VocJm/T3B78f7d9rH/dKOUZQjQ1sACjI5IASlZwez33ZK3Gi3SumxL67/izNU1db3bgYd9K9507V\n",
       "S89kHohLmE5aTXcaNNxp8YcakECo7zK9cSIUqFg/USAEitb22GN7TFO03W/8RoHmpkhnVy7ojA+c\n",
       "x4EBMoR4cvUEnUwl1QBU0YqbKlMRizlcPRj/ndkIEbziRxUJq8GtoVr3Aababj7shwUUd6lQu8hJ\n",
       "mvb5K5NFwjJsHm4HHeaX6KbQVfr2WEOdL/YZRMqmqMTfYrI2zTYE4dy6keHM/UkazPrZBHLNoTzL\n",
       "2q7HkhZLceIB7hnT8BwemOFyLDfjZCmWj9TEmaI0pQqe8KTn/G0wQ8+bO+U0VWLfNT8QlzGVTlba\n",
       "YWY8aqDiATPtzSzDI9NFRSeJIRJxazJLOZ5NI5Mi3RdTeNL/pZPQAxlOsGy33xqJjsEEdc1TKrky\n",
       "zhdJL98Pk3MuRFarRD/5CmEEPrUAX/RibX0puE93Z2sEigCtvN9WGQ4zNjDIVNvK7FWlh1j+jnPz\n",
       "fMoUu+58jyG43hWydVOSAwxORXCVe4yWFFpqCwEB2/M2ebRckqrILQZ9/Rglsu9Wl/sL1rvCmWVg\n",
       "6sxxSSuHPRXjw9+z0RDRvlt3aG0pVIu3FyongRe9QaVq+9oKAe17GXJr/+hfIR2xl9fAH/14YN5B\n",
       "jUkACwf/QJsRM37Qjf3uKY7MaP3D0gdu0MGGNwMLNUeaDFPebdbjc/fAH81ksOjlSf8EPAC8IjBb\n",
       "faJ+Woxc40hsb0UIBlkSRDE+zkM9Qr3tN7JCKG4Bzsa/AsG1eghBMCNUH4/5jdQJwzw0PmDLLl8v\n",
       "zJFpo45erOAa5msSNpW7U1FwLz7uBDJAB2dyLWdZorDd4HwJJBvIi3gsvBBBHmwZYhRw+rdVB92k\n",
       "6y/+1nX7jj9pR7rPlepG8kGolC82x4DklxUPVYCvJEfzVz9QGLVNtDoCv/QsBX2sC/w2eKsIpLSN\n",
       "b20a7Sm0dZV69J8BMqUSKQxc62pVj2DvpE9G7hBPDeSEJVYD5dsnSWhNRWkV0TmlVawpX7yuOpwk\n",
       "L4+BhTXI0nWRYPEmkiKofhmhxGR5M+ORsej+u9ZipCz3KfW86josu4QuptV4fhxN13WfSja7EUJ8\n",
       "i8B9KX+RyHAUpB2PAaCKy/CVEKCIP5g7iRUdyf2aC+84zcDEL94UhE+WCQ9+ZuZXIHaDyJNAuDxy\n",
       "LFwprJGm1qxUGENBwppU/f0kemtVMlONbPAE77nQB5Q1zhE54aDKDf2SCSzbHGfMUXhSyOR8CfUq\n",
       "GOMV3Ox6RQZgpXnvoX1vLr784dok7JAdP+AN21H72yhKOVjV4sXdamXWbMLBvgYNDQl/5QWJsCWr\n",
       "v+zQVeOoAx8X69uU7s4+fqevKv1FHYCAdxvuxiZhxRa/87Usrm6aXCpoSFFCK3yUu4iVF1FSIog6\n",
       "7OTOZtHrweYg7LAZoo0+JhxQnkbMRGR2IX598hP8227UBTNvI91aSpEfweej9Crakm2NQ6OEM3QY\n",
       "2u6SJsAeEfyT16UkqRgIzZOswf0hflyx4XHKcFEDGrvx8vCg00mOxux9TUmYFzYwP5UR7I4+GqPQ\n",
       "ZavuwhRqdX5QcMu+ztkJyFbUm8crz56Yx7NVn8+NvxLKFrIePp9Q4rZUZywzqe3J1FTpcCWdZK2q\n",
       "KNbwVY8v5Cpta2b5UN8kKtymZV0IE18fJrEwlWN3E3JuJgwPzuqN/cJnxwc4dAXNicGDyl6xlF4V\n",
       "9sZeCX7ZMw9skGHiowivVMEieL/GjhLt/vgq2n9axIHbBYQno8YF1gXy/HlkKdj3yEbevxrbcdh5\n",
       "cCsfqGz9ZPoGoU8y79fn9JrXU0Jaid2Tj/L/ozDVIm0nb/BRTI13+cftHyrwJstWAOL59MP07O+r\n",
       "qhf5GAtnHH79YKuoT+/ODtyfhNvE6mploWRwcIM/n/cmjkmh/GeaVDxaJBR+IK1uWeNz3KmErTnH\n",
       "yoAArDJ8Nn3gmsZ7FO/5yGbolWstY0oNuek/UOeniJtnSLEH24TSEGjYmLI84YqF2d8Li4oeVmlU\n",
       "BxAfkle7FBgEbDYTZSHb8RSJ2p71XyAkvG6ocgjasXKuLBQizisHcYczGJzTRLWIm7TVxZp/DAzw\n",
       "qMYoK54uH4//IyaB6oKyVyK9RpAKYZ3FnHgd2e2PoPmBKxdktJOseHihnszHDe9X+y+cbFtvjZoj\n",
       "LbaM7aGdAvFUPDCpF6nocAMyUxh7RV+41byDk07/Xr1vBlDT1BTjjaCqceKhTolQKpDfCOyIf5Op\n",
       "XlomfzMdrDW8KLZVzgTU5D1E94uBC6e3iFhGH8A1evKGpdSrpSJFr91P2sImkvFSvH+YPjBZzw+c\n",
       "5Buy6dZUdxXidEyvvsubUGwA7T0ZCvI6Q4DlIpfDcJPZTWgT1oLS6ck9ozoBOW+Q5TuemGRNNgbK\n",
       "wXo5BXjQUgHUJO4B30XGbAREDQrG/41sWyqoS4d2WNrz9WftRfLaxIJBig1zWj9rKe+g6CoO+nzA\n",
       "+X9KkB5K8GqOarZS2Hb1E/zEYU9VtjFW3WVwi4ADS4VQAtwdm6Fti/JwUbPrFhEPDxr238cG0Mb2\n",
       "icCfEZIZvANZItZXq2ZhnqHJ4pnD4xaw5teZAloEeUa/GhHRaxe0AJy9Q+x3lmOz2hZ/5AsyXyJA\n",
       "A01HqI30MbjtMvgolxLAa8bW10fPqwYNwfPY6qDYh6qrEuoEi7gVX1NxK0fTUsltZy5BZwV3vxCf\n",
       "1974qaG/5oTLUNvSJ0HmwOLT8B0YYUFNZXRgw3392CpiDXGA3dHgoAlElEEVdlTv79iYyesTCI6I\n",
       "RdUjovMPEwVd/7bQNoeDAxAYv+BCpz2vgBCVi4G2SC+Ci+F2lhDT+pmOOoHedcyZ0jiEL4aft19B\n",
       "DUu+Qyl5FFxgJcmRteNL917832vulEjMy0Q3GIo3QXUKljAjk/CS7emCLdECbzmVyZC1jT1YzYKT\n",
       "u4wZAN6lM3CAhdk+x91RBAZkyXzcXx7kdZljpjPFNsDAszxlbDF6rbY3OaT/1ExFU4ah/POOJ+Mu\n",
       "NjQLK+ViktacWyB+zGvXyelVerdlKJKApibp8Cp5aPy2Hqf78LjWMqzNNFOrvpWJK4dzpKR3Zq+t\n",
       "WIBFm0IjzQS90UHmWYGuGB4/+f7kPixnp80nKsVHUsVPhu8Kh53gQfrT0LYGl7x9XstmuenPqwtQ\n",
       "dNXULV+4zI2O+MUxAYehpsFlT/POaNa6fOd2uKZZumUgf+qXK471VFmknTSF44CiaP5MLVSFM3CM\n",
       "eyxwiZHCviYr8iSRDnW4VetYHntrrjKQb2qI4pt26FVXSL6gJVKh9HWE0GwmJWvQCqlVN8kui99y\n",
       "zx375GYTO9WZwLtFJRtQY/r1VgzeHz6UD9z7R1MTcFXmzXkUeYjWVqXW4pOY4F8V8q91Tufj/x/j\n",
       "lR+uxzQ3jPuxfs3LShmF75ccvt0n6IPNBwb9OwYlgEYZiua5lVkCZmfuTE2sP7zIGhPBoUiFxjMb\n",
       "KdBsZ2SSaUoIujmnsxbFt7ToFKBw4yga0vzKscDJZhBHhfNs6Hahzo6ShRcPxOPSVXFceNGdlVP3\n",
       "ZE7b919HkurngLXgNHWBmDOIEX7+yGmdFOVLmR9noi5Vt+WOZN9AQpflZP45u4HIB+qjdjXMI+QO\n",
       "+ybC/RPnSE0CQ5eZ71Ul2SC54IK10ausUN3QNZ1ie/Ic6DMNriygPIwAuGPbpt5bF/b5riWGjrFE\n",
       "ogiINzDoeLBWyonoYQkfmJ4O/+Yuy4b1480h4zLCXOMfu0u+ZAx47SFNBpeJyo7xbifFWh39/rkx\n",
       "7bkuLEyF69Fj1BK8gGYOIU9SH+cetQJ1L+BRglgRrlXlVFyMTF852cYW+a+G7f7qClIPso+1T9Hg\n",
       "bxgqC5RSr6eEGrtbzGKmV+Div8ix7O1V7hRYUJ7WeBHmCX8QbP2TQ5Zjg5aEVuQdibsSK1kk80VR\n",
       "0pig5BUKIaimEl1azLNG5aqbV2zdjXMVVJ8nT4xeoRZ2kumQvCXOicZ9iJxgTXCvioqP65Vz1fmN\n",
       "HcJ0Ry5IS0l1h6kWD//xgnVuiCMbnTcYLrvaFJbuDgzFt+X/AcZJTZKUGlhVi55SZnLtPYJFQAkV\n",
       "9l0IJMAR+NPp1/KAT8hjtv3WmdNxftVrb0ycmchit3S6Cfo/gqXZeWnnU8NBohfVS+H2rZlgxwiW\n",
       "zvrLGBkgtw3uda3Pre3zz9xxTyv2r/y9FoR36BlpaR1EVoI9b1nnTpxDn2JpNLTQT7Lap57Lv+34\n",
       "LP7wfmpzmH6EYEksmX9jr8HtNXel+Tkqg4c24CgughFZ8mVdbYlpDHRRe3Yi/9wF8t4HNYq7o3W4\n",
       "PC+ciYerhWBHptTmx8hF6IdU4f4NIJfaWkn6gdLDKtrAkthv7pDgLqa3py1T4/pCUnqgNIeusLo7\n",
       "cSnDMcBTEr14rFXsT1NbdUP1Uc8bNNQpPVMQ0d8I9/BzsE3tKcXd3rBvXERteSvyv2bDPmjBWRDx\n",
       "PpIuLPDcSaIj1ISUzont6u8xLkl86rYB9qtLMLq95hESBCyb0kGeuSkDFFX9Fu1W3lmfGr5UD4ag\n",
       "da6roE6X3lT9hVvLG4mDFyhG9SLXuSYHEOeJBhdAGXiO5j65kEdzK6HNGM6xghxvxRRl8N8UtHFP\n",
       "rpUv+bEaC0dtJZS6R2Yxo6J7WHlrayuL/f0bOv3djn4r66wvR/cqWwgPLNNQZL2TCFfw2VLHh62c\n",
       "LFSGv9IAN8RJvjM1LLfdJxVPrlXy23SU3PqAiN/FJUWpHFStIvLxQM+Fb0zub+l66T+oDy5UUAgD\n",
       "A5JNLW50DkRa4Cen87HqfOafCjn67MvkazRQtapKAGHBAAACfkGaIWxCv/44QB1q+DgJ36Unny8i\n",
       "msR7+tzXA7pJ3fLnX4cvNMn8MQgozL/HmmfpHN7oCZ3YNcv9NVMkhHMKetnFbsh5xhCRoISn3Snh\n",
       "v2cQtxqFwCiSxFk9jWYAwgS2vIrtMdu9yoV+akQ5lwXva1FmFAG3Qv/N4YolAerIc6zCEOjnwyAc\n",
       "LgUFvdHCuJw1zoqmjfhWWxumhRTLmr+ua3LIJUMMOIHif3dt/VzMa17Q32pQ6gu9QLrE+RH22Vhk\n",
       "F5wKrfRqleEzXTdv8/4g9ftvSCKnhXSpsveO3cu4EQ/NY0y7LyVP8hf8nyFYbvwDy/ykNSJ3AL0o\n",
       "LtMlv+VDh+iQ529ZJpmb2D/9j7r+/tenAPznrZG+AZvvUyAaKK9MLOT0HHBUTetUl7cCWAj4+oD2\n",
       "IHVuv9hx85dJAQz4Sr382Rldl+7EXiwHpGIoPStEwwyxO5kbFyDuL4tZVqze1LKb7aCkXbmznO1z\n",
       "LZsrrNeoBG+EYK0hef/FUihBtCNhzUNr3OAPUbgArArVCh2OuEobAVuzqbsY2E3SH+7j6uJHImlm\n",
       "x7A2D5NFeXJc18YHoGPnMpgeulCFS+4EJojiDsYXMM+tYwQ6ZnM6CtP7JxTehvVG7bbag2u6qY5v\n",
       "gANuEIU3AadejAhy37ORnwsBebUpxIcWWDXzTF7bmymgqKo08Ogoc2FlsegmI/cdcEybiSP3+4v3\n",
       "qPSreQekZrRSutZjZT+UBdC++tPO2ffoPUY8kcTJ4RcaacqjssVgulQJpazthn8qKyFXB1VWNeMU\n",
       "XK8SPVfGUTYJQoazRFvKpdgzxMMgNQAnz1TggvofhAPvhQDosaEJzjLJcGk0e/xQAAABeUGaQjwh\n",
       "kymEK//+OEAAJafsxMt/FU4CohIAENz9IhJNSVpAJUn2L92rtuJj9tYzW10Lil+K/bub1FFoD8QN\n",
       "WmzrMDT36AfpTM+rx1hbfT7GDif9J6Fx34MnfxZglc1T+114YY6xuQ+hGGM/6s9wDEvMpOt92qXJ\n",
       "Rl+8KWKNVng09IbupI+JqPuJvUEltCkLejeTJCduzQt3yWpBFnhQXXqPZmR/IvjlfeUB86zBUycM\n",
       "YAIXJX2vosaqrbILC/8sKUDGplv9ia14hYj3nD1oZPg5yIas78u6o+m24eAeGdxBL+uzfcqFv6ow\n",
       "Py2OCjdeqsN7c8piEuQiIZcV9DYM7s5idm6feYvWAorqXZKIKYhRXnufXy9tmezG9vIaWG+8SWqA\n",
       "y1WapZC4knymYdLQj2fu0adh/+Wbz2mE89pThz5y5dl3oJPcogSmu2MqTCJzND/zW5b1Iavsmubq\n",
       "jAGs/dUQluvVF9yeweQsJ53GQ+aYlIpsQwscIqOpAAABQUGaY0nhDyZTAhX//jhAAAZtngcAIU78\n",
       "mQgWG7B7iBYf5NsNuxljobKhgL4mT7ifkbyePe94BoTpRBKtoCChzqsGTj/2XlqEFgdx3t1h0RRN\n",
       "ie5EefhVVrDen5F2lvZcTOMAx0OsusNxD80yYCp8ZzGDc0FOswemB++QJRvkI5Pypt27+GLJJR/s\n",
       "XzuOQeip4M649pD/jhXPHnbTd+gAYwkIy6G8yfAL0SpLZyeKaQf9M6cOzqQORjS4/M+CTx2GleaT\n",
       "Aw609q7wWs3eMOAWYXbKT9CelkGVCgP/GucPFlHiIGkzNmt9Pz9v8lV/cRPJ4jf3zZtRST1sKmUe\n",
       "Wnv+Eg+Tbrvn491V2kB/K4bmLctIx5dyb2dsHCkk7tUv+en8jDGUcJfMoQrVY26FsdY4xe+hJhn7\n",
       "b+lIGp+hfFwwB8qMgAAAANhBmoRJ4Q8mUwIV//44QAAGbpRLMAEN0C9Bly5mS3cxXwoluGGC+g4b\n",
       "yKQJm2YgGeVTni7L6ZnwT+3Lfax3eKcuhU692msjBq/cxoGpfgInLBQfjKdj+DafN+v5cFgNHqUc\n",
       "aJmwHaoCM0xoIMMH0UGlGYW7I2L5RJxmSezKJwtZ2WQ8sGi/TbuJm46IhpzXxlpMTgorAuDhu3dI\n",
       "v6/q4dZDy62sLnCGaD041FYaHsQfs+2qHtGILmlKXSJdyTXsvPc/1ETHcmHzfZs8fCBTVdxd0t4/\n",
       "b453bWkAAADxQZqlSeEPJlMCFf/+OEAADO6BI5pCu74AEQVMvuebDiPn7NHxxPwKrfRqlczbESyO\n",
       "lmmfOhzQ0fJbtYLQlpQj20DE6AYbRgAmYyqDfk6IGSWla88sJyjrqYG93sjfXpOHgFZcFD5IZyLl\n",
       "iCX8RMgxh+GTLLqhvnD4wc5b7S9G0Vx7ONaFWk1qF0IJZ9yAzhW5VimLLQjqthvckEFJykvbJWUQ\n",
       "UBBHQCU3iH7antuFoIEg33+ju22sAlQ016duJ3Ji9eKOAvc7ttRGoVJApU/mh2hN4QKenhfHj0d5\n",
       "KYl1Wc4EeDwn3IGYJgqM8P0sGAH0yQAAAQJBmsZJ4Q8mUwIV//44QAAZtngcAJq78mRGtfA6+5CO\n",
       "QqbyVTLpbNjniIlftE41Haq3/gfaFY7L9SysgosBpQaDkzAbdOnhcwe7GZ11h92Cq5CfBX3S0Yei\n",
       "t7/tgCSA0ev3R+bk4MLUzMcKeCXaO+OM8usI2dqreSYiQ7Ha4ji3A1sWW6iWSC1FnPNdynWfF/Qg\n",
       "v78M0I4NHW47gecMAAKjn951lYkg6auQmN+BP04FxasCAv2DzLQCw5ttWAW+RRLQRr5EqRS5JwY3\n",
       "3w158Q8adu7bKKWBjFY18szcu2a/mLpBzROwZUiRC0b3azntS7obQdwA50g1fxEdOBGkVjTIy0EA\n",
       "AADsQZrnSeEPJlMCFf/+OEAAGbpRLMAEQdoNcqszMSlOANB3h9YYL6GewR4wM2SsdLN/4+ZdTOie\n",
       "Vxt4oF/tipTUHGVjMKOOnildyES1s6FmbQ2uclbYb1UeDzDlGgFADUjIXHpzwkutt1H2+uzk5Xbg\n",
       "tISmpfwPZzWkfno7mMSanKe09fnmNfQnWvf08SUTzMYRL9aHSJIFJDgRQ6aQ3KwZlIuSFMcrLU/h\n",
       "uDAF4mvOOND8ZsoHATF3mOmu8p/7NXBapKgci5r5CwH8PGKm9Dn1aczxrdqCANl9j7bHjKWEbyek\n",
       "FaTZVPf+R5KECTkAAADrQZsISeEPJlMCFf/+OEAAM7hGd9GkXEAAuHQXJJ44zacdo/+M8BPL8LdI\n",
       "RC2RoIpHSx5+LpullwAEK0h2kBc3bsySdE+H63xjYCVnMYMpVW3eVYKzQrZMgf3VxqAT7/qrJqyM\n",
       "7oSCt7u13QcgOw2gh66z+ggdWge532iFHOZKiAAAVlLUKbY1QlzV0jsAfO30/r4G6F7fW/0x2vIa\n",
       "XC0ilCjuxj9gQPcorXSjGvbToyMkY9kTDxRfzQsAE2PLl0HCDCM4RDK27921nTBjjCLa/fHYidAO\n",
       "mdos+QYEpoAAAAoS2QIkr/Ei/oAfMAAAAOdBmylJ4Q8mUwIV//44QAAzuCymeSxXtwBdTFL4+uwz\n",
       "jPpuJkM10xptIr55n4ArQo4veXfn+/4F1GaxO8REyFuZuHhVfCeRppuWLNvCebPCUr+4NWNlWPSL\n",
       "o1xWy0iPFey5pPMz1ho45p2JgVuXwItzRmNtpHNPieVFCHKiJTLcPOeRJpHZaNLlhSz5HtCfdo3a\n",
       "4EuIOv8vFcF8AdNdYoDHYcw/MXRBumZUmUpWrxdYXnSF6SbZo5gmEO0Xe1iKdQJdMxwwX5ZEx/Fd\n",
       "7giRiazbE+oqx2n5WiAKzVmOVGCbGF7S21TLAzIAAADWQZtKSeEPJlMCFf/+OEAAZ3QiNiNGleAD\n",
       "76YxWsum5xsRZYwtaqozeyHQJJ0anbiorX0AAAMAWjo7SQGey3TV2z2n39ARgACwpM15yV+9DIJa\n",
       "ZiTSJHugSvyEmuUEOSRjuphlBZbvodoN3CXMMP4IkcWEAV8E7Vr8kH9z2ikNMYAv+GnGAFBcjIkK\n",
       "2KxYlLZs7ZSz3OrhYtqUxKnM5XnOgm89xmZt7i8rJA9aDW9Y3oBuryVAxsUnfkw4CyyjgOhSX4wg\n",
       "dD5rE6+9jtv+7alUKe+hLEvJIQAAALlBm2tJ4Q8mUwIV//44QABm6USzABEHlUGhZXLnYuj76VPQ\n",
       "WxowwX0M9gjxgZslY6Wb/x83/W1exsZ3lHgKgABrLkKp8cee8GP6xUMDEqybkCHzbSgxzAe+8mdG\n",
       "oRFlUI/Rswhi7WixNf1ApykSHGSNjJ3m3ks/I59jtvHxtoeLp21KulzPB3WDj/LWjNZ59FrHpokj\n",
       "0ocMgvOnNiOrPMGp5zhvwarjbVLsH1ASxQLMaWaQzqI5Q+bTyAAAAJlBm4xJ4Q8mUwIV//44QADO\n",
       "6ERsEsIuABEHmE3MktZ61Fh8Lokn4m/BMHn4/sDwiqtVP3vKPjLQX4CuLwKh9bAoT33urW6wn/K8\n",
       "06GL9AIR5uR9ih+R5J6B7d7hwXiUvRMVW3qTSd6fwX60BsCeWs3UQR5oZTwJbrOd6ZQ2Kzzb7ttT\n",
       "GZrsPK74yndEzctrdW2xO3E4mAXiqE4AAADaQZutSeEPJlMCFf/+OEAFz095kTlOAKuA7ZB2oAO+\n",
       "vRMQ1r/jWlyy78WqX9Kh5kW7iKSNLjMZJRsO5PUoKqmPXCIrIPYF5i6TBKa0wFTeZrs1U3tV4pHz\n",
       "G9MJPBqlSWKqX0/MAM5S489BTDt26zuyK2vYY7xNtG0UQXWo019J3Kv+ZDcSRoLoGw7OKa3vIVwO\n",
       "h2LXjLf7sE02uFOyxW2QMLfhoZldBRPM1xY+di4Zb8B843iS62nyvKnUV18uHbI1JdGMN+xwDVOB\n",
       "nfwbnluKetJBxYXj33VoDFkAAACwQZvOSeEPJlMCFf/+OEAA0tmNv6ZwAmXLgi+jBaqi4Dyg1VTA\n",
       "OqGGDGzQFq4skbMQDPM//PmmwV6LCuORLPPDwaeH/tZZH+ELgOqpJ4oj8VzXLjDyjTp5cXgvNFxu\n",
       "RCvpophHlJ5kBfoGcRoOma/c69pHGUouV7/gz6MhE8BS3z8qKpxyJGeTUNx6eTE3Ms0sN0OMOxsA\n",
       "HqIXaldtqVZHhbFPBiWi4i36MTggEewAu4EAAACtQZvvSeEPJlMCFf/+OEABndCIpo0aV4ASlxyC\n",
       "PGW6yg6pYrAy3EhjgkWFb5ToT0KUucqxicWx4Lx2fsZ1flXmh5ZNKjC1TcNql+eRXgWdFj3DfDSu\n",
       "jvY7g2JEqQ3zrb6IzhxvUKlYY6LcJ62dVnS4DXxZZql51SSLRsr6P/kzC0zHoPL2YDIzCQubMcPW\n",
       "f0i921TW+1GC/+xGHw2zo9qO3W17bgmncaJy6QSwAasAAADSQZoQSeEPJlMCFf/+OEABndCGYBEP\n",
       "k9AAnbPItEsum5wjwTaCkVb1spZbkmCu2Mo6e2s0bi0AgwRxWlBUGKZiLLSGPhycl8FjW4eVPIDd\n",
       "TCS9Fx9uOQvNjUni3XfCqCCvsGDP7hSuIpwE8FhrqL7PnMmjGmXCkhmphH19ZRrKJrZ40h/o88K0\n",
       "MWKLjdn4baXOM1iT05N5pWbdthaNa84PCf3ITC5XlVMyenP9dgty79XedMEQdV2lto8gKbUmxqSG\n",
       "4cm4Vir0/vaNd0irSPu5cAKKAAAAtkGaMUnhDyZTAhX//jhAAZuD3lJ50AHksPXmHQXr3op2ZzvA\n",
       "AWkprsz3mrCx8z8WHvuG4l6tg+y4QJ/gTcWgKMBzvnEUtM+VTaSoRJudndyHBy8X3vOMOFAeAKlM\n",
       "GG1DE5jAftDUu2oTAzU/aCcO4fqojmUrgUwPZ7dG2WKbYW7M4fkVuUctlNVgTmpW7u+MLGrqy87g\n",
       "PcmJ/tkXlybNRRSUWxAOr/Om7ajHnO1Y9Tfv3bVMsAZkAAAA50GaUknhDyZTAhX//jhAAzbPA4AT\n",
       "V5WJLXmnBqh4tUUkiOTl0tmzMRdBfYbnACMPHzmXgLL2Lpuaf5n+yaeNFWCxqrGXh0td7sa5Ew4P\n",
       "s8gXXXsfH7Ei4YYZGy7hR8n5bOJTAdSWk0oaOt1ZYzFhbiW64fQ3PlGNTT8IvbnJtsnPQIns/X0p\n",
       "E3RDq3Xx8CpJLx8QtbpxsgCeB9ngJ1YhNbzI4dIZ4TUbxAeN7CW8lW5/T9b3ncJl/v1sMOqrYvvx\n",
       "gEAhC8Qfy9tL+Z9mGCh57cKlfdtZgdylNysLFevFJU3VUCYbKoAe0QAAAKdBmnNJ4Q8mUwIV//44\n",
       "QAM7oRFOAp+vACVJHwBzTFuvRx2lCd7hdIRC4ZwupU/7ENUyRlXpTrC3c3uDR17IE/Gn6YbiTM12\n",
       "axoGyMpW2aTU1gDsrNz/f9L4pYedkM1GUhkw+5PcOemJ8sjTNedC9HKC0wJ9m01yMuV7tYFDMpfD\n",
       "zdLxWOlx9vbMHkwP+kqeq1x3talbh+EVojn49rnWGL/UGjAbC4A8YAAAALFBmpRJ4Q8mUwIV//44\n",
       "QAM6RUswFJoAH7F/imDDQ4FJZTmaFsQ/NZbKYi+6Y6FKMUhiJ5qGahIsYP1Q7AOQf0+LkCc9g4Qn\n",
       "c9xXbEjzoK68HLrXmhqo5WESI1OheISv8rziy+suf6MdfE2n5jefypHYvMfrXD1fkOWGHXidy3Ke\n",
       "d2UZT7j3f7RJjuZ1/6t8cTyzi1IGq7lZoZp32uQ7ps/+WFuKALPUf3Ebb/dtUywAzIAAAAC3QZq1\n",
       "SeEPJlMCFf/+OEADNwe8pPOgBHN1aCjTrlyBjbjWKu/bnr8UyPTD/j5d4yLL98j1iWvKwgEgv+IN\n",
       "j84qr2Taon8aAdgrinuTwVfSL0r5zqNnW5/1f+vD5cxUDOWza3U4RwgPFJdoMTxrNk2KxWKahYK/\n",
       "cJoD1g4VYZ3hCM4oapNRJsLnA5dfQ3zoqBC74CwAHtj1ZR213IXJz89cffoSapuCLw/tcJsGrhQK\n",
       "/+fZxtqmWAGZAAABDUGa1knhDyZTAhX//jhABY9yvwPfvgU3ZJCWZbMnxLEj+4v7V+Gdh4kjYhtj\n",
       "8glb+qeIVAIEBoc9YGH0rS9yl1/esraoRk6GmnUgBEHrNQWKVKxd5rcRnub9EWV/QetI/xTl+iHj\n",
       "ocmlKVqGkU5j4TtIlog5ETAVeaji1nl+S9IqcxBhPoOzSuYSPBpouWddYmmeuI7tteYMXrsgj22J\n",
       "RtZNHf/lvrEt5+HE8ABv8RJggqV3AwC9Yk3LO8mpdP2Hvvy6de8GHSxdxMdzgzN7OaYUad6fx10+\n",
       "s4tZjhx1IsqQ8xS4RURFpZJxQnp/mIWHKSUqVrsZ5WZXFMraqT7vp7WLiJaDWp4QN9Ue7bZtAAAA\n",
       "xkGa90nhDyZTAhX//jhABm2eBwA3Xfl9YSD767B7SRiH+lwEAFq6WzeGKIQ5PEMvESk5wwd+ZWoM\n",
       "xJ6oZabr2u75imCATI5zkTz9J1Mrj9V/yr12DTFQq6MOUSqYH6s8rBf59bRc6bWVYfSQg791RRfh\n",
       "jCbJAFd0zknbkgBoH2tEBopVCWJe8MbDFou/NXK7KkGnib9rwRp/klwJvQ+33/tUN5+x+IWKjCCN\n",
       "EHJJutTYP1QRbMbEsh75tUs8w3Mew2F8DOABMwAAAIRBmxhJ4Q8mUwIV//44QAZ0YL2aQAs/Wgod\n",
       "wh8gIt1Kgu6cnMFkzqaHbZLYAiBi0IejeV+a7bRDIuvuD6V3hUjX3dJyt1LHJceOTNAszaDyQjBA\n",
       "I+TGtM4XIVmdN0w+Wjw3QLc1l09hdogoRIHaRhG576q+TnwQMn4thDG17659tUywAZkAAACEQZs5\n",
       "SeEPJlMCFf/+OEAGa9ecZWdPL46AC6fI7K98U8QwrSzRR+O38usLAe9CCGqCQzen1+M/aPU6DOC1\n",
       "N8Qa1tH2n1eIaU/VNF2xAYjO1RWTSY1XMa0dNnpERcLPZgcKiVo7iJvtBLQK039Y2z1FHUVrRZ5k\n",
       "yP2lF85SKL2fbVMsAGZAAAAAr0GbWknhDyZTAhX//jhABm7ccACogBKhhRhwCK5MRVo2PjfF4pU8\n",
       "Mr/GwVqcXDmqghI45pDfIBEF1dL/zRSNa8fbT8Iqgbdym6lbKjvl6F0mWID3VZyRJ+bijYLUsxEn\n",
       "0JtMyxojb1pXdhOs7937+qcrntp3kXIGC0PznMXH4f6p4fzXOyun7/txgtRzwkKUAD/VVSNQTcfV\n",
       "QFgKSZHOdhJe9y6UcvmRhTPtqmWADMkAAACxQZt7SeEPJlMCFf/+OEAGbBbUo9Se6AEqTRyDGZ+L\n",
       "oCXM715UPPn1EPj4NYuIIYFXiNl9VgTX/EGxbgDWlOs1ISz2oJ3+0c+gwGW5F50VJlv2jEXRAlz8\n",
       "uZuNnPKBLQCw/dTOGtxhABDfT9gmxHVWCVIBk6NT/o/I4wU1xYP40xGA+it2X0wh+4EzUbxXXiWH\n",
       "8QsPtibbHXw4C+33afMDa+kmqqJcFGMMzhg+7aplgAzIAAAAsUGbnEnhDyZTAhX//jhABm4IfSog\n",
       "BM7YrhrkECWxx8WHo4RtVl4eO6TqlRUuLrVD73IhATkdbnz8Y/V9XHc5smQTlL8fJe0H6rn91lHQ\n",
       "gB5tIJApKCZpf4EY/+n5otCXKVjr7v/JhqSsJ8aQDtVq3SxxnKxkihwq7YafZZra7YyTSYgY6Hsu\n",
       "nL3kLIRpUSd88cvvDd5gRVw2fAiDtbS/DQ79nhNqqoQfxSmtZS21TLABmQAAAN1Bm71J4Q8mUwIV\n",
       "//44QAzYw2uKAG7HS25fwaOjvtABg6B3vPwTY8eO89sjv3aNRnqf4dGw/CrRbJbMaxz3byCcD4IH\n",
       "+esEbHSbCe7a+xhrv/iD0qoAbB77CMgw67gVOJCjm4Q0J2Yx4NeuuoM5aDUGtBJUQioCwapxSJhR\n",
       "iRDzHIBfQTw3CY86kdfsFMVCcwt7h/e4zKCJmTFJ2oZo9eDd8J4PwLay0AGdLmFoSgLsqNikjRpz\n",
       "lK2fN23HBYbm16EL60c87rjv279ZJyM3s6Wz/sBedhqMMXdtSqABLwAAAExBm95J4Q8mUwIV//44\n",
       "QAzYw20WAEWnlE3HPj1NGoQaJ3Hbc+zd14KKyKwu5DpikVTFP9eBOlemlbQzuOWUYG6x91A3w8vY\n",
       "hF2igCJgAAAAd0Gb/0nhDyZTAhX//jhADNjDxngAEWACAqrzPUB2XNLIQfi+nV2bE/AAWzJUj4By\n",
       "LNCKGxqkBXvl0w5r1tWJhK0S4HgPosUyfdCGCdrQh0cKG+iqlkGS9xGvP61ve/0PJ/SvoW+Ru5No\n",
       "3FdFMwFuAtf3bVMsADMgAAAAgUGaAEnhDyZTAhX//jhADNjENCIAp8BeXwTH2nsBi84/F9Or0aTu\n",
       "QlVNM8vMGs0ImVo87vOBHz73Gn+n4zP213fAW2iHAMtsfuM1JGqwmG+Jl9+t+f34Wjqv0gdPidDP\n",
       "S1gzVag7Ld818KnN9/2xNpUve7TgRKhxtnnoME4msrABQQAAAL1BmiFJ4Q8mUwIV//44QAzctzT+\n",
       "3QAsPlUDrRnmdi7ObqiPTI4SXGbR/0s0OXSO1eme+cor/qOQjo0kQztbcZxpU31VdghhG/YPXj7W\n",
       "L5NIZ35q3OlBksSV6nIS8hl+9OtUyorg2YD7tJ9ySoToJOzYoRsoZIw3Rj9XmYS7h/3zVJ1rJB6z\n",
       "mVJDllAepWPPozeL0vQ3MzOaE4hV/5FjIF5lMqiew0klfD3Jie5kB0qoVQrYjo6Nlo421TLAAzIA\n",
       "AACnQZpCSeEPJlMCFf/+OEAMzC7nugCN9lP7mxBRrsy/AZRILcJ3BS5UMrd3Fdp6JcgZJ9rasIBK\n",
       "sV/1HHP9McCwlgNTq/+m9VNWrUcq9APT+A5WivJVZ4lJsB50qAcXQ0kUtJKkEkn519Jhf0Qeu7jC\n",
       "tBeUVvw/I4czS9eveq6mv5PFJLhNo6T1EI9RtucW1w0LOTGGeBQ4NjGHakdarcbaODgHEmVgAoMA\n",
       "AACpQZpjSeEPJlMCFf/+OEAMzC7jxAHHPU/4xttVs4/QRKi8eR9aASlesxJJpKyWKpFsvB9VgWZm\n",
       "VZipijH+InQUS8F8BEOH9Y8xiHMyO9Ea9lJAk+V0DNw03/JZZQAxC23xrzCjM1LIkM+Mr0maXD0y\n",
       "TcoYE1ZIvFi+R0r7YjAe7dXbTTqx400rtj0Cs3fCKvK3iDr/jRzfw3jyUKg8/aH3VC8ft3tPCADZ\n",
       "gAAAALtBmoRJ4Q8mUwIV//44QAzNUCN+AB7J5TQ6txm/t+fdfBRN+dhOGgjBag3LpHeED9ecMLd+\n",
       "V5iZ748bjL4c8o6UJjm2riyRsxAM8KSGBG/xDWi6OMbSpItvQeQwktdDKD9XLedfh1AoHrX4C+uM\n",
       "laJR0mSRzBQME85t9REu8ZLYkCXHXNrQGuXXVJD+b7QMZU0O/facyw2I1JJgEa5g/m+BaY8X4Cbk\n",
       "jynHtcY3XZb3Cc4Pee0ttUywAMyBAAAAw0GapUnhDyZTAhX//jhADMhUFpCPlCdAF7rXbWeQZGzy\n",
       "poIPbOw9OiVvbfnp4a4uinRG6jxDmu4eXSO8H1i3UJSAJW8w0/bu2n6NuTfekvc/xDTcDJQ0aEYr\n",
       "TGD2ejFitxO/HAlGxN9j6CXzHJ86JELEubNKsN2tDVoIE9uB9Fygn+t14vYaN/x2DQD5gldtsc0G\n",
       "P9Uok8Q+ILKvr02USQt79vPU4FTfnJHkTfzEr9Q+/C8iS221B3wm9s2hZ9tUywAMyQAAAMFBmsZJ\n",
       "4Q8mUwIV//44QAzMLuPEAzJJ42nf/mMrSgpG20CaCR3GWzukXNVyy/Yd/LpHeD5NKd2Z6PQku8uU\n",
       "4kaq/Hph4vSPby+XRglJfd/iGmi+nZE8M62IMrU53CBTs9gxlxJCiBU6GsMkpjq2vJylExAt+Ev1\n",
       "dtsYyrlUuMtM10aER3wPqg7zTILEy9UO0Q7ogDQ9uGqPrHXXVcOrqOdLu2d311zxwjVAaxGjhjEQ\n",
       "XnGrJGljbumNwiHc+2qZYAGZAAAAukGa50nhDyZTAhX//jhADMc4HYr3QBcwmJc3MRtLu/7/v+R/\n",
       "v+QmIioUnbFxICVy6R3hGE/ty71xBFox5OGprJo/14Xev4r3UKyIXtDQ74pFKctAaEoWHQ8xbWdQ\n",
       "o57fBj97nlmWb37i3VZki4oIxK5+NmZ/4YiOOp5ORf/djixUw2daVY3e6xHtxzvBwhnhOGQb3FcY\n",
       "LSfsY9UJ/kUCzYSyqy3En57UfPobR+FVG2rKyd7f3bVMsADMgQAAAMpBmwhJ4Q8mUwIV//44QBxW\n",
       "bz8qktQe995B8sYAAbsE0GAAAAMArTYEZCFUyU7ERR5jchW6L/UyifiVlONeCxaBZfXzFk38OmxZ\n",
       "c7YhSVV6aD86L8Hre9kEUkrvgXKqGC45uk+ljv7rWJvO+bG7x+fslZaamgw1OY0Tg5ZspaAjB4eF\n",
       "GhB40MEJNGMC+LdKUjW/p94feOVF07xfYKXV6GEBQ7c+yGmEghOZAZQsUC9prpOv1kXhbqg79WAP\n",
       "475um1ZVmNcVmtSqAAi4AAAA2kGbKUnhDyZTAhf//oywB4AAmbxQguWWNAAdcvtUALcHOpyBv16K\n",
       "KUTACdAtccWTNnVPegy1OarN5HUba7VIF1Om0k2e/HObDl/B7ImK5GBvP/g5S2rBC5bXEBSekJv/\n",
       "bXV3liaJck0d2ZpEXhch7516Du4vi9eHEKSDYDVdA3z+Cs4sZMnkx1ikpDarBmSjRiNLKDgUps37\n",
       "4/ITMblVS3ypg7Mf1yxadZbaV5uvs+gjjMTgRIPQnIMak5WJrV36JewDIdwDCYO3qEpwrZu8P3ue\n",
       "ZYswn1qVQAEHAAAAe0GbSknhDyZTAhf//oywB3//+T6AG4svP1NPVHg9GUFutE7VtVd0un/IfZb/\n",
       "ZEZPx0ck6c01+XKqi0BMC8+zKoxPlBLbAsNed62MrrcFwWOsdO3XDTNMo0FS9IIfw2EeiycGn8YI\n",
       "8/7AJXPnVWaSC6JX63OhFi4tBOQFBQAAAIxBm2tJ4Q8mUwIX//6MsAeAAMriAFuABekeO3H9SPIe\n",
       "fUmEJCiL8NG3el2dvC62xw1+Q1OK9sKIGByfvHJo9xxR8xY58duwQ2hpLNq3hdf/pAkyExdP6MDG\n",
       "tyDtA1AtGtSgivppJJW7lAnn+Xnpda//gHoSj4eYwhOI+VERHanWV4ZtnsPijAveVAAP8AAAAF9B\n",
       "m4xJ4Q8mUwIX//6MsAeAANsQASb+NSRGlOC0vaaa7PLby0Iwxb67NPyeitkEc4cyKi7ODZqaJzNs\n",
       "E5KRqQMMa0ZsksfxEAAAM2AACiEFHr32HwvgDgz2k7aplgAKSAAAAG1Bm61J4Q8mUwIZ//6eEAdq\n",
       "CcMIAVULLo6LtH9RcK3AyF7msGygY6610OIDjgF72fxed3Fc8xTWPMoFtdthA8UnajZzuIMs8Yd0\n",
       "SgZCEbWWsmaB6aRWmHC0G6kxlrn4hjQeS5ClJUUbaplgAKSBAAAAiEGb0UnhDyZTAhn//p4QB2e7\n",
       "iHQAFspTwRobSfVVXOvFrLQwk2e3/iHAc67Il/8nDJXwbpRiidmyd5KMdUzoe3oqVq3+newX4PbQ\n",
       "nLDKnoUZL3NmMMqb1EUF++k3AcZmtITlV7VWvEJK2JPAIC+2tebt3ubAFSQu6X0Pi5QYSaxuODNt\n",
       "UywAFJEAAABGQZ/vRRE8J/8DTyo+FB4aP/w9U6aKAEhvq3bO7wCgqRSK7qsiR/fmCes8V3YDaXQ3\n",
       "EJ+Imely/nbjIyxeV1dXss1TLAAKCQAAAG8Bng50Qj8CGW9z396UAH7UbsjEHjdQK5rI6RZKJTqR\n",
       "WEt9i5q5Ou3+XZAbRUMZT41DOCVXHV0+ibGRKaP1RX0F9do4XArRLv3W+9KZegK3xKqOrwkwdZA4\n",
       "Yf8DlqtZVI0QAd7NIvZqaki6plgAFtAAAABXAZ4QakI/BADWFvnxbfCQAmWAPs5kRHTSNk4qNbhz\n",
       "9LUCA8rvS+lhgb38L046P/8eSKWTG3sstnSm2t/y3NIc7ODAbDBAUTaNipG8kZxaQQOhpqZYAAnY\n",
       "AAAAmkGaFUmoQWiZTAhf//6MsAd//oZTYAbr0ZfO6NrlcY30kjCrcxCVWNHRmB6KErlhIJUf8QbS\n",
       "LhlgQmx7hFHI5NWVd/NGkT1HoGmWYweRL+NfbjPDSSeTUb897jr8UNHBk3qyJjgnPF7v9OrZNPFT\n",
       "OeU7YYDJuXWQDkS/9yy+HSEgxqc1lm6b0pPw048C78x8A04k2mo21TLAAUkAAABnQZ4zRREsJ/8D\n",
       "YcewT0p0WXiACzBY5wkAnbYOD351AP8joOUyrbHReXlRocUzkRcmWMQQrF4AnVIydPyOunYGMOgc\n",
       "wffvYUjzvq2CwJRu0PFd1GFWvQN3+4HCh8/4XvUE0KLUqgACggAAAFIBnlJ0Qj8D/WKbYfWxrIMA\n",
       "CUspnONWGAzlJcu+IZ0d0b5ginsPpI0bRphpAbU2ZMEXDI/9WlTWTrA1yT4MMif16Ns5npkQZKxj\n",
       "tpv4Q1MsAATsAAAAKwGeVGpCPwQA1hb33fLhQOcjsXyPFZa5jBb8v95zwAdx48MougZrhlgADPkA\n",
       "AACMQZpZSahBbJlMCFf//jhAHGhJdwz0TswALqAuJMPLqJ/aMecgGGFBU/3M5TX4sLC+XEZcTxkA\n",
       "B0y4bL/tRWxWpNjsbxmIss12N2g7HWu//kqyj/nvvziS2hn3gEvztc4BhqlRlLbndTWGf+Xt2fac\n",
       "RChwk2Wt1tYo8IRFpxxzIXdZjAOdpaO2qZYACtgAAABuQZ53RRUsJ/8DYceusJLMgBVmKL6WyRCC\n",
       "gpMjrpcgFnwFQykjNp3Ts4QF4sng2O+qoo0kp1Ar/yU7NukAEaVkh66Ikry0/i3LUvLDFP+N49mI\n",
       "K5T4iuyOumHyB4cCr0Dnp8/tNc8pvWwi1KoAAoMAAAAWAZ6WdEI/BRMlyyJQCbgmoAK4HKAJeQAA\n",
       "ABUBnphqQj8FDpViifAC7bxxPG/4AsoAAABsQZqcSahBbJlMCEf//eEAa299IATUescRquG189oI\n",
       "Svds93wr9m8xsHDD8MEJRCcMtNDu2EScfxZE1wGmkTKt2BJfnmIVoL2DLGzKII0IXJJUH2+pwVK+\n",
       "Vc0zYKLxxqvCZ2TeW3WW2p4QAEnBAAAAMkGeu0IR/wPpVvmKcAAJytSAl3aPJN1Ips+TN+1VOi1l\n",
       "gQFdOatzWGyO09RvON/wgJeAAAAADAGe2mkQjwP9X5YBUwAABKJtb292AAAAbG12aGQAAAAAAAAA\n",
       "AAAAAAAAAAPoAAAF9QABAAABAAAAAAAAAAAAAAAAAQAAAAAAAAAAAAAAAAAAAAEAAAAAAAAAAAAA\n",
       "AAAAAEAAAAAAAAAAAAAAAAAAAAAAAAAAAAAAAAAAAAAAAAACAAADzHRyYWsAAABcdGtoZAAAAAMA\n",
       "AAAAAAAAAAAAAAEAAAAAAAAF9QAAAAAAAAAAAAAAAAAAAAAAAQAAAAAAAAAAAAAAAAAAAAEAAAAA\n",
       "AAAAAAAAAAAAAEAAAAABsAAAASAAAAAAACRlZHRzAAAAHGVsc3QAAAAAAAAAAQAABfUAAAIAAAEA\n",
       "AAAAA0RtZGlhAAAAIG1kaGQAAAAAAAAAAAAAAAAAACgAAAA9AFXEAAAAAAAtaGRscgAAAAAAAAAA\n",
       "dmlkZQAAAAAAAAAAAAAAAFZpZGVvSGFuZGxlcgAAAALvbWluZgAAABR2bWhkAAAAAQAAAAAAAAAA\n",
       "AAAAJGRpbmYAAAAcZHJlZgAAAAAAAAABAAAADHVybCAAAAABAAACr3N0YmwAAACzc3RzZAAAAAAA\n",
       "AAABAAAAo2F2YzEAAAAAAAAAAQAAAAAAAAAAAAAAAAAAAAABsAEgAEgAAABIAAAAAAAAAAEAAAAA\n",
       "AAAAAAAAAAAAAAAAAAAAAAAAAAAAAAAAAAAAAAAY//8AAAAxYXZjQwFkABX/4QAYZ2QAFazZQbCW\n",
       "hAAAAwAEAAADAUA8WLZYAQAGaOvjyyLAAAAAHHV1aWRraEDyXyRPxbo5pRvPAyPzAAAAAAAAABhz\n",
       "dHRzAAAAAAAAAAEAAAA9AAABAAAAABRzdHNzAAAAAAAAAAEAAAABAAAAkGN0dHMAAAAAAAAAEAAA\n",
       "AC4AAAIAAAAAAQAABQAAAAABAAACAAAAAAEAAAAAAAAAAQAAAQAAAAABAAAFAAAAAAEAAAIAAAAA\n",
       "AQAAAAAAAAABAAABAAAAAAEAAAUAAAAAAQAAAgAAAAABAAAAAAAAAAEAAAEAAAAAAQAABAAAAAAB\n",
       "AAACAAAAAAEAAAAAAAAAHHN0c2MAAAAAAAAAAQAAAAEAAAA9AAAAAQAAAQhzdHN6AAAAAAAAAAAA\n",
       "AAA9AAAcAwAAAoIAAAF9AAABRQAAANwAAAD1AAABBgAAAPAAAADvAAAA6wAAANoAAAC9AAAAnQAA\n",
       "AN4AAAC0AAAAsQAAANYAAAC6AAAA6wAAAKsAAAC1AAAAuwAAAREAAADKAAAAiAAAAIgAAACzAAAA\n",
       "tQAAALUAAADhAAAAUAAAAHsAAACFAAAAwQAAAKsAAACtAAAAvwAAAMcAAADFAAAAvgAAAM4AAADe\n",
       "AAAAfwAAAJAAAABjAAAAcQAAAIwAAABKAAAAcwAAAFsAAACeAAAAawAAAFYAAAAvAAAAkAAAAHIA\n",
       "AAAaAAAAGQAAAHAAAAA2AAAAEAAAABRzdGNvAAAAAAAAAAEAAAAsAAAAYnVkdGEAAABabWV0YQAA\n",
       "AAAAAAAhaGRscgAAAAAAAAAAbWRpcmFwcGwAAAAAAAAAAAAAAAAtaWxzdAAAACWpdG9vAAAAHWRh\n",
       "dGEAAAABAAAAAExhdmY1NS4xOS4xMDQ=\n",
       "\">\n",
       "  Your browser does not support the video tag.\n",
       "</video>"
      ],
      "text/plain": [
       "<matplotlib.animation.FuncAnimation at 0x20c8bc65f60>"
      ]
     },
     "execution_count": 201,
     "metadata": {},
     "output_type": "execute_result"
    },
    {
     "data": {
      "image/png": "[encoded data removed]",
      "text/plain": [
       "<matplotlib.figure.Figure at 0x20c8d6ba940>"
      ]
     },
     "metadata": {},
     "output_type": "display_data"
    }
   ],
   "source": [
    "xR = np.linspace(0, R, N)\n",
    "\n",
    "fig, ax = plt.subplots()\n",
    "line, = ax.plot(xR, T_initial)\n",
    "ax.set_yticks(np.arange(0, 601, 50))\n",
    "\n",
    "plt.title(\"Процес нагрівання\")\n",
    "plt.ylabel(u\"Температура нагріву, ℃\")\n",
    "plt.xlabel(u\"Координата, м\")\n",
    "plt.grid()\n",
    "\n",
    "def animate(i):\n",
    "    line.set_ydata(T_data[i]-273.0)  # update the data\n",
    "    return line,\n",
    "\n",
    "# Init only required for blitting to give a clean slate.\n",
    "def init():\n",
    "    line.set_ydata(np.ma.array(xR, mask=True))\n",
    "    return line,\n",
    "\n",
    "ani = animation.FuncAnimation(fig, animate, np.arange(0, len(T_data), 250), init_func=init,\n",
    "                              interval=25, blit=True)\n",
    "aniи"
   ]
  },
  {
   "cell_type": "markdown",
   "metadata": {},
   "source": []
  }
 ],
 "metadata": {
  "kernelspec": {
   "display_name": "Python 3",
   "language": "python",
   "name": "python3"
  },
  "language_info": {
   "codemirror_mode": {
    "name": "ipython",
    "version": 3
   },
   "file_extension": ".py",
   "mimetype": "text/x-python",
   "name": "python",
   "nbconvert_exporter": "python",
   "pygments_lexer": "ipython3",
   "version": "3.6.2"
  }
 },
 "nbformat": 4,
 "nbformat_minor": 2
}
