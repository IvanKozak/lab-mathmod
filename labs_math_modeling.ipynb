{
 "cells": [
  {
   "cell_type": "markdown",
   "metadata": {},
   "source": [
    "\n",
    "# МАТЕМАТИЧНЕ МОДЕЛЮВАННЯ МАТЕРІАЛІВ ТА ТЕХНОЛОГІЧНИХ ПРОЦЕСІВ В МАТЕРІАЛОЗНАВСТВІ\n",
    "Комп'ютерний практикум\n",
    "\n",
    "*Виконав студент групи ФМ-71мп*\n",
    "\n",
    "*Лох Богомаз Ростислав*"
   ]
  },
  {
   "cell_type": "markdown",
   "metadata": {},
   "source": [
    "## АНАЛІТИЧНА МАТЕМАТИЧНА МОДЕЛЬ НАГРІВАННЯ МЕТАЛЕВОГО ВИРОБУ В ПЕЧІ ДЛЯ НАСТУПНОЇ ТЕРМІЧНОЇ ОБРОБКИ\n",
    "\n",
    "**Мета роботи:** освоєння принципів побудови детермінованої аналітичної математичної моделі із зосередженими параметрами та визначення часу нагріву металевого виробу."
   ]
  },
  {
   "cell_type": "markdown",
   "metadata": {},
   "source": [
    "### Завдання та вихідні дані\n",
    "Розрахувати час нагріву заготівки $t_{h}$, яка нагрівається в печі та побудувати графік залежності температури від часу в процесі нагрівання. Розрахунки провести використовуючи для цього детерміновану, інтегральну, аналітичну математичну модель із зосередженими параметрами.\n",
    "\n",
    "Вихідні дані:"
   ]
  },
  {
   "cell_type": "code",
   "execution_count": 1,
   "metadata": {
    "collapsed": true
   },
   "outputs": [],
   "source": [
    "# Defining variablbbes\n",
    "# Материал Cu\n",
    "# material constants\n",
    "density = 8873  # густина металу кг/м3\n",
    "alpha = 200  # Вт*м-2*К-1\n",
    "heat_capacity = [385, 442]  # 300 K and 800 K\n",
    "thermal_emissivity = 0.78  # для міді (epsilon)\n",
    "\n",
    "# constants\n",
    "Stefan_Bolzman = 5.6704e-8  # Вт / (м^2 * К^4)\n",
    "\n",
    "# geometry, m\n",
    "width, length, high = 0.1, 0.1, 0.1\n",
    "\n",
    "# температура печі\n",
    "T_furnace = 600 + 273.0  # K\n",
    "T_specimen = 20 + 273.0  # K\n",
    "DeltaT = 1  # %"
   ]
  },
  {
   "cell_type": "markdown",
   "metadata": {},
   "source": [
    "### Порядок виконання"
   ]
  },
  {
   "cell_type": "code",
   "execution_count": 2,
   "metadata": {
    "collapsed": true
   },
   "outputs": [],
   "source": [
    "import numpy as np\n",
    "import matplotlib.pyplot as plt\n",
    "%matplotlib inline"
   ]
  },
  {
   "cell_type": "markdown",
   "metadata": {},
   "source": [
    "Розрахунок площі поверхні та маси зразка:"
   ]
  },
  {
   "cell_type": "code",
   "execution_count": 3,
   "metadata": {},
   "outputs": [
    {
     "data": {
      "text/plain": [
       "(0.06000000000000001, 0.0010000000000000002, 8.873000000000003)"
      ]
     },
     "execution_count": 3,
     "metadata": {},
     "output_type": "execute_result"
    }
   ],
   "source": [
    "square = (width * length + width * high + length * high) * 2\n",
    "volume = width * length * high\n",
    "mass = volume * density\n",
    "square, volume, mass"
   ]
  },
  {
   "cell_type": "markdown",
   "metadata": {},
   "source": [
    "Визначаємо температуру закінчення розрахунків Тк:"
   ]
  },
  {
   "cell_type": "code",
   "execution_count": 4,
   "metadata": {},
   "outputs": [
    {
     "data": {
      "text/plain": [
       "864.27"
      ]
     },
     "execution_count": 4,
     "metadata": {},
     "output_type": "execute_result"
    }
   ],
   "source": [
    "T_last = (1 - 0.01 * DeltaT) * T_furnace\n",
    "T_last"
   ]
  },
  {
   "cell_type": "markdown",
   "metadata": {},
   "source": [
    "Розраховуємо середню теплоємність через лінійний закон:"
   ]
  },
  {
   "cell_type": "code",
   "execution_count": 5,
   "metadata": {},
   "outputs": [
    {
     "data": {
      "text/plain": [
       "417.26200000000006"
      ]
     },
     "execution_count": 5,
     "metadata": {},
     "output_type": "execute_result"
    }
   ],
   "source": [
    "heat_cap_line = np.poly1d(np.polyfit([300, 800], heat_capacity, 1))\n",
    "c = heat_cap_line(np.mean([T_furnace, T_specimen]))\n",
    "c"
   ]
  },
  {
   "cell_type": "markdown",
   "metadata": {},
   "source": [
    "Розраховуємо коефіцієнт $k$ та час нагріву:"
   ]
  },
  {
   "cell_type": "code",
   "execution_count": 6,
   "metadata": {},
   "outputs": [
    {
     "data": {
      "text/plain": [
       "(0.0032411708858823842, 1294.6749435417539)"
      ]
     },
     "execution_count": 6,
     "metadata": {},
     "output_type": "execute_result"
    }
   ],
   "source": [
    "k = alpha * square / (c * mass)\n",
    "heat_time = -np.log((T_furnace - T_last) / (T_furnace - T_specimen)) / k\n",
    "k, heat_time"
   ]
  },
  {
   "cell_type": "markdown",
   "metadata": {},
   "source": [
    "Будуємо графік:"
   ]
  },
  {
   "cell_type": "code",
   "execution_count": 7,
   "metadata": {},
   "outputs": [
    {
     "data": {
      "image/png": "[encoded data removed]",
      "text/plain": [
       "<matplotlib.figure.Figure at 0x20c8af84e48>"
      ]
     },
     "metadata": {},
     "output_type": "display_data"
    }
   ],
   "source": [
    "# дані для побудови\n",
    "lab1_x = np.arange(0, heat_time, 0.5)\n",
    "lab1_y = T_furnace - (T_furnace - T_specimen) * np.exp(-k * lab1_x)\n",
    "\n",
    "plt.plot(lab1_x, lab1_y - 273.0)\n",
    "plt.xticks(np.arange(lab1_x[0], lab1_x[-1] + 60, 120))\n",
    "plt.yticks(np.arange(0, 601, 50))\n",
    "plt.title(\"Процес нагрівання\")\n",
    "plt.ylabel(u\"Температура нагріву, ℃\")\n",
    "plt.xlabel(u\"Час нагріву, c\")\n",
    "plt.grid()"
   ]
  },
  {
   "cell_type": "markdown",
   "metadata": {},
   "source": [
    "### Висновки\n",
    "Була побудована детермінована аналітична математична модель із зосередженими параметрами для визначення часу нагріву металевого виробу.\n",
    "\n",
    "Отримано, що за даними параметрами зразок в печі нагрівається до температури печі за 22 хв. (1300 с).\n"
   ]
  },
  {
   "cell_type": "markdown",
   "metadata": {},
   "source": [
    "## ЧИСЛОВА МАТЕМАТИЧНА МОДЕЛЬ НАГРІВАННЯ МЕТАЛЕВОГО ВИРОБУ В ПЕЧІ ДЛЯ НАСТУПНОЇ ТЕРМІЧНОЇ ОБРОБКИ\n",
    "\n",
    "**Мета роботи:** освоєння принципів побудови детермінованої числової математичної моделі із зосередженими параметрами та визначення впливів залежності питомої теплоємності від температури і випромінювання на процес нагріву металевого виробу. "
   ]
  },
  {
   "cell_type": "markdown",
   "metadata": {},
   "source": [
    "### Завдання та вихідні дані\n",
    "Розрахувати час нагріву заготовки $t_\\text{н}$, яка нагрівається в печі та побудувати графік залежності температури від часу в процесі нагрівання. Розрахунки провести використовуючи ітераційну формулу чисельної математичної моделі із зосередженими параметрами. Дані для розрахунків задані в комп’ютерному практикумі №1.\n",
    "\n",
    "Розрахунки провести при наступних умовах:\n",
    "1. $a_0 = c$; $a_1 = 0$; $\\epsilon = 0$. В цьому випадку розрахунки можна порівняти з результатами, які отримані в комп’ютерному практикумі №1.\n",
    "2. $a_0 \\neq c$; $a_1 \\neq 0$; $\\epsilon = 0$. В цьому випадку розрахунки показують вплив залежності питомої теплоємності від температури на динаміку процесу нагріву.\n",
    "3. $a_0 \\neq c$; $a_1 \\neq 0$; $\\epsilon = 0.78$. В цьому випадку розрахунки показують вплив залежності питомої теплоємності від температури та врахування нагріву шляхом випромінювання на динаміку процесу нагріву.\n",
    "\n",
    "Побудувати графіки для трьох варіантів розрахунків і порівняти їх між собою та з результатами, що отримані в комп’ютерному практикумі №1.  \n"
   ]
  },
  {
   "cell_type": "markdown",
   "metadata": {},
   "source": [
    "### Порядок виконання"
   ]
  },
  {
   "cell_type": "markdown",
   "metadata": {},
   "source": [
    "Реалізовуємо ітеративну функцію для розрахунку температури за формулою:\n",
    "$$ T_{i+1} = T_i + h \\frac{k_1(T_f-T_i)+k_2(T_f^4 - T_i^4)}{a_0 + a_1 T_i} $$\n",
    "де:\n",
    "\n",
    "- $T_{i+1}$, $T_{i}$ та $T_f$ -- відповідно наступна, попередня температури та температура печі,\n",
    "- $h$ -- крок по часу\n",
    "- $a_0$, $a_1$ -- емпіричні коефіцієнти з лінійної апроксимації темпоємності.\n",
    "\n",
    "Коефіцієнти $k_1$, $k_2$ розраховуються таким чином:\n",
    "$$ k_1 = \\frac{\\alpha S}{m},$$\n",
    "$$k_2 = \\frac{\\sigma \\epsilon S}{m}$$,\n",
    "де:\n",
    "\n",
    "- $\\alpha$ - коефіцієнт теплопереносу\n",
    "- $\\sigma$ - стала Стефана-Больцмана\n",
    "- $\\epsilon$ - випромінювальна здатність\n",
    "- $S$ - площа поверхні зразка\n",
    "- $m$ - маса зразка"
   ]
  },
  {
   "cell_type": "code",
   "execution_count": 8,
   "metadata": {
    "collapsed": true
   },
   "outputs": [],
   "source": [
    "def lab2_data(a0, a1, epsilon):\n",
    "    # коефіцієнти\n",
    "    k1 = alpha * square / mass\n",
    "    k2 = Stefan_Bolzman * epsilon * square / mass\n",
    "    step = 10  # крок\n",
    "\n",
    "    time_array = [0]\n",
    "    i = 0\n",
    "\n",
    "    T_array = [T_specimen]\n",
    "    T_next = T_array[0]\n",
    "\n",
    "    while T_next <= T_last:\n",
    "        i += 1\n",
    "        T_next = T_next + step * (k1 * (T_furnace - T_next) +\n",
    "                                  k2 * (T_furnace ** 4 - T_next ** 4)\n",
    "                                  ) / (a0 + a1 * T_next)\n",
    "        T_array.append(T_next)\n",
    "        time_array.append(step*i)\n",
    "    return np.array(time_array), np.array(T_array)"
   ]
  },
  {
   "cell_type": "markdown",
   "metadata": {},
   "source": [
    "$a_0 = c$; $a_1 = 0$; $\\epsilon = 0$:"
   ]
  },
  {
   "cell_type": "code",
   "execution_count": 9,
   "metadata": {
    "collapsed": true
   },
   "outputs": [],
   "source": [
    "lab2_x1, lab2_y1 = lab2_data(c, 0, 0)"
   ]
  },
  {
   "cell_type": "markdown",
   "metadata": {},
   "source": [
    "$a_0 \\neq c$; $a_1 \\neq 0$; $\\epsilon = 0$:"
   ]
  },
  {
   "cell_type": "code",
   "execution_count": 10,
   "metadata": {
    "collapsed": true
   },
   "outputs": [],
   "source": [
    "lab2_x2, lab2_y2 = lab2_data(heat_cap_line[0],\n",
    "                             heat_cap_line[1],\n",
    "                             0)"
   ]
  },
  {
   "cell_type": "markdown",
   "metadata": {},
   "source": [
    "$a_0 \\neq c$; $a_1 \\neq 0$; $\\epsilon = 0.78$:"
   ]
  },
  {
   "cell_type": "code",
   "execution_count": 11,
   "metadata": {
    "collapsed": true
   },
   "outputs": [],
   "source": [
    "lab2_x3, lab2_y3 = lab2_data(heat_cap_line[0],\n",
    "                             heat_cap_line[1],\n",
    "                             thermal_emissivity)"
   ]
  },
  {
   "cell_type": "markdown",
   "metadata": {},
   "source": [
    "Будуємо графік залежності:"
   ]
  },
  {
   "cell_type": "code",
   "execution_count": 356,
   "metadata": {},
   "outputs": [
    {
     "data": {
      "image/png": "[encoded data removed]",
      "text/plain": [
       "<matplotlib.figure.Figure at 0x20cca0e3710>"
      ]
     },
     "metadata": {},
     "output_type": "display_data"
    }
   ],
   "source": [
    "data_list = [(lab1_x, lab1_y, \"Комп.практ.№1\"),\n",
    "            (lab2_x1, lab2_y1, \"$а_0 = c$; $а_1 = 0$; $\\epsilon = 0$\"),\n",
    "            (lab2_x2, lab2_y2, \"$а_0 ≠ 0; а_1 ≠ 0; \\epsilon = 0$\"),\n",
    "            (lab2_x3, lab2_y3, '$а_0 ≠ 0$; $а_1 ≠ 0$; $\\epsilon = 0.78$')]\n",
    "\n",
    "style_iter = iter(['--', '-.', ':', '-'])\n",
    "\n",
    "for x, y, l in data_list:\n",
    "    plt.plot(x, y-273.0, next(style_iter), label=l)\n",
    "    \n",
    "plt.legend()\n",
    "plt.title(\"Процес нагрівання\")\n",
    "plt.ylabel(u\"Температура нагріву, ℃\")\n",
    "plt.xlabel(u\"Час нагріву, c\")\n",
    "plt.yticks(np.arange(0, 601, 50))\n",
    "plt.xticks(np.arange(0, 1400, 120))\n",
    "plt.grid()"
   ]
  },
  {
   "cell_type": "markdown",
   "metadata": {},
   "source": [
    "Час нагріву до температури в перших двох випадках співпадає з результатом комп'ютерного практикуму №1 з точністю до хвилини. Урахування випромінювання в моделі ($\\epsilon \\neq 0$) значно скорочує час нагрівання - для даних параметрів час становить 15 хв. "
   ]
  },
  {
   "cell_type": "markdown",
   "metadata": {},
   "source": [
    "### Висновки\n",
    "Побудована детермінована числова математична модель із зосередженими параметрами для визначення впливів залежності питомої теплоємності від температури і випромінювання на процес нагріву металевого виробу.\n",
    "\n",
    "Урахування випромінювання в даній моделі значно скорочує час нагрівання зразку.\n",
    "\n",
    "Урахування лінійної залежності теплоємності не впливає на отримані результати, отже для задовільної апроксимації достатньо середнього значення на даному проміжку температур."
   ]
  },
  {
   "cell_type": "markdown",
   "metadata": {},
   "source": [
    "## НАГРІВАННЯ МЕТАЛЕВОГО ВИРОБУ В ПЕЧІ ДЛЯ НАСТУПНОЇ ТЕРМІЧНОЇ ОБРОБКИ-3\n",
    "\n",
    "**Мета роботи:** освоєння принципів побудови детермінованої числової математичної моделі із розподіленими параметрами та визначення часу нагріву металевого виробу.\n",
    "\n",
    "### Завдання та вихідні дані\n",
    "Розрахувати час нагріву заготівки $t_h$, яка нагрівається в печі та побудувати графік залежності температури від часу в процесі нагрівання в трьох точках, розташованих по перетину системи ($r_1 = 0, r_1 = \\frac{r_0}{2}, r_1 = r_0$). Розрахунки провести використовуючи ітераційні формули чисельної математичної моделі із розгалуженими параметрами."
   ]
  },
  {
   "cell_type": "code",
   "execution_count": 311,
   "metadata": {
    "collapsed": true
   },
   "outputs": [],
   "source": [
    "# geometry, m\n",
    "R, length = 0.05, 0.1\n",
    "\n",
    "# lambda\n",
    "thermal_conductivity = [401, 366]  # W m-1 K-1 300 K and 800 K\n",
    "\n",
    "# інші потрібні параметри співпадають з даними комп. практикуму №1"
   ]
  },
  {
   "cell_type": "markdown",
   "metadata": {},
   "source": [
    "Розрахунок середньої теплоємності через лінійний закон:"
   ]
  },
  {
   "cell_type": "code",
   "execution_count": 312,
   "metadata": {},
   "outputs": [
    {
     "data": {
      "text/plain": [
       "381.18999999999983"
      ]
     },
     "execution_count": 312,
     "metadata": {},
     "output_type": "execute_result"
    }
   ],
   "source": [
    "lambda_line = np.poly1d(np.polyfit([300, 800], thermal_conductivity, 1))\n",
    "lambd = lambda_line(np.mean([T_specimen, T_furnace]))\n",
    "lambd"
   ]
  },
  {
   "cell_type": "markdown",
   "metadata": {},
   "source": [
    "### Порядок виконання\n",
    "\n",
    "Реалізуємо ітераційну функцію за рівнянням *явної різницевої схеми*:\n",
    "$$T_i^{j+1} = \\left(f + \\frac{f}{i}\\right)T_{i+1}^j + \\left(1-2f\\right)T_i^j + \\left(f-\\frac{f}{i}\\right)T_{i-1}^j,$$\n",
    "де:\n",
    "\n",
    "- $j = 0 \\dots M$ - номера кроки у часі\n",
    "- $i = 1 \\dots N-1$ - номера кроків по довжині (радіусу)\n",
    "- $f$ - параметр, який розраховується за формулою:\n",
    "$$f = \\left( \\frac{\\lambda}{c \\rho} \\right) \\frac{\\tau}{h^2}$$\n",
    "\n",
    "Для визначення крайніх точок $i=0$ та $i=N$ використовуємо формули, які випливають з граничних умов задачі:\n",
    "\n",
    "$$ T_0^{j+1} = (1-2f) T_0^j+2f T_1^j $$\n",
    "\n",
    "$$ T_N^{j+1} = 2f T_{N-1}^j + \\left( 1 - 2f \\left( 1 + \\frac{\\alpha h}{\\lambda} \\right) \\right) T_N^j + 2f \\frac{\\alpha h}{\\lambda} T_f $$\n",
    "\n",
    "При цьому враховуємо умову збіжності даної числової схеми:\n",
    "$$ f \\leq \\frac{1}{2}, $$\n",
    "яка залежить від вибору кроків по часу $\\tau$ та по довжині $h$."
   ]
  },
  {
   "cell_type": "code",
   "execution_count": 357,
   "metadata": {
    "collapsed": true
   },
   "outputs": [],
   "source": [
    "def explicit_scheme(T, tau, R=R, T_f=T_furnace, T_last=T_last, alpha=alpha, \n",
    "                    lambd=thermal_conductivity[0], rho=density, c=heat_capacity[0]):\n",
    "    N = len(T)\n",
    "    h = R / N\n",
    "    a = (lambd / (c * rho))\n",
    "    f = a * tau / (h ** 2)\n",
    "    if f > 0.5:\n",
    "        raise Exception(f\"Не виконується умова збіжності: f = {f}\")\n",
    "    \n",
    "    Tnew = np.copy(T)\n",
    "    i = np.arange(0, N)\n",
    "    time = 0\n",
    "    T_data = [np.copy(T)]\n",
    "    while Tnew[0] < T_last:\n",
    "        _k = alpha * h / lambd\n",
    "        Tnew[1:-1] = (f+f/i[1:-1]) * T[2:] + (1 - 2*f) * T[1:-1] + (f - f/i[1:-1]) * T[:-2]\n",
    "        Tnew[-1] = 2*f * T[-2] + (1 - 2*f * (1+_k)) * T[-1] + 2*f * _k * T_f\n",
    "        Tnew[0] = (1 - 2*f) * T[0] + 2*f * T[1]\n",
    "        T = np.copy(Tnew)\n",
    "        T_data.append(np.copy(Tnew))\n",
    "        time += tau\n",
    "    return np.array(T_data), time\n"
   ]
  },
  {
   "cell_type": "markdown",
   "metadata": {},
   "source": [
    "Розраховуємо час нагріву з параметрами моделі $N = 10$ та $\\tau = 0.1$:"
   ]
  },
  {
   "cell_type": "code",
   "execution_count": 388,
   "metadata": {
    "collapsed": true
   },
   "outputs": [],
   "source": [
    "N = 10\n",
    "T_initial = np.full(N, T_specimen)\n",
    "T_data, time_heat = explicit_scheme(T_initial, 0.1)"
   ]
  },
  {
   "cell_type": "code",
   "execution_count": 389,
   "metadata": {},
   "outputs": [
    {
     "data": {
      "text/plain": [
       "20.01666666666672"
      ]
     },
     "execution_count": 389,
     "metadata": {},
     "output_type": "execute_result"
    }
   ],
   "source": [
    "time_heat/60"
   ]
  },
  {
   "cell_type": "markdown",
   "metadata": {},
   "source": [
    "Нагрів до заданої температури відбувся за *20 хв*."
   ]
  },
  {
   "cell_type": "code",
   "execution_count": 391,
   "metadata": {
    "collapsed": true
   },
   "outputs": [],
   "source": [
    "from matplotlib import animation, rc\n",
    "from IPython.display import HTML\n",
    "rc('animation', html='html5')\n",
    "\n",
    "from IPython.display import HTML"
   ]
  },
  {
   "cell_type": "markdown",
   "metadata": {},
   "source": [
    "Зоображаємо процес нагрівання в часі:"
   ]
  },
  {
   "cell_type": "code",
   "execution_count": 392,
   "metadata": {
    "scrolled": true
   },
   "outputs": [
    {
     "data": {
      "text/html": [
       "<video width=\"432\" height=\"288\" controls autoplay loop>\n",
       "  <source type=\"video/mp4\" src=\"data:video/mp4;base64,AAAAHGZ0eXBNNFYgAAACAGlzb21pc28yYXZjMQAAAAhmcmVlAAA9pG1kYXQAAAKuBgX//6rcRem9\n",
       "5tlIt5Ys2CDZI+7veDI2NCAtIGNvcmUgMTM4IHIyMzU4IDllOTQxZDEgLSBILjI2NC9NUEVHLTQg\n",
       "QVZDIGNvZGVjIC0gQ29weWxlZnQgMjAwMy0yMDEzIC0gaHR0cDovL3d3dy52aWRlb2xhbi5vcmcv\n",
       "eDI2NC5odG1sIC0gb3B0aW9uczogY2FiYWM9MSByZWY9MyBkZWJsb2NrPTE6MDowIGFuYWx5c2U9\n",
       "MHgzOjB4MTEzIG1lPWhleCBzdWJtZT03IHBzeT0xIHBzeV9yZD0xLjAwOjAuMDAgbWl4ZWRfcmVm\n",
       "PTEgbWVfcmFuZ2U9MTYgY2hyb21hX21lPTEgdHJlbGxpcz0xIDh4OGRjdD0xIGNxbT0wIGRlYWR6\n",
       "b25lPTIxLDExIGZhc3RfcHNraXA9MSBjaHJvbWFfcXBfb2Zmc2V0PS0yIHRocmVhZHM9NiBsb29r\n",
       "YWhlYWRfdGhyZWFkcz0xIHNsaWNlZF90aHJlYWRzPTAgbnI9MCBkZWNpbWF0ZT0xIGludGVybGFj\n",
       "ZWQ9MCBibHVyYXlfY29tcGF0PTAgY29uc3RyYWluZWRfaW50cmE9MCBiZnJhbWVzPTMgYl9weXJh\n",
       "bWlkPTIgYl9hZGFwdD0xIGJfYmlhcz0wIGRpcmVjdD0xIHdlaWdodGI9MSBvcGVuX2dvcD0wIHdl\n",
       "aWdodHA9MiBrZXlpbnQ9MjUwIGtleWludF9taW49MjUgc2NlbmVjdXQ9NDAgaW50cmFfcmVmcmVz\n",
       "aD0wIHJjX2xvb2thaGVhZD00MCByYz1jcmYgbWJ0cmVlPTEgY3JmPTIzLjAgcWNvbXA9MC42MCBx\n",
       "cG1pbj0wIHFwbWF4PTY5IHFwc3RlcD00IGlwX3JhdGlvPTEuNDAgYXE9MToxLjAwAIAAABkrZYiE\n",
       "ACv//vZzfAprRzOVLgV292aj5dCS5fsQYPrQAAADAAGuIeBAvxEuBYCwS9P8aHunJ4id+i+WGy3f\n",
       "/qp0XjsJGSPzjx9IU1t8mKpIBiQb5klnpQe+LT6fw+rH2x029Q03qgzNslREHNrM5oU5IXY2cnCp\n",
       "tDMWMq4BnRAwE3pRZ0VG5/gOSPx6cbcnG0LihCAbpL8bGJQoSIfZuxT0+vFcmbPJd3ANXeu+ShkB\n",
       "EfbGQMeCecP1ee+pFVhLpqAvJCDx4EFCxPeQKLKl31UbvWwMNOXzEzYM0ZFKrFLOTHzl37BgpdqY\n",
       "BJi1sIXyq9KKjWDyZgUFJMA0VKY4t7DljujP8f1ylCNLKQ104QnnKMeIx6ijtV6yu2evvwQZJJCI\n",
       "kVLOVy9e2vcaWrDc0pbOBTPhOt4LPpBnlJPh/YH6KOTmHvgl+3xYCoTcqYiXDhOkoRlAruzGfCmS\n",
       "XLeYMCbERi4ObECbsSeW+rh32HmiYcQpK1BHNSz85QSVEND5yEzK21OIeEGdnFKs+nZhtxsiXy8o\n",
       "gnO8z/WnjREIUqpcDJznG7DVFkepVqzDRB2Zc9tvANAdjgYTAaLOQKdV7ejTkXjaGoyUU+F8PiK9\n",
       "RYecc6p9+tlSHq/SWbqAHx2RcsD0lCeOI+8DAGxb+DBHd46Yzfus1s3RBLlwnfZ0GPV3S+H9JhJl\n",
       "zEjYQ0D9MqoS4yKMx+ycvFwW0uqB3eYG18k3nRh7zipV7znYA/Iq6Y9qfEv58tCbhu2Bo5XUkKEb\n",
       "oR0rWKkg/dm+pcgjvgayjzsbzetSu2EnKlT7nCTSZ2OY66SohauyjDJWkXkMn1oxH/ktlhkxeJoR\n",
       "/MoN8m9BUWEiQ2GEfvCtCNNzbO9MriTQ4JDtbmxpK6QsASJwk773/0y2MSngYTUu6PufBJodmm+5\n",
       "CDJUGt/gq19F5GrOvNj1tMDgWio5wKRajVWey4vNBMcPLXA/hj0dhscANbbyEFvLbQTachcETyia\n",
       "44RJamuTtW7fwcOCYbacdDkO9JCVt7RZNyiFAdJMERXHxb1bwpgKo1oNuKtHqYLJjLob+lQ8R1wJ\n",
       "YQAAAwCW4itJDBWopbHKXkXeHvN3C0qsWAxaAZQr7rvkjUrDsCTS1ubrIoTVPZjbaSp2fnrCpWwP\n",
       "jnTTlCZx0uHmcwkA9i7djJOH6rrJGuvqv7axRZm18Nu1mZLuBOkslY7BalWUp6KZ5XemQySU4E4h\n",
       "IZH8rTEF7WEyYSWBV/XWG+WOPtrnCSCR2MKaUHeJuELnh7f/pWGoBNrzvfDj/ER8f92CSxrWweUd\n",
       "C3HOmQvHDTA/eEL93TyE1/rZbmD+SF7gSO4iISCwuaVnYWpMCbjReeihfE/J6ZH2P9KKTPTDXWsR\n",
       "iqNNrf+wp21Duc9R4DL/LogFm3k384nwHv0Iutwn38Aexlo/1szyjeh1PtcTHIJWiMlTM0ae/Ha7\n",
       "ZYr+cuC0jFgfYNs26Lq5kmHqRyeR+Zn2AVf8iGdHWQR6oCodmZGGM44rOc0F7+YWHZt5HSDMIUdB\n",
       "/zrGNUVqUqhx7ahXfdC5RB+MrKqsnjg26FAtPk3BZi8aUdfgpbhZW0SPKD+A8U5oTudhmS/CjUsr\n",
       "eIyoQvpu4KuZEpPEets/oiu+3hHkh6KQ292YD9QJiNqRkH22YsTC/+TbPe2Ohh01krnYiiuL2284\n",
       "c2fEL/8zMHo397Ji6gZk9eiacx0y59zSKZUvMIMoU7uHdpD/OIqU+exUuXc3jWT/5XE5JwQtAkGj\n",
       "9hkHcJJLcY2mRHhJi98xhS47FUpPn5fLPceTOoxsm9b8mjGZGzcwMnZ2nGorKu/aya0oPK6nY8zm\n",
       "MM4yrsKDo+G11l8kqL2R4aR2mW/++ByQIBYmqV7GL/ft9y4HWxX3Nt1grYvB70Nr5ErcHB/z93Sb\n",
       "bABN1xvkCbM0L047/1fsLCcEn7RVlZ+rejr/B3Xa9W/hQgC9+c0XI4QU2jfsNm+K9nMfhyb6WgaD\n",
       "KbG6WaqURiex08z8/r71QWhXl5HS8xMBZCyZGLReM1hgqPXVtltGP/X0jizalV83Ot5zpLV8eQyq\n",
       "YnCWoUbinhGiASD7JKCl4HFQBFQhCfytu1qYqINNuYZ9CSh+RX/dvY+xh8bKmglCsaOrG0bq1mOn\n",
       "o+SuUv90vWt8qMdlNCGRhxyEpTf6yNpQaTv17kyAqdE3yqwW9A3QmnjxOvlwtpU46VeITP+pmD58\n",
       "QEKWxYAGzHeZlHvTfKQycUBBOYe+HMOoO/XvnW4xp+2Er9PCsVAKh4buq1wiy3i2KGN0woxk2YcC\n",
       "VKaTaXERtbwlUZckbU4fKvoZEjAtBPrRYCnhfTFPPdCNMXJ0tKUJu7gBgBl4Y9rv6yAhieeBF6Xy\n",
       "Y1RiNGWkiGA5MNSwY/w9AGFhoM3i+nqCk4ePV4VGrGtafzw1msuBROuyG/7JI40JlztXG48r1hxd\n",
       "HrvvY9dRqVsynLreaAgaWeZHA9eimd5zKZX1NN2qSOQEt1Dl4I3ioQwM6bwnFmHZtUdTAMv4nwuf\n",
       "RXOdehg5venC1l/62LiDuMuuUD2TNHckjvCI+9bg7tub+f151l/CO20Hd97GK0EWO+jyZkgcCkCm\n",
       "lSsoJWfJKsBpxBT2PHmt2NaKdNULeEfvHxm8iXdRtOv/zMFlP0AB42JLEOEKSYdjs4IQvBV0hKVU\n",
       "NHoJpPl4Fe6J+z5qi4tfOjVXSs1Qi9wJMu0Cm/YYuG/3Tay3/OQLJdyrjkZ3zWrT0rJRP6MlPvo/\n",
       "LaYMslr0wSfkysNtCK/QrxeHf3sAo/inj6+UqfU85GIBwMejLpOCpyZhqI+f+AkGzmL+nTfDaB0c\n",
       "efFk3M6KSLDC1obF3CcmFOG/hkztv7XzLgiESbGDNfVjng/RNH2WB2AdFHXRB2MfocWuzyk2fBKs\n",
       "xZwCh4sBrhMLeBSgeelXKxBOdYys+p0t2NCIOHc1W6XX+IqLEJOdwIByjhwMS4QvB2uR/a1FKtgT\n",
       "RF3u007kifuGr6Vun6UXnwuBsoalULczpiVzwLEgax5ASf/+nqDUA6/DdZCgS6hv22M71xMFnFYv\n",
       "LTvRrDKN2+wdLOK2VhEqB0/tCwfZyEJUYk6C1rslmFace9/D1Pxj1aSyk2Bsu0mmfVPoocbCZDHD\n",
       "CvEnFiChtIuCD5y7op1dV6eSw5ESK3sOmf8hA2hwwuVbZjnAHEY85JCbbayRkatLL7lVj1xQGjE9\n",
       "oYgMf16RgU/JgV/rDKsn9wJvRe0IQalFIrjwoyNz+Jy2lMUDtvZ4yXHwA4m5O0WZebBV5asjgzGN\n",
       "agzULQv4DJ3qSSAFq2h54Ex2itaWgXDuwV9MEhluaQqFf1pLIJKXwRKsERwngfNztgEC3IfygGhU\n",
       "sFGQO7e1Q/Wt4WAJOs5S3w5FQG01q0Z0QRAO/B35vQER4QpaGsJ3mcFWUNsJrEOM8H8PUiqZl3VK\n",
       "8cSr6n7uoWX/VwRC2WpYFX2AEpGZZv/O6iyBi1dSQWzA+muv4xZf2I+MI7bM1snjq/ixSqmHvtCd\n",
       "W1zj8Bz3eVAfn6W1I3rYYAINjtByf9+7DsTyY/QduuVKkq/1/lrhVtHz06PcIXNMzWLmdLlFyWeF\n",
       "QJVeUcbZ/p0DslA0XXHxjgObOWpdtbu9gALuTV3KjXfubrEO8iBjnL9KT4mhHFaoVGTsbNuifCLw\n",
       "QGIBBNu9Qrm8Oo00qYdNK/yQF6d6cgA6/pvY5tFLJmWHJIQHngAfXFtqxZQtRbU3qE/WLN4ubSX7\n",
       "8RqfoNbhxU7bkxB4soCJRDxzOULvWLq4P0LOC3svvMfCpQ2xTjExgFk9UsoyhGhtNMa94YYaERr0\n",
       "ACAZm8NSXZcDgw/+t3UzhNdXO0X04CqNVRdLzylgVN+j7XBLXqpnPjkatura3JlG8URp71m8LTbg\n",
       "9p7KSnc0USG+rpDf+6bg2QkhGU3wQzC5gvMU7TLS92rVML8vLhV04s1aSa4asvOlBavlwURAu0fC\n",
       "o8ZV3BZHJDwPbqGaKcAUvbjqZh519vcEZTgrKb1J+MLWWfIezLfqdRZ5T74vYhzpf7BHypQnKld9\n",
       "mwFRMy0GS50PnqObD8XVVtBaLwNF6ZfPj1uvwLJblSHkURDDwHB6Y7FEcNybwKZaP1MUP1oL5GxU\n",
       "48dV75BnMhyx3ymcRKLfutfkmTjgErUrhZjxqoOIBM+3NLYGQeyWCDNdM6d4w5FkFvJpHJkW6UQb\n",
       "xpf9LJ6AGOr1g2W++NRMd2MlrmqZVcmWcJYHx3h8m5lyIrVaIT0e4n4PMxV3NMf4IY6rp0Qlk5i2\n",
       "wAU9t/vAqcx319bAxtaC60LC64TMC0A+b7I+BQsZ3QmH2wM2DK3sbZ1Oy2abw1W95lD/ZNBDQX0L\n",
       "Hmn37pxDWLX7NxaTGoRsFIoLYMoNpjEpGsP3Eb6HEMLrQRacTQYRgnfEqMRI0c3cVtZySA2T9hEZ\n",
       "/0RFH29pkhFv/2zsUBnxPh1Vyv/d5Pb1veRqK8Qdb/e7d3V1MQfgV8lWDDuzhwn+eyWwU5EaPO89\n",
       "jyQiuZouEvZniGlQKMGGnSIc/8Y5gpzuK+f8th7WRricML81L9Xc8q3DSXDs5DPUP2ynms3PK0S1\n",
       "W7ZRmOaKBYShhn5MCduNXSaLmQWnwxxQvdsYTJKAwvBxCdPLTIvjph3k9Uxo+V6ggvz2ISSWxu6Y\n",
       "pN4K6KlZJmw3Xg5l/KlehTcCrGZPUh8fx3BDLtZfPEQ3IgcORjpG2bwsCxsJj3j/JgKIjBNbDHD8\n",
       "OXFqx+qaCr4z/l0uu9UHJNIb1Fr8HYHf5skhgtg38pJmgBn+CPvi6x47LVZdkxGbiRnwbzaPQ0RI\n",
       "Zez+pEULr+AmRzZlizWT8Us4jc0Xh7IFVwXqBxkNZr6RvjjpMUH4ck5vhDjHJq1o0upOuOFT/MIj\n",
       "YomZoNLf/EJf5KxQ7vymFm3+v8g1D9tdfgfXPAb9ewhwy5YkMDXNoEvjm3Zm5+lodwNCBto1Hili\n",
       "azScre2iJcuUaq7apkTzvOFhviGMPjyLjNsxPAAJUH8/+hbe0CdpMaBqHECLg/2MijrBeeA26Lcy\n",
       "U7y8hHaaZOMSafHilQ3nacmDZGHu2rXz/4yik/Q+tJ6rtpcOmOry5i5vDVrGf4haBK6TEpQaGuZg\n",
       "xnAuFGRKihpDx6AlKhlYQLL8X/s5vnVJYXnr6PO4YiZ3W/k4JGZY75AOdpn7Aj4iUQ1/YLsfzNvY\n",
       "y4bIMMh54ZVk9MBaPLki7R/3DdkYOSwod66JzjUScRuqu0jSAfp7uL1Tp3IyfxcTh5Pc656P5hVF\n",
       "6TW3tg2XqI/QI6YU2DErGbBleHNxdx1ZM2xF90lW3EgHL4OgXxtf8uWPC45TgBtT4MQYkOkInn+X\n",
       "mRcDmP+Ly5zUYQraYSp0FoCF7XlKdqTLrPQy8+unEod5QXYlP0zOKmioDUj5Y8emCGih1t36m7+l\n",
       "Gqa8rvfgz+SLWVbZk/bM/WwBZedWcaK1bE8AK9xwj2JAaWp4aYlgaowhjwU96Siejg5psoKg6PYK\n",
       "OZ4PdS1iwS1xok9r0pL1jKLwd1vm6JklkzChDvqi3I/EcymmM0Pq1ZfOqKDM0lKPEXGHIvEeuem7\n",
       "zEVRD4JGnTpPf7LRzlb7duuT8uA8MhvPyT7Hst/qbm5x/e+syPjaVwoQGkq+yb288UvzRZxsP/SH\n",
       "NBjGKt8nN9f9MP6G49fzk6vNp4Sn2MFDD1ImIbCIUjgv0W8j8QyPdub2ohKEFXrnwLiqMWWTXtfx\n",
       "KDSIwOh7YRzNJJx/+1SXp4i/NoyU+6ybYVOA8y0LApxweKGisXN0Fk9GJvUPwWP28ZcfEasxJMxl\n",
       "r/yX7AMZyx0OciwzACamtuFIAZq8O1vkMPXEkWiR0VE8aaIlYd2MYbJBrVFGixDsdMZtukzeeW2h\n",
       "5X06ZSr9PWeRh55yWvbFn9JDgR1gPEvHlnRgzdKB6oQZ+Jbd8RvrEutXGEFrXmDnFxvRxk/+LdcT\n",
       "ZZqjLA49kSvk5sHJrovJnmyKzfa1NSVHDbyaINZBcG6mcDEBkm5XTcDzOWcM1rtUCm9K8Q2zz3UU\n",
       "CpmDXJuIwwmqLAQ0kAzlLTAG8hx2sMHYcpXLubNOj3IjI3wH577AHLp3cf083D0gKdXDV6lxIBSa\n",
       "8LxZn4cncKV778hUpSG2D4wV9hPd2BNcFOm0+4zPVEI3Ku+llP+/B90ZCvD4Ee2W33CT2U1iAJV0\n",
       "2yfn/xxut8k+RCNXAmLcg4ABEaiAMuQNr8o0F+OkWsjWRhu66T3Ii0zwdm6nWuJxYfR+/YqBpaiI\n",
       "UpdnZpjIaLlCukgucrE3ELuvFREWygGrEewaArWZDa3YwXk36waGAFP8onIGkjpQtQccaV4euhH5\n",
       "Vxi0VZAFbkSyqPJxQqL7X/zeZ0P7eZZPkqsobaezjOZOWNjhlsNu09G5RCH/ngDS7CZ6FdWj3eV+\n",
       "u0eoxSoOP+CigbyD8HvaLl1mr4R4RvQEvv4jtKsCTCDwMkfDrEpO4fJPN3pCAYBYsdpN65wAKndb\n",
       "o+7PZwce/ipRRjmS0gnZUocjX8H/HcCNZQcBgscoTuJoMudYtLqCJ0HmwN3XgC0JLLiYO0ysjv7/\n",
       "OVV+AvQRuOdRXHn7DaFZhH+Fr4hMKkH5UnfHAswTb28XCy3hofYLSuQfSl5W//KxAQj7UmXNZfFl\n",
       "UkLoZPTmqbtDwFdNrt+iX367jXCNgRdQKAdRxydPjNutbuObnNj6Vtj4r9178318/RpQrbqIbjDl\n",
       "FEjRB3tS8fr55N9pgi3RAm85k3QsWsk/rGbBSd2uz7A5kUzcICF2J4n3WbEBmTJfNxck3I60HMHR\n",
       "x0Uv4CzPGvtBS5eLYyFxrbKjLDbftONhVn0qy7CeXMr0j6un0ztkD9i4/uenT9yqFbw/B6uiXT6O\n",
       "AyUH81PD6CUNquVbBdNFOrvpWI9YePpKR3DsY46ykquoh+tH0fM6DzLMDXCQ9ioj3Co12ndeJYfP\n",
       "iGc41f9UinNtl+5Z2x7/hscsf+supZcKLCx+dQdNXULV+4zI2O56UxAYehps5fzCk9k0ImMbXVIp\n",
       "tZ4/u5Oxd07DEuWagKdmg3CodsZE/XrUH44NvmSJQbbdy/GP3+RNNmvpq403HrvskOI7kxXJgC9A\n",
       "x5HLoLaGe8QpRcRt+NLxTUrKE/GvTvi1+2eyFypyJIPUQaMcVC+dQBoZpPjs3UoeH9r1YOvO8vUc\n",
       "ZLcDQSbvE4ufZUyhcTr1o6jmOW2qg0Wdz/2NIlhpxGxXvZPwN1n+jaGLB90f9lw7bECR2jw2RezM\n",
       "YtN/pSdAucfideKp1ydsp6Xy2VqtRKuttwhsGhiyjr/T4w2K9fAfnThW5khrTWgsjnx7oP1tqNlO\n",
       "8t5DRcpMVvaHRi2z5BhbjbEELLG0IE5ZBvxvibUzpa1qsVtXFoQG9IrMz1NP3vYiAnUH/KzuEsXn\n",
       "2cyr9XtjSi3iUP3tOt51Cbhs5zX2l7bId1ru4LUCBIcuK3spV4tEiPtlHZsPzg1k0pmR1tb55vhi\n",
       "ihsR4nxPIZ4f5WGAq7mdBRwBnmG7FyzWk5N7rD6mbSyVJSBu+xPB4AGLa+i0V2b0PGZVMJWU/McH\n",
       "bsWfjz/TPh5bhV28CMx/wfF+9/rkx7bs+ajJCNcspdaZ/0BmEZz3ZcO8rBjW21iYUYJYEZbm9/uC\n",
       "3/j9uYdJv8rMCOK8AQgpSD7EyytmciYy3Dyayili/fGf5JHAOb+bgjiy7lcFdwOVtxeZT2s8A2dM\n",
       "v4g2fsms9//By0Irtju0K6wy+BiIfyj3ggD1SDpT8QCI5/8XkvxLclcW2zZNcmVUnydPjF29Wkoy\n",
       "6ZC8KSEhh84ROMCa4VnFPVN8n6isgZchBOiOXJCWkusPUiCr/+ME6uN0zhHQwcUExKcnR+sOFQ93\n",
       "014DhSUthQXysstSLE/SWCssYZcAJQSYhYPGeC1nXFu38oBPyGO2/diR03F+1WtvTJx3h1RPeU0J\n",
       "+j+CpaWiaedTw0GiF9Bb4fatmWDHCJYwlssYGSC3De2CEOnVe3seTjinlftX/l6RLV0DDLS0jqIq\n",
       "AqxzjPynTiHPsQTi2bwZDLtQfrK/7fgs/vB+anQgwN4CSwyZf2OWQwK1d6X5OR629VsT0SgSSI+D\n",
       "jFL58pQCTwX3qxF/7gL5bsnfMwOnQFCmnXLBEw84ehjywWhUM2MYiBpw/slgy+0tJP1A6WGOzKd7\n",
       "FlY4oyG7ua3mk0l53D/szlgSJJSlkVKWMm9xha2IPY/aKq0nLWxWhgC9DnKOaBTmMQ6UMiqbkP22\n",
       "gplp3N8oTGZHUEm5942jCDAoHs5U94q7OAUaaAwxPQ1mIYLh8JKTGlDDTL5q7YQrScDDZ8zS7EVr\n",
       "Beb0kGcuSkDFFX9Fu1W3lmfGr5UD4agda6toE6X3lT9hVvRBGMBadcSDSLXuSYHENeJBhdAGXiO5\n",
       "j65kEdzK6+aHzkhsQdnzdAKJUWWJ75Af3e2A3gNLZc4yCS6R2Ytg6J7WHlrayuj/f0bOv3djpDCi\n",
       "VYvR/cqWwgNLNNQZL2TCFgFseV09X7OFipDYWEAoYtrLpSEBlvuk4qn1wr5bbpKbn1APk/ikqLUj\n",
       "ipWkNl4oGfCt6Z1azw3As6b/uskjAGewOSTS1udA5EZux7L+vMaasqphRz9dmXyNZoowCiGADgkA\n",
       "AAJ4QZohbEK//jhAHWr4OAnfpSefLyKaxHv63NcDukmmEJxrbxyt715IIBflSFLQG8m+4Af6zbiy\n",
       "G3K/npRPj/umYBwbTp6S16glQJAHYNMSciZxGlaJm5FPOXtmE3hdU5lMx5FM0ocyyNeADMpp/dxB\n",
       "UkxxS95m6BCJ+0xpDdwdcswj+Qm/5xmOZa+AtjLFc5/QPYPD/GfsdrJyaOWVRHoYiAB0+8/GB2Xq\n",
       "Yg/ki8Z4Fi4dwLmWmquxAeace0ESpRNo+hZkRktEymDCmnz4TyqPcC/4u4W9qbn0d9Ai5SklWr1B\n",
       "RP/hLWJvFbSttS3nXVg2Y9CSnaN2TTWTro+6TtiveXnerczrf40B4cWIenRD4fJukUY/9HlP22ai\n",
       "cDwdfnnr+jElbm8pdnY0T6ybj4apEskqq+E4nlcXFVDvH3fhBnf6whboAb74jLg5JaPtxawK8NPM\n",
       "qFSsRW1Ehl7aWpoSupJnZcHFo9kD4yF1R1ldTc29Dm+gh0HeIvS636YYaHfNvVPpY2swSfMDnXW/\n",
       "r3nME5nn8DsTxuCDH4TX9Wr7eARVnhwBCaV8ApBvtU7efRR/MQJfSJWDJe9kc9u56cclXWnn+Ch6\n",
       "OS3tt85qFGINoID+O5zcvLlgMzJq/qj6sQfeo4Yl2DW0DIxQzYwiuKs+X0Q2PWRBYT3H2PwD5X5Z\n",
       "5m8V0N4OwoXem6kFD9TjKJy8cKwlumdA2wCos5MCPChjfhH7zpbcientqjTOLEegKP9jx6P+oNdt\n",
       "5OTPZaQBxwxxGj2T7MYeMrD/eRgwjZ2ipASwxyfafSkkQC+fiJPaA0mC5VEYUUvBVIn0oZSg0GrI\n",
       "n9aRobS9coAAAAFoQZpCPCGTKYQr//44QAGvob4AFGgRQCiXyRaCAv5llX+s+pOS8C9SgTzwA5eR\n",
       "jzTH8H87FyLdxrHQsIUOSFMlAbMTtLQPle0AAATQjFht2crepH2loz6rryQ+Xkm1929oeeBIBRF7\n",
       "zvw4or5LX8D/KX0I4aCW5yyNKCFCisreIAk2IWkT1YicjNMMLLAfgBqpbGg08FajtljRSEQaduXP\n",
       "Rc20i0OFjNsU/PEul4rwOcT51C7GhTEXBa7YA7zr7J60fYv2b4LPk71yjspjlltuOV1GPnqJXeVf\n",
       "oXK+yuJI9r3xk/ta6RPlL6pEIBnbk7j5N88hjL22O1V/S7QpzvpZxvcIX7xWYLIu4AWFprIJ/wNP\n",
       "mxPNJ0noZSBNWqx1JirBQQXeBGq/zR4jlEiM8/yCm79q/2yrQZt1G8oH6V15g5WGQTdHeavq9+sr\n",
       "d7oFgYbKNsOEzTVvda663YXSf2bjdwjwKjSOehp5AAABKkGaY0nhDyZTAhX//jhAAAZyKblFmACI\n",
       "PKEZ85kbsEU7rl6TQhMPjdWP1gjxgZslY6Wb/Ev7ggo6ac7Gqz2v8M9APBf4DoPmDsFsD7yY3tov\n",
       "ruIYZsVqZjDywQu8KDCW8tm50yLVEzZHs7bUPKeQJOxjA7+tFOFCYohiZTJm1Z6eBrQubs0Wjp0K\n",
       "M3kT20at7qLx9qdJ44mHjlknnIYqg9IU1X/Gm0gFY0hv1A9KrN0+fQ/c/td40bzy4+pti6EydDHi\n",
       "DXBFlbEeu25Iwc1rj8Z0UwGurZyknoYRv+Z2CBoRkYXmdk42SugWkDoU+z2zmkXtVAcjnPwH3ojM\n",
       "YY1gf9Rg98egZsE1qL3YzYX8VzT024hiHxu1S/ajKfgrSR2xgrBbGoi9+RtcPUgAAAEoQZqESeEP\n",
       "JlMCFf/+OEAADO6BI5acgHu4AEQeY1CcCE7wsR1G1ZgNXV6CtkTEYf55lFGUv7zrEaxy4wQaPi3e\n",
       "P/7dbQi5Ci+oAYxUfNDq7rxfbMdFhfvHu+/0/4fhw/kmMzCDZQ00cSx/SbUNcQLg8MR6E5WCRvF8\n",
       "ArrKXcTbDdCaVuRAKDCknFcEKdwwThkEypkIVTF4+opWzhrkQ3VcSUHpgkQQObSAwKsOuFGDHBGy\n",
       "jvescR6hpG28+ZLfphxJf9/RrQI6fcDv5D2C7wt8f8zjdURbqMmDi3t8QD0OoqO0QNreuHVlCZLx\n",
       "mK1Odf1Fd6dkcouWjnLLqaxwAnqh+4+kIGFEbBeIwMmb0u7lc93YWF/QPtcQNHkaMX8rVZK2GqcJ\n",
       "0ja/oKEAAAD2QZqlSeEPJlMCFf/+OEAAGb3RhwAg/WYld7wL+iP58x+iEbiWzZmHyuLIhGIBqLf+\n",
       "PmdNdTX4aJkSmG5W09tzgOf3l8zPlx5+D+BajEpljAXhrMjENbrJpRFGYKwbwaxlubxwG9lYKwc9\n",
       "Jd2yRJbYy3F9MJRqLVTDz4PMcoUIysHl51ybiNn6Dsn5eVtvFdxJM7kajpj++BpGKWD9dHlV47N3\n",
       "IXJQOM7aPfkKeSlptP/Cu9AunjEtzUZw5B6878s5b9SlKp/cwKBk4tW4LplPIqVaSf6RwM9uWua3\n",
       "JCXjEHY/lSVXYXwat92sUBj3b2OCHfrqcGJzAAABc0GaxknhDyZTAhX//jhAFHwl+HEJPllPiADJ\n",
       "jKfJpl5lyVUSd+et5sQXXOflpijE855q95+1sSlZYhQ1IAynLuKcUVVSgIyXAxknTYUE08PKXlCy\n",
       "MYtAAiYApqOKQ+FYa2IZrSJpTf5AwwUbMy8wBF3Wpeb622kxnOwCn+/xTQEZ3+IUSeKgB/RXQUx/\n",
       "/JIAPvM1X8O2oe7cPGdF8MjG6eDyLpgLZiywaFiiZzQ96mO6bFwrbnsF9yvDXArr6S2iY8nJx+0F\n",
       "YctkH04W0WAozNru0G1142FC3FOcqt9hWMKEJKQanMYmDZjsz5WxO5cyVLyyR0d6DTPu3Fqur9aY\n",
       "/Cf+fEVhnyEZqx7UbdCuOoGep2rq/5E7g8xoAIIuWpTqKJbPE+L3e6AwG4PwmZcr16L+uHGexCKZ\n",
       "uIT1P5eGJXfiuDEFiUilwptVjX3xjP6N8k4QpoGAZoChQpJw+9y7qDLl+llBNSUbOXwaJ2wnXzMN\n",
       "Ak2dAAAA60Ga50nhDyZTAhX//jhAFPyQzwm8mblJjkMxPQP0S4K6LJVculZgAh8Mpdd+M5QH3e0A\n",
       "+NjbVhN+GuJRpQQQvM/jo5Wgi4BE4B8C1LaRAt/WeX1g9mk4z0eII7cJJ6u02/yhoYmWXN6+KpNh\n",
       "loBYaoEbpdSVEC95FJXdhP31EcEOmKZ8kr89eeQhYfBRPojb8V7w+2tLmWXnhcZkywGQQPZEo5mC\n",
       "AFdtz5U2hohGJUwE4fWA39+1PJR7/CGEVdA3Qvm0yLEnQJ2ZZ4EqWXyQevHc4qq9WlZxHR6xUtQO\n",
       "OguY+tMpFKbWFKj3gf8AAADvQZsISeEPJlMCFf/+OEAAZ3QiNkBUKvgA2L1Iy0HbiZkK50bxuVW4\n",
       "eKk8G1ui2QyfGBqco0wmNVpANJkTM529TOj9nnkckSvYSrLy0k/xmouh9tH7jBCOPLcD70c4fVbW\n",
       "lfvRlI9iH5TCQosr7WC8PfG8+MXAWZWHFdIXYIGNDUlOULKqJMfPHFrAMXOf9hs5BdXjJk5++xGs\n",
       "hB4f/NHoTmuW9a/V9StiU9cYFAvkaySU9skymkWcEG2f0CJuY1fKdNZBxUweGVkbCYd9LjLdf9PN\n",
       "+hKF85aGNWaQv2eOVX8Q26/eGHWFDoDTP0nPuRwAAACiQZspSeEPJlMCFf/+OEAAZu1vY0AIPy4K\n",
       "jCqimFcQqzqqoy2wwwX0M9g16kisZgzzL/x2EjC0byEhJ/qOnyu6zqjVbLWqSH9SS2SO10dyPFkD\n",
       "XWvKsd+iFCVSHlsR5XkoIpVVq2ayPQpAF8yVlOUiNVA7co/WqACgoF54bWQB1QuUCTK7XnEWX6qK\n",
       "RxgiOhu2qcWjOVKq7wMPZFdWzT1KZ6jjAAAAwkGbSknhDyZTAhX//jhAAM7oRGyAqFXwAbF5YhCI\n",
       "yITIzH4jhg2Ubu74Q0wpotLdze3EwZVwnQNRu/H9kSfWha7RbbIBGfxpMaz+Yg7VK3ocbKYM+lIw\n",
       "zdwN5Wh+8fEMFWttHT5I+R9HT8pnIgKfRlbzLjpZriRncdhd3GH5Z8+7vkLHyLp0FlE2QIC3iC3h\n",
       "P+qnu2qbZcOO7BURfI01Oq9ZtTJuABQtytXGGlHVzcmHFUEqVxOAxj8UAbmGPAJAFkGRAAAAw0Gb\n",
       "a0nhDyZTAhX//jhAAPKOClky7tkzgBB+s1jLoH4w0WSDHtOM5gWzPjwXea45MLvr/L7+vwxTtPVZ\n",
       "HcBq1r2H/edLV+QNompgEL0onE62rL3gyKcg9MuWsdVTNH/f4WwlBZ6Gp3xFuK0BSc0el41Bl5j9\n",
       "N7ohu1GQ1zoN6sFUC4Yj6VaUGPodE4VNmnjWD3UzvlCsQ7dC0e8jGBaARaWwym1XNUyUMZCom91p\n",
       "JTa/TXTxUJqMxSBP68no1C7SB9cCHgAAANFBm4xJ4Q8mUwIV//44QAHlHBSyZVEQAA2o7vMraikx\n",
       "VmPPM0rhziVywvkdEo+3SpVtPztXcGgDWpwIbuE7dT6pt3uYjnweOnFjMEj9biAG0Z+9nLACFpDk\n",
       "vg2AAlM32tg2LLspPMAlYFqbllGWuItA0at9C62/f76h+1+t6pkiNpYDuHqfPoTKPAZu3+zPwwep\n",
       "dIFijo1zdKLCbpWb/EPh/TfzC9re61LPW8cBsF5Ucq9BFITlrkO064cJAM2NzIv5QZId2OIueOPB\n",
       "qAQ/V0wB+QAAAMBBm61J4Q8mUwIV//44QAGlg94eaKzGgBNXfkyHqJMzX3gdqd8izXDdD52apwjR\n",
       "wLLac2vPzv9axmodOcdwaYGfq8rt/GJqR/EI6NlneyRdhITd7dZz2cEyGq4YLuSH+yk3az8jyP//\n",
       "4JWpV2+qm7Fhz4ik1/nI7XsZflcY2pkEjh0LCe/jbSgkgfmkYuuPwmjX1JdbF+kY5oj3ztpSiNIO\n",
       "yaCZcX6ZVyETlUN20/aylx7Fk0Tv9maL+Ic/Z3ZcCDkAAAD/QZvOSeEPJlMCFf/+OEADSz0EJzDr\n",
       "7groEAG5UlA3V4pS4wKoiJ3hJyXyw/D3OxK+21jIyE5EauwSr9U+jWuOkgd0Ev2vHHu3kJn38J6d\n",
       "u7EPgAynsSfo94bZ3wBJQnUbc6U3ibeFMkcAt2LDi6MgFTRGqm4R0dMurBIztci+26QL4k32FpAb\n",
       "41faKoHj814cCTx7ew7R9h/kyoNwGoVfMMBF1YXevsXObFI8wfIwNnyFmzFuJ3Ve50IOY/wDPeIL\n",
       "cNFNjWc/lne/4Nm3W60zidYm0ql3UOoWueV4uCLfXhUjYOWoq4ZuC/6BTrXysftUzA0Y/ni/Jgwg\n",
       "QfYK2BdxAAAAo0Gb70nhDyZTAhX//jhAA0tmtCEU4CohIAFxfEpWmlslxUeZwA3CGLIsS1qqmHbI\n",
       "c/ZH5NSlwSoWHu5vnsolf62ag1049U3TaJFtSlxlt9OPdNdBH7n+JteR+D4Ug2sfhI3O5i01+C+K\n",
       "r9/2Olyg48vOOtS6SDy39f5KtFeCHLNdfPmKmKLE8k/cPbn3Lftqmgy7yxWAJ3gDRC/T3HCpV2sk\n",
       "Bs0AAACjQZoQSeEPJlMCFf/+OEADSc0YdJ5TpnACFPJwVNckkDi9aOJVVo2D9hgxs0CWg/euhNPX\n",
       "/n53+uklGSneU+KGdUfO8GRzwqqEhe2BrNcjeXBVx1vn5cybcLyNI0SDcB+5144HDJxs51Um/Xdo\n",
       "Ou7rPqIqvCF5SRYob/focC5GAXXgzBhlalAAJwAolVFIdtoFTUdTm+pBR71J16l9z7aplgA9YAAA\n",
       "ALBBmjFJ4Q8mUwIV//44QBPfma7de/N4XCZB2HKdNNIATjbJkSW5RMB7nJPJ8co0OM5Zx0GVFort\n",
       "Um/wa3nqSRTlk25qoop+dBgFUDrOa8OBJ1aEDb795SKvw5xfO3JQmHnp5RLu8Z9AwxVdYMVX7x1X\n",
       "gQSKb3dzIC6r53RrMBLTPCfPH7Ti8f9BW19N5xC97GnVQxiwoL8T7uTAu444CGgqskC1w4c4pSvN\n",
       "RtqmWACtgAAAAGZBmlJJ4Q8mUwIV//44QAZ0YQXlUh69V2Yu4AAACY/+zABc3e4PmN2/aVdgE+bS\n",
       "rYMwCOLh0IB0QSsAbXT06UYsqoOic7xMwc8jvgDGW7TMzh8q3jmMFnn0bDFOE+VrCdbXSr5UgVMA\n",
       "AACfQZpzSeEPJlMCFf/+OEAGdOCKbx72gAScCNSkyft78D6dWLqGokgWOVxZEIxANReU0PEJ+TRu\n",
       "O456lTsBv4+/EOY+bf3iaqvAUzbcVntXsoiTRllcYshpZQco3OaeslF0VijUrggaYZIJGJHgWfXH\n",
       "/wMKNdsEN1EvEMjlXunEtcRYo1/k9/aX49j9206juW145x0lotfmN6yRoUWskFTAAAAAfkGalEnh\n",
       "DyZTAhX//jhABpZ2o+8Hi5v98zgBbx3nTuO0l+gefMfvozmMbUkiUxb8wO1EagURgYZmoSOVWRpm\n",
       "5YWT+UOlpL6bt/yNilQEnegj60KcsOAtn5lOaj5JBnBVWz9X7xUWpz6+vWPjbRLMJZWsEtuW1592\n",
       "fEXAO78BBwAAALxBmrVJ4Q8mUwIV//44QAaWzWgoH5dTsJQALhNEYdYLaLSF84Q3vAQbpAyuEvww\n",
       "wg1X/xkWX75Ml7/S4SsmjaDEfNjpl+9nKYQ1qe8uXpCz8sLhX8sZg1ym04wMAzIUyjQGleVMV+Id\n",
       "GtykEXooFpgR4F4voHPLBbb4lc004krhFetHh7eiUVhefdRlkDxoD+8i26TnsemBGZIYxuAYACur\n",
       "m8uhSUrqLUULbduQwfHkwN7fkNhFubtqmWAB6wAAAKRBmtZJ4Q8mUwIV//44QAaTm/M+cQ1azrtg\n",
       "APxUNuhZXBXOw5L9VCzZyQye3vFxw+B6gv/Pd5AVfwtiuLMWkXGlSAKKPeCZ/ojHMgSYxnPE+eVb\n",
       "RdefMmVAcGZfOB3tUHefBSRF4nlj/BhFqGgR9gz+HdeNYvmqvVJF8mP0YWUGCnl2Z3y5QTNNeOH1\n",
       "vA8pdVrNWfpDq3XtOM4q1w/qPjbVMsAD1gAAAIlBmvdJ4Q8mUwIV//44QA0qorGGmrKp6Q2BNIAQ\n",
       "lmEb+v/u7bg+GhjM9JBsEXvnL3yos+9hjcP9h1/oPpqj5jX+EmBIH/RuD/l/R3zp/pjQSV5lG7kH\n",
       "Q1cx6VwWtyq4TnT/X0eWm4Vmbkt+RMLa/clDKjOdfRTYKc2o9+JqlJeeccBAJag1KoADKwAAAHNB\n",
       "mxhJ4Q8mUwIV//44QAzZqxMbsABD3FsRxtZZUqyw1e8KhmOe5XYJdZcixSEbvAWUvOmCTRcbw+Y3\n",
       "7/SpXvcFGAkMMym3rjI8HRuJLHs4BE/qETd8M23gLpAV/UhX8/7tqhDmJORCSXQ8afnVs5+s0HHB\n",
       "AAAAsEGbOUnhDyZTAhX//jhADMwe8b/oAcF1RSz0rU+B1+kkVR9Pltg+FixhiOR0xz2H8dCPMilg\n",
       "KsIBLG//wIi+QseCK9Ily7g5lmSAQMBitLACMmd79jZ3t6dBV4F/nCtdLOeF3z1EJ0/ypnfMCQG9\n",
       "E9iyFtsYU/y5eGEBqDRp33BBO/lbbfismqNDYf3x7dacUgxuvREYKLJvkAxw229xYiPPXXFeRBJ7\n",
       "DjL5uHqlUAELAAAAzkGbWknhDyZTAhX//jhADN6BI5pCs0ACMi4Sd2OVDFBiyirC1i3uPim6Y440\n",
       "mMcUawdLj5ZaTHawRX0TBKD8mIBECDv94wr4b4kxZtq7WpieqM9M0/6muMDQBrpLj2QRQLVkOOAM\n",
       "gCEY2eVCiMAKsgomtDS8peH5DmJQ5XLa5ZWNYncDdSbmEj7Co87ImqpnJurk+nSErxkGTfo5d2oD\n",
       "8TFKYW3K/Dcz0v/3r8o1ZadYAVRP180fLFW0Y/JJp9jsDUtDJjiVGQHG2qZYAGZBAAAAnEGbe0nh\n",
       "DyZTAhX//jhADM24vvs6AFgDKevHT6LzpErVYE0TVi/tsseFfwjFwLquTkd9HkX73JTVh2FQwY3/\n",
       "QLv1S15ofYL/K5f01XMBVjFqGhneWNE//xiJF6jl0VBufWxq7iCFqFLrVrIjQQL33lTkCKi7hsnR\n",
       "Vc/FDqwdmm6IlEEgheCrFPd0B9bXhXESL4wHtECxxtqmWABmQAAAAJ1Bm5xJ4Q8mUwIV//44QAzR\n",
       "nZ7pKACLT1PzbFK5fb53EVK9HM+PUuw647eD6q/P/W2bcj9FCSuyDcshbfd7dPfxml5CkzjIizbY\n",
       "OFUAZAEL3tOq4AhtiknWlOGybCW9DFxm13+0f9WYGLeFcQMz7WFkumFI8XMoC7e5JuuceNSF+3Zh\n",
       "aORboI0bLhIPD6HBzvryN3lMoJycbaplgAZlAAAAtEGbvUnhDyZTAhX//jhADM1Qun4AEPKnoHBd\n",
       "5KG+Z09NYCu5lm78OYmAt0jXtiX9HAQC0PESysUPgTX4cG0Um6ZB97/MsOfFQmP2NqNciTMYFTA0\n",
       "mnLL0kBqfMh9GUQy21me5N4NxE26yNtv4Ag/NVG5Oxo0FULyTL9bVwZgGyKQj1LWaQkJVpoo5E0f\n",
       "uR8msA7R/XA+LmAJ4h/l0fNJMEtaG5TEnlpYRiKMTdM3921TLAAzIQAAALVBm95J4Q8mUwIV//44\n",
       "QAzVz30tboAuYQrKD4pPn4P5F0h++H8abGT5zhBfm1qSXe4OM4BWlX4cGzynIAHfdNmw0WtIdc9f\n",
       "9KLotbf+c2MM8vY0Be7hVPtEd5yvi2eksuvrQ4xMjdQa9uFRAKy9QOKI6hsX8ojyH2NXpEB/chg4\n",
       "Hti8mPTZWFz4xmRThsnMKedANn5IQYzBEh+7Fi/Pitl3VB8aEUtP2Qefsr3HLwZKW2qZYAGZAAAA\n",
       "50Gb/0nhDyZTAhX//jhAHFZuUUQCZMTmwIUZMb6WKUuMC+Ng021JoqJSMBGOen4IXcytL6Cl/43D\n",
       "UO0QwTrb9FoKlfBoXEyBCqqEnQoe2HkJ4wNQ02QKxYwmO1ic+Al4u/kPypC9tTXQ6xEfP25Yrn58\n",
       "A7mXNj2mezR3B9qFTxNT1yw65f6+kvfQMIQJA4DBp/7mtc8p5G5STTRn1GI9YfT++UgZOcJuzV04\n",
       "3ujr97y3EWveQdTyU9kZzVhT/kNQimJkRRhRIgSMDT6oi+NNW9MHBYlS1SMITumaAMXy/hyEC3VM\n",
       "sAA1IAAAAMxBmgBJ4Q8mUwIV//44QBv82CR/2gAcdq1PFifLIQfjynz22tXpDsvUBhCjCmLeasVr\n",
       "g2rLDUgxpSH6SoLPrAJ078xJttRnYued8YxwKXxbCdcBKXZ3DIINls5E74MTC4TEVigTYp9uOEW3\n",
       "6j8iLCUv3qIOafvgT/n0WewK7yGyBy8+XRXtCaVIzeoVZYe4C0ZCQL9GEYOVNgVRARolI1WZvLIF\n",
       "bcIbssy72zVbtslDd71+3Wpf1r3A/Z62WTSmCMn/I7uCVb2a1KoACLkAAACVQZohSeEPJlMCF//+\n",
       "jLAHf//5PoAbghbiLs2kwloj+Kj7rL0i6f8n1sHN0+ql6D/EWofEYPKxK7C+0lETyma4ZabvCvj2\n",
       "lXVEzd32rGuWT4GNZ5sH+cnw9SIFmA1h4CnplLPKxdXZitKdZo8sKmG9Pbm1FzBAzpc5lhQEQcY5\n",
       "4xpLya8okuccBddYtIBtU0Q05tJVApIAAABEQZpCSeEPJlMCF//+jLAWntFAUe3UjN6UruefQABl\n",
       "+6V2LEp1Eyil+uHF38WizL/zSpXLgBPyTapp83u3hlvxnwAAF5EAAABXQZpjSeEPJlMCF//+jLAc\n",
       "A1gh5AFUfxTIAWl6mZ+iMNGTXp5NUNubdKtq/UbOxGoorSyIe+3hKhosmgNPcPadJHExvKNarM9G\n",
       "yZddpKqgTBYKdqmWAAU0AAAAXkGahEnhDyZTAhf//oywB4AAzvgArv3cS8Hrd1bzRlCiIqTqrul2\n",
       "mZIWx/3lIkfH7MB6JN4d/QARNZZIgkP6JdP3Z02U88QBDWcNlxI9NAQpgM1hd9zuH6o21TLAAUkA\n",
       "AAB2QZqlSeEPJlMCGf/+nhAHZ8BsiMdIjkg1ABl4IDBdxE41ccTaZjDA9Az89xYvSuw4wTLes1td\n",
       "JDzWbBd3OiyEAlHEMurq2JxpXXeEvear/VeudVks/U4ve8TrYU9SH0NGgvQEkCO9xSU0ZM1J/A+x\n",
       "O2qZYACkgQAAAJVBmslJ4Q8mUwIX//6MsBkO+Q4AbsHEAM00JmuaqfB6CSvznABTQBZePp4a41YP\n",
       "ns/p/4g2DZbAMlGGdNE5VQRIprvzIR2NV6YDuSSDzrzJQ+H8YxMR41BnQJv/m/8OaGUKyeRzRpnn\n",
       "TE3HdPSnUCTv2pdyYWmoIHP+qtpzEjzXDVqOPwqFgoo97TwG72E3mWtSqAAKaQAAAGZBnudFETwn\n",
       "/wNPKm1F5I4v+5GbOAAC6iEjVuEHg84R5N7gKxLEJ1eMQF77JBC6ithp0lpWDnGuxMYpOuz2cD1Z\n",
       "niNYGs4nAimku7lefZmAKeX8FXhBAd+wFNaDKjQhymWAAUyr6b0AAABeAZ8GdEI/A/1me4Mzq5FA\n",
       "AEoFICh+T69yiv9L01Cf1bQ/5pKPeRVIFAGeOGo06bHyB/mYyQmjMpDIFZvzpvx9qIihXmZ1dHKe\n",
       "7JD155UlvaZRoZMLwuplgAO3t8PS9AAAAEoBnwhqQj8CCW95pgA7pMxgX7RWjIc8Sz5s6s8XQhNO\n",
       "nD9JkNO/xMr+Kh5MD3gusci2v7B8qBCEACoF+5Ppl2IwcWSrwASXlYndoAAAAJhBmw1JqEFomUwI\n",
       "V//+OEFZwRBjqbuCqv+rUf+JnkyABdQFxJh5fXT/FfXq4YYUFT/czlNfcM4dEFV60hj34LTZqA9S\n",
       "HUuNj7NHVAqcwA8Vo9qZkYdrzk8x2BOGOucaLh/nbOvMMVq42D/9934+CGxTBOoO0TfX+fdlpMNi\n",
       "dp9hCq8cgqvcDfZXSkqdQ+u4YNRvDWp4QABzQQAAAJ5BnytFESwn/wNhyDXu6mrmkVUCQATtl0Fa\n",
       "oR5NMthVFmK/Ipo2ZotQyYLdRsfKXiy1un4DuRJmXml3lv0O+4ZEaC9ASP6ecSMNTqPf+Nicyp6o\n",
       "2B81SnShHcDXcX9mVgv4IBNsdGyhJl1ZpR8L/Ecxhl6Ms6ECNji5yKFS8Y2QlAuxTpyKrJ6vwi1e\n",
       "9O2MF5KIE6p5MplgAEzr2foRxQAAAF8Bn0p0Qj8EMW2EyZCvapgATplEVYRzqkabt7YbjXgPbqYk\n",
       "vAnGFE9j896NRQ3aR70m92GtTL47qUeP5H9WuEBnegP6TOPiNmrXv+zhNT3KGTVN1MsAEWQm79pt\n",
       "/4U3LAAAABcBn0xqQj8ELjcaQvW5QGzvtOBQ9Rm0sQAAAHlBm1BJqEFsmUwIR//94QLtkmqDQ4fy\n",
       "XWAE7HrHSWwsXr8mjJEvCNUCuLcDp348OBitWP+xfhoGBez/+ENA6pM5M+WLK5mpBPltCzvC22Mm\n",
       "xt1ZqWzEhYuVw4T2pVObH+LrVAd6jwew7452JSBQOtbL7K2frUqgAB4xAAAAEEGfb0IR/wPpVvCw\n",
       "HWaX8MEAAABLAZ+OaRCPAeft0gBM1qTwX1YcssjpRA3gFGJJHFWkxI1tj/G6iusLU/A7bcDsg4YM\n",
       "4KSCInss+2lVzn2dnYyvUK/PoIcEaVSqABJwAAAEUm1vb3YAAABsbXZoZAAAAAAAAAAAAAAAAAAA\n",
       "A+gAAATJAAEAAAEAAAAAAAAAAAAAAAABAAAAAAAAAAAAAAAAAAAAAQAAAAAAAAAAAAAAAAAAQAAA\n",
       "AAAAAAAAAAAAAAAAAAAAAAAAAAAAAAAAAAAAAAIAAAN8dHJhawAAAFx0a2hkAAAAAwAAAAAAAAAA\n",
       "AAAAAQAAAAAAAATJAAAAAAAAAAAAAAAAAAAAAAABAAAAAAAAAAAAAAAAAAAAAQAAAAAAAAAAAAAA\n",
       "AAAAQAAAAAGwAAABIAAAAAAAJGVkdHMAAAAcZWxzdAAAAAAAAAABAAAEyQAAAgAAAQAAAAAC9G1k\n",
       "aWEAAAAgbWRoZAAAAAAAAAAAAAAAAAAAKAAAADEAVcQAAAAAAC1oZGxyAAAAAAAAAAB2aWRlAAAA\n",
       "AAAAAAAAAAAAVmlkZW9IYW5kbGVyAAAAAp9taW5mAAAAFHZtaGQAAAABAAAAAAAAAAAAAAAkZGlu\n",
       "ZgAAABxkcmVmAAAAAAAAAAEAAAAMdXJsIAAAAAEAAAJfc3RibAAAALNzdHNkAAAAAAAAAAEAAACj\n",
       "YXZjMQAAAAAAAAABAAAAAAAAAAAAAAAAAAAAAAGwASAASAAAAEgAAAAAAAAAAQAAAAAAAAAAAAAA\n",
       "AAAAAAAAAAAAAAAAAAAAAAAAAAAAABj//wAAADFhdmNDAWQAFf/hABhnZAAVrNlBsJaEAAADAAQA\n",
       "AAMBQDxYtlgBAAZo6+PLIsAAAAAcdXVpZGtoQPJfJE/FujmlG88DI/MAAAAAAAAAGHN0dHMAAAAA\n",
       "AAAAAQAAADEAAAEAAAAAFHN0c3MAAAAAAAAAAQAAAAEAAABwY3R0cwAAAAAAAAAMAAAAJgAAAgAA\n",
       "AAABAAAFAAAAAAEAAAIAAAAAAQAAAAAAAAABAAABAAAAAAEAAAUAAAAAAQAAAgAAAAABAAAAAAAA\n",
       "AAEAAAEAAAAAAQAABAAAAAABAAACAAAAAAEAAAAAAAAAHHN0c2MAAAAAAAAAAQAAAAEAAAAxAAAA\n",
       "AQAAANhzdHN6AAAAAAAAAAAAAAAxAAAb4QAAAnwAAAFsAAABLgAAASwAAAD6AAABdwAAAO8AAADz\n",
       "AAAApgAAAMYAAADHAAAA1QAAAMQAAAEDAAAApwAAAKcAAAC0AAAAagAAAKMAAACCAAAAwAAAAKgA\n",
       "AACNAAAAdwAAALQAAADSAAAAoAAAAKEAAAC4AAAAuQAAAOsAAADQAAAAmQAAAEgAAABbAAAAYgAA\n",
       "AHoAAACZAAAAagAAAGIAAABOAAAAnAAAAKIAAABjAAAAGwAAAH0AAAAUAAAATwAAABRzdGNvAAAA\n",
       "AAAAAAEAAAAsAAAAYnVkdGEAAABabWV0YQAAAAAAAAAhaGRscgAAAAAAAAAAbWRpcmFwcGwAAAAA\n",
       "AAAAAAAAAAAtaWxzdAAAACWpdG9vAAAAHWRhdGEAAAABAAAAAExhdmY1NS4xOS4xMDQ=\n",
       "\">\n",
       "  Your browser does not support the video tag.\n",
       "</video>"
      ],
      "text/plain": [
       "<matplotlib.animation.FuncAnimation at 0x20ccd9245c0>"
      ]
     },
     "execution_count": 392,
     "metadata": {},
     "output_type": "execute_result"
    }
   ],
   "source": [
    "xR = np.linspace(0, R, N)\n",
    "\n",
    "fig, ax = plt.subplots()\n",
    "line, = ax.plot(xR, T_initial)\n",
    "ax.set_yticks(np.arange(0, 601, 50))\n",
    "\n",
    "plt.title(\"Процес нагрівання\")\n",
    "plt.ylabel(u\"Температура нагріву, ℃\")\n",
    "plt.xlabel(u\"Координата, м\")\n",
    "plt.grid()\n",
    "\n",
    "def animate(i):\n",
    "    line.set_ydata(T_data[i]-273.0)  # update the data\n",
    "    return line,\n",
    "\n",
    "# Init only required for blitting to give a clean slate.\n",
    "def init():\n",
    "    line.set_ydata(np.ma.array(xR, mask=True))\n",
    "    return line,\n",
    "\n",
    "ani = animation.FuncAnimation(fig, animate, np.arange(0, len(T_data), 250), init_func=init,\n",
    "                              interval=25, blit=True)\n",
    "plt.close()\n",
    "ani"
   ]
  },
  {
   "cell_type": "markdown",
   "metadata": {},
   "source": [
    "Будуємо графік залежності температури від часу в процесі нагрівання в трьох точках, розташованих по перетину системи ($r_1 = 0, r_2 = \\frac{r_0}{2}, r_3 = r_0$):"
   ]
  },
  {
   "cell_type": "code",
   "execution_count": 393,
   "metadata": {},
   "outputs": [
    {
     "data": {
      "image/png": "[encoded data removed]",
      "text/plain": [
       "<matplotlib.figure.Figure at 0x20ccd9590f0>"
      ]
     },
     "metadata": {},
     "output_type": "display_data"
    }
   ],
   "source": [
    "x_time = np.linspace(0, time_heat/60, len(T_data))\n",
    "it = iter(['--', '-.', ':'])\n",
    "for y, labl in zip(T_data.T[[0, 5, 9]]-273.0, ['$r_1=0$', r'$r_2=\\frac{R}{2}$', '$r_3 = R$']):\n",
    "    plt.plot(x_time, y, next(it), label=labl)\n",
    "plt.legend()\n",
    "plt.title(\"Процес нагрівання в окремих точках\")\n",
    "plt.ylabel(u\"Температура нагріву, ℃\")\n",
    "plt.xlabel(u\"Час, хв\")\n",
    "plt.grid()"
   ]
  },
  {
   "cell_type": "markdown",
   "metadata": {},
   "source": [
    "Динаміка нагрівання в усіх троьх зрізах системи однакова."
   ]
  },
  {
   "cell_type": "markdown",
   "metadata": {},
   "source": [
    "### Висновки\n",
    "\n",
    "Реалізована детермінована числова математична модель із розподіленими параметрами та визначений час нагріву металевого виробу, який становить 20 хв.\n",
    "\n",
    "Для зразка з даними параметрами урахування внутрішніх координат не вносить значних змін у результати."
   ]
  }
 ],
 "metadata": {
  "kernelspec": {
   "display_name": "Python 3",
   "language": "python",
   "name": "python3"
  },
  "language_info": {
   "codemirror_mode": {
    "name": "ipython",
    "version": 3
   },
   "file_extension": ".py",
   "mimetype": "text/x-python",
   "name": "python",
   "nbconvert_exporter": "python",
   "pygments_lexer": "ipython3",
   "version": "3.6.1"
  }
 },
 "nbformat": 4,
 "nbformat_minor": 2
}
