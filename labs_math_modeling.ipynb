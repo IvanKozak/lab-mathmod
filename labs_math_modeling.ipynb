{
 "cells": [
  {
   "cell_type": "markdown",
   "metadata": {},
   "source": [
    "\n",
    "# МАТЕМАТИЧНЕ МОДЕЛЮВАННЯ МАТЕРІАЛІВ ТА ТЕХНОЛОГІЧНИХ ПРОЦЕСІВ В МАТЕРІАЛОЗНАВСТВІ\n",
    "Комп'ютерний практикум\n",
    "\n",
    "*Виконав студент групи ФМ-71мп*\n",
    "\n",
    "*Богомаз Ростислав*"
   ]
  },
  {
   "cell_type": "markdown",
   "metadata": {},
   "source": [
    "## АНАЛІТИЧНА МАТЕМАТИЧНА МОДЕЛЬ НАГРІВАННЯ МЕТАЛЕВОГО ВИРОБУ В ПЕЧІ ДЛЯ НАСТУПНОЇ ТЕРМІЧНОЇ ОБРОБКИ\n",
    "\n",
    "**Мета роботи:** освоєння принципів побудови детермінованої аналітичної математичної моделі із зосередженими параметрами та визначення часу нагріву металевого виробу."
   ]
  },
  {
   "cell_type": "markdown",
   "metadata": {},
   "source": [
    "### Завдання та вихідні дані\n",
    "Розрахувати час нагріву заготівки $t_{h}$, яка нагрівається в печі та побудувати графік залежності температури від часу в процесі нагрівання. Розрахунки провести використовуючи для цього детерміновану, інтегральну, аналітичну математичну модель із зосередженими параметрами.\n",
    "\n",
    "Вихідні дані:"
   ]
  },
  {
   "cell_type": "code",
   "execution_count": 1,
   "metadata": {
    "collapsed": true
   },
   "outputs": [],
   "source": [
    "# Defining variablbbes\n",
    "# Материал Cu\n",
    "# material constants\n",
    "density = 8873  # густина металу кг/м3\n",
    "alpha = 200  # Вт*м-2*К-1\n",
    "heat_capacity = [385, 442]  # 300 K and 800 K\n",
    "thermal_emissivity = 0.78  # для міді (epsilon)\n",
    "\n",
    "# constants\n",
    "Stefan_Bolzman = 5.6704e-8  # Вт / (м^2 * К^4)\n",
    "\n",
    "# geometry, m\n",
    "width, length, high = 0.1, 0.1, 0.1\n",
    "\n",
    "# температура печі\n",
    "T_furnace = 600 + 273.0  # K\n",
    "T_specimen = 20 + 273.0  # K\n",
    "DeltaT = 1  # %"
   ]
  },
  {
   "cell_type": "markdown",
   "metadata": {},
   "source": [
    "### Порядок виконання"
   ]
  },
  {
   "cell_type": "code",
   "execution_count": 2,
   "metadata": {
    "collapsed": true
   },
   "outputs": [],
   "source": [
    "import numpy as np\n",
    "import matplotlib.pyplot as plt\n",
    "%matplotlib inline"
   ]
  },
  {
   "cell_type": "markdown",
   "metadata": {},
   "source": [
    "Розрахунок площі поверхні та маси зразка:"
   ]
  },
  {
   "cell_type": "code",
   "execution_count": 3,
   "metadata": {},
   "outputs": [
    {
     "data": {
      "text/plain": [
       "(0.06000000000000001, 0.0010000000000000002, 8.873000000000003)"
      ]
     },
     "execution_count": 3,
     "metadata": {},
     "output_type": "execute_result"
    }
   ],
   "source": [
    "square = (width * length + width * high + length * high) * 2\n",
    "volume = width * length * high\n",
    "mass = volume * density\n",
    "square, volume, mass"
   ]
  },
  {
   "cell_type": "markdown",
   "metadata": {},
   "source": [
    "Визначаємо температуру закінчення розрахунків Тк:"
   ]
  },
  {
   "cell_type": "code",
   "execution_count": 4,
   "metadata": {},
   "outputs": [
    {
     "data": {
      "text/plain": [
       "864.27"
      ]
     },
     "execution_count": 4,
     "metadata": {},
     "output_type": "execute_result"
    }
   ],
   "source": [
    "T_last = (1 - 0.01 * DeltaT) * T_furnace\n",
    "T_last"
   ]
  },
  {
   "cell_type": "markdown",
   "metadata": {},
   "source": [
    "Розраховуємо середню теплоємність через лінійний закон:"
   ]
  },
  {
   "cell_type": "code",
   "execution_count": 5,
   "metadata": {},
   "outputs": [
    {
     "data": {
      "text/plain": [
       "417.26200000000006"
      ]
     },
     "execution_count": 5,
     "metadata": {},
     "output_type": "execute_result"
    }
   ],
   "source": [
    "heat_cap_line = np.poly1d(np.polyfit([300, 800], heat_capacity, 1))\n",
    "c = heat_cap_line(np.mean([T_furnace, T_specimen]))\n",
    "c"
   ]
  },
  {
   "cell_type": "markdown",
   "metadata": {},
   "source": [
    "Розраховуємо коефіцієнт $k$ та час нагріву:"
   ]
  },
  {
   "cell_type": "code",
   "execution_count": 6,
   "metadata": {},
   "outputs": [
    {
     "data": {
      "text/plain": [
       "(0.0032411708858823842, 1294.6749435417539)"
      ]
     },
     "execution_count": 6,
     "metadata": {},
     "output_type": "execute_result"
    }
   ],
   "source": [
    "k = alpha * square / (c * mass)\n",
    "heat_time = -np.log((T_furnace - T_last) / (T_furnace - T_specimen)) / k\n",
    "k, heat_time"
   ]
  },
  {
   "cell_type": "markdown",
   "metadata": {},
   "source": [
    "Будуємо графік:"
   ]
  },
  {
   "cell_type": "code",
   "execution_count": 7,
   "metadata": {},
   "outputs": [
    {
     "data": {
      "image/png": "[encoded data removed]",
      "text/plain": [
       "<matplotlib.figure.Figure at 0x20c8af84e48>"
      ]
     },
     "metadata": {},
     "output_type": "display_data"
    }
   ],
   "source": [
    "# дані для побудови\n",
    "lab1_x = np.arange(0, heat_time, 0.5)\n",
    "lab1_y = T_furnace - (T_furnace - T_specimen) * np.exp(-k * lab1_x)\n",
    "\n",
    "plt.plot(lab1_x, lab1_y - 273.0)\n",
    "plt.xticks(np.arange(lab1_x[0], lab1_x[-1] + 60, 120))\n",
    "plt.yticks(np.arange(0, 601, 50))\n",
    "plt.title(\"Процес нагрівання\")\n",
    "plt.ylabel(u\"Температура нагріву, ℃\")\n",
    "plt.xlabel(u\"Час нагріву, c\")\n",
    "plt.grid()"
   ]
  },
  {
   "cell_type": "markdown",
   "metadata": {},
   "source": [
    "### Висновки\n",
    "Була побудована детермінована аналітична математична модель із зосередженими параметрами для визначення часу нагріву металевого виробу.\n",
    "\n",
    "Отримано, що за даними параметрами зразок в печі нагрівається до температури печі за 22 хв. (1300 с).\n"
   ]
  },
  {
   "cell_type": "markdown",
   "metadata": {},
   "source": [
    "## ЧИСЛОВА МАТЕМАТИЧНА МОДЕЛЬ НАГРІВАННЯ МЕТАЛЕВОГО ВИРОБУ В ПЕЧІ ДЛЯ НАСТУПНОЇ ТЕРМІЧНОЇ ОБРОБКИ\n",
    "\n",
    "**Мета роботи:** освоєння принципів побудови детермінованої числової математичної моделі із зосередженими параметрами та визначення впливів залежності питомої теплоємності від температури і випромінювання на процес нагріву металевого виробу. "
   ]
  },
  {
   "cell_type": "markdown",
   "metadata": {},
   "source": [
    "### Завдання та вихідні дані\n",
    "Розрахувати час нагріву заготовки $t_\\text{н}$, яка нагрівається в печі та побудувати графік залежності температури від часу в процесі нагрівання. Розрахунки провести використовуючи ітераційну формулу чисельної математичної моделі із зосередженими параметрами. Дані для розрахунків задані в комп’ютерному практикумі №1.\n",
    "\n",
    "Розрахунки провести при наступних умовах:\n",
    "1. $a_0 = c$; $a_1 = 0$; $\\epsilon = 0$. В цьому випадку розрахунки можна порівняти з результатами, які отримані в комп’ютерному практикумі №1.\n",
    "2. $a_0 \\neq c$; $a_1 \\neq 0$; $\\epsilon = 0$. В цьому випадку розрахунки показують вплив залежності питомої теплоємності від температури на динаміку процесу нагріву.\n",
    "3. $a_0 \\neq c$; $a_1 \\neq 0$; $\\epsilon = 0.78$. В цьому випадку розрахунки показують вплив залежності питомої теплоємності від температури та врахування нагріву шляхом випромінювання на динаміку процесу нагріву.\n",
    "\n",
    "Побудувати графіки для трьох варіантів розрахунків і порівняти їх між собою та з результатами, що отримані в комп’ютерному практикумі №1.  \n"
   ]
  },
  {
   "cell_type": "markdown",
   "metadata": {},
   "source": [
    "### Порядок виконання"
   ]
  },
  {
   "cell_type": "markdown",
   "metadata": {},
   "source": [
    "Реалізовуємо ітеративну функцію для розрахунку температури за формулою:\n",
    "$$ T_{i+1} = T_i + h \\frac{k_1(T_f-T_i)+k_2(T_f^4 - T_i^4)}{a_0 + a_1 T_i} $$\n",
    "де:\n",
    "\n",
    "- $T_{i+1}$, $T_{i}$ та $T_f$ -- відповідно наступна, попередня температури та температура печі,\n",
    "- $h$ -- крок по часу\n",
    "- $a_0$, $a_1$ -- емпіричні коефіцієнти з лінійної апроксимації темпоємності.\n",
    "\n",
    "Коефіцієнти $k_1$, $k_2$ розраховуються таким чином:\n",
    "$$ k_1 = \\frac{\\alpha S}{m},$$\n",
    "$$k_2 = \\frac{\\sigma \\epsilon S}{m}$$,\n",
    "де:\n",
    "\n",
    "- $\\alpha$ - коефіцієнт теплопереносу\n",
    "- $\\sigma$ - стала Стефана-Больцмана\n",
    "- $\\epsilon$ - випромінювальна здатність\n",
    "- $S$ - площа поверхні зразка\n",
    "- $m$ - маса зразка"
   ]
  },
  {
   "cell_type": "code",
   "execution_count": 8,
   "metadata": {
    "collapsed": true
   },
   "outputs": [],
   "source": [
    "def lab2_data(a0, a1, epsilon):\n",
    "    # коефіцієнти\n",
    "    k1 = alpha * square / mass\n",
    "    k2 = Stefan_Bolzman * epsilon * square / mass\n",
    "    step = 10  # крок\n",
    "\n",
    "    time_array = [0]\n",
    "    i = 0\n",
    "\n",
    "    T_array = [T_specimen]\n",
    "    T_next = T_array[0]\n",
    "\n",
    "    while T_next <= T_last:\n",
    "        i += 1\n",
    "        T_next = T_next + step * (k1 * (T_furnace - T_next) +\n",
    "                                  k2 * (T_furnace ** 4 - T_next ** 4)\n",
    "                                  ) / (a0 + a1 * T_next)\n",
    "        T_array.append(T_next)\n",
    "        time_array.append(step*i)\n",
    "    return np.array(time_array), np.array(T_array)"
   ]
  },
  {
   "cell_type": "markdown",
   "metadata": {},
   "source": [
    "$a_0 = c$; $a_1 = 0$; $\\epsilon = 0$:"
   ]
  },
  {
   "cell_type": "code",
   "execution_count": 9,
   "metadata": {
    "collapsed": true
   },
   "outputs": [],
   "source": [
    "lab2_x1, lab2_y1 = lab2_data(c, 0, 0)"
   ]
  },
  {
   "cell_type": "markdown",
   "metadata": {},
   "source": [
    "$a_0 \\neq c$; $a_1 \\neq 0$; $\\epsilon = 0$:"
   ]
  },
  {
   "cell_type": "code",
   "execution_count": 10,
   "metadata": {
    "collapsed": true
   },
   "outputs": [],
   "source": [
    "lab2_x2, lab2_y2 = lab2_data(heat_cap_line[0],\n",
    "                             heat_cap_line[1],\n",
    "                             0)"
   ]
  },
  {
   "cell_type": "markdown",
   "metadata": {},
   "source": [
    "$a_0 \\neq c$; $a_1 \\neq 0$; $\\epsilon = 0.78$:"
   ]
  },
  {
   "cell_type": "code",
   "execution_count": 11,
   "metadata": {
    "collapsed": true
   },
   "outputs": [],
   "source": [
    "lab2_x3, lab2_y3 = lab2_data(heat_cap_line[0],\n",
    "                             heat_cap_line[1],\n",
    "                             thermal_emissivity)"
   ]
  },
  {
   "cell_type": "markdown",
   "metadata": {},
   "source": [
    "Будуємо графік залежності:"
   ]
  },
  {
   "cell_type": "code",
   "execution_count": 12,
   "metadata": {},
   "outputs": [
    {
     "data": {
      "image/png": "[encoded data removed]",
      "text/plain": [
       "<matplotlib.figure.Figure at 0x20c8af849b0>"
      ]
     },
     "metadata": {},
     "output_type": "display_data"
    }
   ],
   "source": [
    "data_list = [(lab1_x, lab1_y, \"Комп.практ.№1\"),\n",
    "            (lab2_x1, lab2_y1, \"$а_0 = c$; $а_1 = 0$; $\\epsilon = 0$\"),\n",
    "            (lab2_x2, lab2_y2, \"$а_0 ≠ 0; а_1 ≠ 0; \\epsilon = 0$\"),\n",
    "            (lab2_x3, lab2_y3, '$а_0 ≠ 0$; $а_1 ≠ 0$; $\\epsilon = 0.78$')]\n",
    "\n",
    "style_iter = iter(['--', '-.', ':', '-'])\n",
    "\n",
    "for x, y, l in data_list:\n",
    "    plt.plot(x, y-273.0, next(style_iter), label=l)\n",
    "    \n",
    "plt.legend()\n",
    "plt.title(\"Процес нагрівання\")\n",
    "plt.ylabel(u\"Температура нагріву, ℃\")\n",
    "plt.xlabel(u\"Час нагріву, c\")\n",
    "plt.yticks(np.arange(0, 601, 50))\n",
    "plt.xticks(np.arange(0, 1400, 120))\n",
    "plt.grid()"
   ]
  },
  {
   "cell_type": "markdown",
   "metadata": {},
   "source": [
    "Час нагріву до температури в перших двох випадках співпадає з результатом комп'ютерного практикуму №1 з точністю до хвилини. Урахування випромінювання в моделі ($\\epsilon \\neq 0$) значно скорочує час нагрівання - для даних параметрів час становить 15 хв. "
   ]
  },
  {
   "cell_type": "markdown",
   "metadata": {},
   "source": [
    "### Висновки\n",
    "Побудована детермінована числова математична модель із зосередженими параметрами для визначення впливів залежності питомої теплоємності від температури і випромінювання на процес нагріву металевого виробу.\n",
    "\n",
    "Урахування випромінювання в даній моделі значно скорочує час нагрівання зразку.\n",
    "\n",
    "Урахування лінійної залежності теплоємності не впливає на отримані результати, отже для задовільної апроксимації достатньо середнього значення на даному проміжку температур."
   ]
  },
  {
   "cell_type": "markdown",
   "metadata": {},
   "source": [
    "## НАГРІВАННЯ МЕТАЛЕВОГО ВИРОБУ В ПЕЧІ ДЛЯ НАСТУПНОЇ ТЕРМІЧНОЇ ОБРОБКИ-3\n",
    "\n",
    "**Мета роботи:** освоєння принципів побудови детермінованої числової математичної моделі із розподіленими параметрами та визначення часу нагріву металевого виробу.\n",
    "\n",
    "### Завдання та вихідні дані\n",
    "Розрахувати час нагріву заготівки $t_h$, яка нагрівається в печі та побудувати графік залежності температури від часу в процесі нагрівання в трьох точках, розташованих по перетину системи ($r_1 = 0, r_1 = \\frac{r_0}{2}, r_1 = r_0$). Розрахунки провести використовуючи ітераційні формули чисельної математичної моделі із розгалуженими параметрами."
   ]
  },
  {
   "cell_type": "code",
   "execution_count": 311,
   "metadata": {
    "collapsed": true
   },
   "outputs": [],
   "source": [
    "# geometry, m\n",
    "R, length = 0.05, 0.1\n",
    "\n",
    "# lambda\n",
    "thermal_conductivity = [401, 366]  # W m-1 K-1 300 K and 800 K\n",
    "\n",
    "# інші потрібні параметри співпадають з даними комп. практикуму №1"
   ]
  },
  {
   "cell_type": "markdown",
   "metadata": {},
   "source": [
    "Розрахунок середньої теплоємності через лінійний закон:"
   ]
  },
  {
   "cell_type": "code",
   "execution_count": 312,
   "metadata": {},
   "outputs": [
    {
     "data": {
      "text/plain": [
       "381.18999999999983"
      ]
     },
     "execution_count": 312,
     "metadata": {},
     "output_type": "execute_result"
    }
   ],
   "source": [
    "lambda_line = np.poly1d(np.polyfit([300, 800], thermal_conductivity, 1))\n",
    "lambd = lambda_line(np.mean([T_specimen, T_furnace]))\n",
    "lambd"
   ]
  },
  {
   "cell_type": "markdown",
   "metadata": {},
   "source": [
    "### Порядок виконання\n",
    "\n",
    "Реалізуємо ітераційну функцію за рівнянням *явної різницевої схеми*:\n",
    "$$T_i^{j+1} = \\left(f + \\frac{f}{i}\\right)T_{i+1}^j + \\left(1-2f\\right)T_i^j + \\left(f-\\frac{f}{i}\\right)T_{i-1}^j,$$\n",
    "де:\n",
    "\n",
    "- $j = 0 \\dots M$ - номера кроки у часі\n",
    "- $i = 1 \\dots N-1$ - номера кроків по довжині (радіусу)\n",
    "- $f$ - параметр, який розраховується за формулою:\n",
    "$$f = \\left( \\frac{\\alpha}{c \\rho} \\right) \\frac{\\tau}{h^2}$$\n",
    "\n",
    "Для визначення крайніх точок $i=0$ та $i=N$ використовуємо формули, які випливають з граничних умов задачі:\n",
    "\n",
    "$$ T_0^{j+1} = (1-2f) T_0^j+2f T_1^j $$\n",
    "\n",
    "$$ T_N^{j+1} = 2f T_{N-1}^j + \\left( 1 - 2f \\left( 1 + \\frac{\\alpha h}{\\lambda} \\right) \\right) T_N^j + 2f \\frac{\\alpha h}{\\lambda} T_f $$\n",
    "\n",
    "При цьому враховуємо умову збіжності даної числової схеми:\n",
    "$$ f \\leq \\frac{1}{2}, $$\n",
    "яка залежить від вибору кроків по часу $\\tau$ та по довжині $h$."
   ]
  },
  {
   "cell_type": "code",
   "execution_count": 352,
   "metadata": {},
   "outputs": [],
   "source": [
    "def explicit_scheme(T, tau, R=R, T_f=T_furnace, T_last=T_last, alpha=alpha, \n",
    "                    lambd=thermal_conductivity[1], rho=density, c=c):\n",
    "    N = len(T)\n",
    "    h = R / N\n",
    "    f = (lambd / (c * rho)) * tau / (h ** 2)\n",
    "    if f > 0.5:\n",
    "        raise Exception(f\"Не виконується умова збіжності: f = {f}\")\n",
    "    \n",
    "    Tnew = np.copy(T)\n",
    "    i = np.arange(0, N)\n",
    "    time = 0\n",
    "    T_data = [np.copy(T)]\n",
    "    while Tnew[0] < T_last:\n",
    "        _k = alpha * h / lambd\n",
    "        Tnew[1:-1] = (f+f/i[1:-1]) * T[2:] + (1 - 2*f) * T[1:-1] + (f - f/i[1:-1]) * T[:-2]\n",
    "        Tnew[-1] = 2*f * T[-2] + (1 - 2*f * (1+_k)) * T[-1] + 2*f * _k * T_f\n",
    "        Tnew[0] = (1 - 2*f) * T[0] + 2*f * T[1]\n",
    "        T = np.copy(Tnew)\n",
    "        T_data.append(np.copy(Tnew))\n",
    "        time += tau\n",
    "    return np.array(T_data), time\n"
   ]
  },
  {
   "cell_type": "markdown",
   "metadata": {},
   "source": [
    "Розраховуємо час нагріву з параметрами моделі $N = 20$ та $\\tau = 0.01$:"
   ]
  },
  {
   "cell_type": "code",
   "execution_count": 353,
   "metadata": {},
   "outputs": [],
   "source": [
    "N = 20\n",
    "T_initial = np.full(N, T_specimen)\n",
    "T_data, time_heat = explicit_scheme(T_initial, 0.01)"
   ]
  },
  {
   "cell_type": "code",
   "execution_count": 354,
   "metadata": {},
   "outputs": [
    {
     "data": {
      "text/plain": [
       "21.722666666649328"
      ]
     },
     "execution_count": 354,
     "metadata": {},
     "output_type": "execute_result"
    }
   ],
   "source": [
    "time_heat/60"
   ]
  },
  {
   "cell_type": "markdown",
   "metadata": {},
   "source": [
    "Нагрів до заданої температури відбувся за *4.5 хв*."
   ]
  },
  {
   "cell_type": "code",
   "execution_count": 349,
   "metadata": {},
   "outputs": [
    {
     "data": {
      "text/plain": [
       "130302"
      ]
     },
     "execution_count": 349,
     "metadata": {},
     "output_type": "execute_result"
    }
   ],
   "source": [
    "from matplotlib import animation, rc\n",
    "from IPython.display import HTML\n",
    "rc('animation', html='html5')\n",
    "\n",
    "from IPython.display import HTML\n",
    "len(T_data)"
   ]
  },
  {
   "cell_type": "markdown",
   "metadata": {},
   "source": [
    "Зоображаємо процес нагрівання в часі:"
   ]
  },
  {
   "cell_type": "code",
   "execution_count": 355,
   "metadata": {
    "scrolled": true
   },
   "outputs": [
    {
     "data": {
      "text/html": [
       "<video width=\"432\" height=\"288\" controls autoplay loop>\n",
       "  <source type=\"video/mp4\" src=\"data:video/mp4;base64,AAAAHGZ0eXBNNFYgAAACAGlzb21pc28yYXZjMQAAAAhmcmVlAAAwym1kYXQAAAKuBgX//6rcRem9\n",
       "5tlIt5Ys2CDZI+7veDI2NCAtIGNvcmUgMTM4IHIyMzU4IDllOTQxZDEgLSBILjI2NC9NUEVHLTQg\n",
       "QVZDIGNvZGVjIC0gQ29weWxlZnQgMjAwMy0yMDEzIC0gaHR0cDovL3d3dy52aWRlb2xhbi5vcmcv\n",
       "eDI2NC5odG1sIC0gb3B0aW9uczogY2FiYWM9MSByZWY9MyBkZWJsb2NrPTE6MDowIGFuYWx5c2U9\n",
       "MHgzOjB4MTEzIG1lPWhleCBzdWJtZT03IHBzeT0xIHBzeV9yZD0xLjAwOjAuMDAgbWl4ZWRfcmVm\n",
       "PTEgbWVfcmFuZ2U9MTYgY2hyb21hX21lPTEgdHJlbGxpcz0xIDh4OGRjdD0xIGNxbT0wIGRlYWR6\n",
       "b25lPTIxLDExIGZhc3RfcHNraXA9MSBjaHJvbWFfcXBfb2Zmc2V0PS0yIHRocmVhZHM9NiBsb29r\n",
       "YWhlYWRfdGhyZWFkcz0xIHNsaWNlZF90aHJlYWRzPTAgbnI9MCBkZWNpbWF0ZT0xIGludGVybGFj\n",
       "ZWQ9MCBibHVyYXlfY29tcGF0PTAgY29uc3RyYWluZWRfaW50cmE9MCBiZnJhbWVzPTMgYl9weXJh\n",
       "bWlkPTIgYl9hZGFwdD0xIGJfYmlhcz0wIGRpcmVjdD0xIHdlaWdodGI9MSBvcGVuX2dvcD0wIHdl\n",
       "aWdodHA9MiBrZXlpbnQ9MjUwIGtleWludF9taW49MjUgc2NlbmVjdXQ9NDAgaW50cmFfcmVmcmVz\n",
       "aD0wIHJjX2xvb2thaGVhZD00MCByYz1jcmYgbWJ0cmVlPTEgY3JmPTIzLjAgcWNvbXA9MC42MCBx\n",
       "cG1pbj0wIHFwbWF4PTY5IHFwc3RlcD00IGlwX3JhdGlvPTEuNDAgYXE9MToxLjAwAIAAABigZYiE\n",
       "ACv//vZzfAprRzOVLgV292aj5dCS5fsQYPrQAAADAAGuIeBAvxCabcYwZaIan0jLRHf1Oi/GHS3i\n",
       "vNjk3Q+4W+jNtyC2fhW+EySAZlcZ2M4Zwe+ZTstO9ngJAxeaBZS5rNYneIapFvTA6xoSL0bEQVNo\n",
       "ZegzywO+0FmoaTDYio3P8ByR+PHDbk42hfhAD1HpFq16zVTP6Yrbj9s9OZ4GbPJbshj/P2anrv1u\n",
       "XXG8NgJbAfq899SKrCXTUBWi/IX61+vKL+sosqXfVRu8wQ0+BIfCDCMxPUuORe5MOCQfsGCl2pgA\n",
       "tSFHDpkFCFeL4BlnVjUjzZ1HPrNcIdFej6lVlAfj2a875kMZxeYskmnkS5+1XrK7Z6/yNBkkkIiR\n",
       "Us44N0Ba9xpasMLd98l0UhjUhWOIkmeUk+H9fKHXeuYe+CX7epgKhNypiFWOE6ShFsAKnJA3tn5d\n",
       "GysHbIeNxdbYgBho5vlqNQJVV1vklrVB3dgBSz85QSUsLlLR0oAigWXHEeNU0sq40X3VAax2yeSw\n",
       "nO8z/WmsWuPIIrgbc3iX0X+pVMUjd+FOIacI7bd/0ljbDQq4IIsUUKL29GnIvD0ONkop8L4fEV6i\n",
       "w84YsWZszWjDoH6t3UAPjsi5YFoiE8cR94GAKc38GCO7x0xmfdZrZuh/XLhO+zoMepuklzgPxyRW\n",
       "JGwhn71LxRfv3BQVHMJT3I0eiIG95gbXyTedGHvOKjR7udgD8irpj2cui3mBlTxhp6oa6IXh5zbC\n",
       "OlOgD+6k/nHA2iyzd2xE9v7mbzj90d0qVPucJNJnc5jrpKiFq7DW5pkC8hk+syI/8lssMmLxMz/5\n",
       "lBvk3oKQskSGwwj94VoRpUPPPsQeK7TeBqUUuwZyCOfJPr/lrLrMVaMg05+Q8qZeDmULK6dGv7L4\n",
       "N37/SAvBnd1t3uFa86XizUI9Bar4//+9h8eQzT/lw/HIfDzuj+Bby20E2ms6CQszTUGd8x0OUc3r\n",
       "YRtmxCprRLRGWCJqDXAcK0x9/hdCKndYZCRgWLzvt6ohG9AvirL3EHjDCrIAAAMBLcRWkkc7CPpm\n",
       "9fdAAthQxk0/ZEiplit3CFVvDRpVIIHgCwktPpvT9rMbeRgJyx2zE/oiCv/+vn8dCeMONWmYq7zd\n",
       "FC789XxC4hH5KA07Zq8DomPZLCfSseeyDW3XfpBq72rrI2m/WjdWRP8ROZpXDAUdr63MlTBXUfl5\n",
       "9aIyTgJTc+lpKR796dte5/S9v3ubwuZO5FP3UzmdT6uUPDrp25tiGY2l5FFG9ADAq8XEbDswvsnQ\n",
       "1E+Pz38KqfkVejBjQaSNZ5HrZZiPsQgVaWXDE4QTo48HSgluFPVR6mzg4sCoBr0aaEfekUqVsJpa\n",
       "0t4bY57SD/tXXXFQGpmtJ321dtxlpAQrZomSPE0+ya/qY9nrTs6rjhHGACKeWiPB5joXm1IPN68g\n",
       "zKG98VkvRH9M62P/QybioX4Rb8gmEb6frAIAyES+9wgxggi/k+OWE8V8yxFSRHMPMYAVgiXa67zZ\n",
       "VX0mRCf+kfKXAlt7SbN/5CvSPMHOpeXgLNegaVxX07e62WvdFQhdsWhOGaE1D3oySp44BXvj5mR/\n",
       "IyBRjZ4h36/5Wr98KpClX67jf8KX8YwYUtFaSnbM7LUr1RvPSWPWz/bvjWFxkLCJt016FboAYs9R\n",
       "cRuFTG1l/puG2ge+3LK1Ab3myVEz/6hv3LplikyDiWpMB6fRM+okqmHIsRPz+BMVTPeGVLs36Vpg\n",
       "xe1WIKtj6Qfnsj2IfJLn8asl2YPgNqN4cfvYhLsdU7K7ibbnsnqRBmZN5WcLXE4eaVlnIT4J5knv\n",
       "HasWBEK8xpuI3l2ofpY2nYi8S2Yh0tlc2a0A0yypyKQagPSK3MGhS+gP2uVebuaGF1F8FB8tktf5\n",
       "kC8Bk6Lrs9elDSOU/GwhC8uv5om1rveAEHWeauLAvz31RNkTia82yUrOsBxUl+uSiux7CATiOd0+\n",
       "2lQthpdzwkAUQZjWcuYDH1+eSQymv/Gx/99zIxhxekrkMihCuHe+OnzDQFx/kVVb8k6rAvouDHXx\n",
       "RRNnzSO0odDCy3br+ymdJzi0kwOcjC87mF0g4Q0/5xQC30BgPcfYDzIEsrsBefbNg3q4vFpoP16R\n",
       "KxEH7VFtCsJ/bbN6IWz8qGvmK61JojSiOqsA+oiD11GGLKJNi9fgp9sdI77ZIJ9+v+ZpNxpU5mmp\n",
       "LjRhMlRLrAZI23O2ucORnGy2r4ZQ13sfT4/HgDOcJUQwJyDyFaLnXDlS1h89z8Es6qhxsZwc6VOW\n",
       "MUyYTwX3kyOXpO4tMHlKh7rFCbwKameZmKX+Meq4gYnngRel8l8KtkMk3XX2aOV8xy7wCwaeBr19\n",
       "fD9gCk6QqMHnRFGtZfs0r3IJtCVQQ+EPWdXHgm/4PTgYTShD4KV4fJV2srBI4gjrlJuAXG8ZIH7q\n",
       "oYoPRO84hUs+wHimRx2xZQgsEWJeynp8iPHgl/UqLKrDm02Gb6/Oe/9yLJaz5MuJgYxgAFjo/RvK\n",
       "A9cz0L3BCxk3ok6d4vIl5BAZ16MPP8Ff0vfnp1CFBxvYH34fiKjCTr696ZKKPcJSgQV2BscETMwU\n",
       "tLg0jgxsF3x3/xzgCMTNeryX4PviITZTjsbODIyUOrMcq51gjBb4lHya0MPZp9Ouoy7L46gVF2N9\n",
       "kDpgAASL0j+xI9k6ADgDaja54QXBMg6lAv6PXpfUfPUCZsbmrqhR+IQo3vjtI3ljkB/v/a8JPVmH\n",
       "hzZWVnxBnJCyi+8l2+oG5tjrqJe+bkEr35B4bXGAacAtou7t9TRlabsYw/aetQHdXQbvnMM5YiSv\n",
       "oqLb6Afga6kzx4md3ieHsMPSTPqLtQj/1v+wiSGmE7L9vurFLUy4N1lgcjgQ3FMLUINqEfYHURtg\n",
       "3ey2u2ido6n2vWHWmZoqltIR1fAb8HkVU7+d9+CeHSynzh2A5afuwI/7HhvvIp+e/5e/5AH9+aey\n",
       "es8X8lJ6rQNNAkv+qDfSKn0w6us9OhhV4iU0Cd8OLFv1rTWV5ylndDuiDJxdsCEDsXvVHtVN02Yb\n",
       "zO8pF1A1hvrFDTDqrurZeWyzbQl6GC0sXAKapPsZPA7o1lrUJJSsvfrI3wUaUw9ULVwLlCaONBss\n",
       "PZHWnXhiSgfNNfey8QznbxLocAQNn6v2mdJ39epAqfzyrDt5I6EdHLb+MFCrvlpunQ3Hk849temx\n",
       "iG7hpESb4dLMB/pEKgP0BD9RUb6txa0klgTFv4sjuFT9zAowFFp1/Z5D3xu3Qls0eZK5nqJC6nEc\n",
       "kVFDNxBJhrKPZRdolruE8iTlTyX+NNW4vOyJY+fWvmWB4HrgNl6peTcsvtU1JAdyTdJRC2oMnEhC\n",
       "FfjyKVeG/CI1HMttAYfskVHJZCr4uIPP16uHhb4a1rrC0/YW8Yw3g2SFvcjwNeG9T5DaMZspQMdg\n",
       "oKKqW76xKj4ifhAMRHhbItiM0wLdQl77TBdFxfMshPxtP6hbrw9/I+iDZQ1jfp++1sa95IH3jmXr\n",
       "RgQ7wnUpYt8H4XYqyoPDvLh5MbMtEFbeiJbgotCQxPOpzBKGttL7biwMHnWTzfyLQDHNTIMd5f/0\n",
       "YlIxajoUlR0XG0TWtvFiR+QnTk1JavFbumubzdwOAdfwu88o+U27B6Q/ZRtKaHdDNZ8RFhqb5m/R\n",
       "9ymf9r2ditjQu77hzU7v37qFT0UTMXOSqXb0t3bEdBddtlFvyY2eme8KdbtxKNN/fCyWGKqU6rS4\n",
       "DbRhOuE95XjMQaTiTnSi5OtCGJwnaclQ5YQlCi/S0KapsHHs+Rj344LBhnCSC0HW3CXMeHdL/Qzu\n",
       "9aDi/CzJCKMn3ZEf5MUFPOotFTCVkbYWv6AXLjl5Re0fcpy8t+RbMaYl5+Nc9sV8lZ0R+ilaf20L\n",
       "Z/M889TMTAJc0joYRJ1CUL3If+nccwgUfp/KK7KovoDXJIWhYZwtwZInkk2nVCHPqoQiGGis44yv\n",
       "WnOOox1IElqxOOOXHhjJa6GqoB6DI7cfNu+sCLWTCaabzDWfqv4Jk3Y/tUUtFtQWg1doo4+X9bq4\n",
       "PsVSo2SwrzzZv6DHaE5VmfqfulSEia8uvTRAuwpveDoQytnJyzwEWyFzsgWsXuET5P/IIk/Zn7xt\n",
       "t1I/x5Xw+kCvfHTtG7pAK7aFVr4xWlpu/8o2yC7VXqQo1msDM3KzULX23LWDBo4WNyWBaHi4oPzM\n",
       "XqqKq124smuEfR4t2FWd+5CAC5/P3oEm4Hj5FAOiDn9tzDSuiK/3T9uGguI3xiTqb368WwaKf/Y/\n",
       "k9V6a85QwNsrOFuDzNePlNGHWgNbuGIkRieAFuhQ/Y5/GDa4sC9wD/zgoVbN1rQi7c5GVt67/Kg4\n",
       "1v7ANcaeagxwIkzv+iCqA/VW3Tf/8pKhosR41pVZX8yy5wO7WPnLZrLwfsU1sTB/wrBeS0wzm8lC\n",
       "mRrRv1Dm/eufztFK1btU8/qj96RvKvdADENhQcvhQyUsHrfo+CSsBBbCyJ6gW/cWiemsK39Jr01e\n",
       "ZKJo2fFB31a893wlicJg9g0JTI5t2HXdswGwcdXrUS8bHvWGF9s+tctx+m8hvuYWynzcdbGEmYXb\n",
       "GZyrzDNF5o5r/MkVw/e9TYTR6IzuPyiYrwOk1kf+OaNLEWwzWLTCbBie3/Rw+J8nerQRWwGFdPb5\n",
       "aXW1QvVGoP08zyfs7VjBczoqLkiGsQAF02rxTvc95J9BdQ+AmqFeMDKLmzv4VVruChjPnREWDInC\n",
       "PikLKPHvauEBgvw3BVb1qq1L6eL4w+7rUVZOAuzQ2MW0LXSMFKr9yaWwgExpe6wtxaUnoXgYasc3\n",
       "QDF01gp9jbzM0DAYfnjuiLu2W+rpo4w9sdNt/0a5GStn3YyoifKZqDfmX1b5quOKF0opKlCgOjnV\n",
       "aAMEYo9WK873NUcV3xNkgs/o88Eb/DuxTJRw//Sh59LUaASdylrZ4wrA1rOTaqEM5/y4tQXy8mgv\n",
       "tqK38fl3V/GCh4GHdlXxiH9qtRCok0NE8w+lFfUCPzN9gAr56I6lUwUfQ8Qou2Cz4xXICRvN9+IH\n",
       "NOF3AOKFLhO0BSH4dv0QkW62anDE0BoA59mLuvbOj3hlzaIXrW8+d79s8xvTfKXoQumVdTucBK9e\n",
       "80fYNEC+3sGBaqSsJ4tsRJNMolnftx3rScUmpy3tuP8CzTScUmPXErDWMehZdZ+tcSrEHn6gJ8kl\n",
       "f7DSgVp1QMhre7wT7+Z38fQBGjSZ1tKQxLGD6ctZV037aTYGgLEa/ktfgEhjlQIhzH8GKPKWWFMj\n",
       "iMPJ8TlmaE4Xy0hR5UdKAJh78dPCv8JVz4NMZuipbOet9E7wytNr49oyYVuKxnVvJuIx8JWeddok\n",
       "djL4JRa0KZPux3ucL+b1j3of9GW2xuj/tJqSgDNqlsiJZ1XqPVfN9138zMHxLoDqEdyffWUNg0kj\n",
       "/RADG4LvpcZkeM80yGKaElEe5UIFVzWsnwE3atXon93FfRDRh/dVqXIp+euA5TKoGWomQcorWMQ8\n",
       "kRSiBeNoXfcJzExRjAm1OI5OvivFeyl2vHXasB8IH4TSqaroAHDqJdZiBQxA3L4/6qtvG95U+udQ\n",
       "UobNnZtXyxNDclPWSTQFeUP7aI5uvx0lCNOnc2K2TnJ3XG4oIBgUwnhLVUaxkNZ33ci9k0719B9N\n",
       "CtgljYlCuKAOn7y5+pWdlMuYYelelt3M03jwq/YfBBpQvgHy1vdMzjXaCSG1P0K8FHFl3JVe/JTB\n",
       "8OKQrYB9NzvBGgbVfHxnOj3m9JXM6nVKwRJc8/uRMEtJ8ZvC0B6woMjx76gn9LxYB7BlBdRO3P94\n",
       "x+/lbRAIPCVaI4o+CKDAm4O7PdNgaKMTVbm4HEK/J5pFW7IJlu56Bz3RPiq/sxsFIWf7JLZGkB4t\n",
       "WDtkSw2eCasL8CTKhc1bf/SzW2ij0bQuQ99eeDn8W32iwQtgph8BGW/929yySlxIl7RKrlAIQNNO\n",
       "9Dbhd+P48gHu2b+99lJPIk/H7GtE7wb3zP6a7Fv0Xb0F8Os0Fr+PK71C1j3GydYTWFPjsTLnlY6p\n",
       "tO6beqRIG3TmYMbijfHleD34IBmo7qpMMSFRBATPHd1Guf3FCI3A+b6Xz172D1rc7ioVWvGyXl9g\n",
       "g0HG04B0MviNApPp6s/8RjqaV/F2H9h1pZYq8/ULD7IQ/QUREHl5621/UEc3HlvoTwlL3YtC8iac\n",
       "Tb2QC4nCKrtLAKR3+JKL9EU6+oqJfxNybYQlQ8346rw0bYVQqaePo+syHFHavlSNfkoItbJZy+G1\n",
       "nppt2Aunc80CfI+MtkJoRe6t0Ba650ufjRCmcPjFrDm6EbWopYeHDDbdPIsTyoPj4X3Gu5dab5iF\n",
       "UNRBRQhoqTl5suTvbynISh0jPlrve55PAHY6wiHDlUS2GwXK5ZD+sRYX88fXaGJX6UF6BgaL4KTC\n",
       "qOKwfRuubZtwuUXBhhSvZW3ZfWnMROg82BzsaVDN2wjLcNQzlxKt1M0uZqdltrx7Gl30P5cOoLVo\n",
       "80u4hGe40S0ILT/D6ErxDQL8LzWkue0rRUX2+KgOxjXtEkuIOtjInwNKbwtjzA1dR4wgtvYJwl4Z\n",
       "y/YI4qhLlMLxLsX2TOAFmY4uN2fXLmCRos2Hcsd3KAgPpTTF6ck9nKBqdbVIPt66Y+6G//84qloG\n",
       "iL5pmghut8gsr4vp0rlUyz9OSkSW2YW/WK6YLY6T/HzDr5xVzZfVFByCy5veY1bmFTc/cRL87dwS\n",
       "vhffoAURYNkDwKgq5evYepfnEAs6UfatwSxthLC8Gdcy1PT3q3FmFPCWcvknho2Nr8wSxTXbE2EF\n",
       "pkIL0BpddKGIWoZCa3/+y4Je0MOtFpevv5vYB3MAnc3VOsFdtdHLehg+ZdIdWlHbbkkSUo+KXQjJ\n",
       "xaxFfhdgLeCuxKts+qv+AFLTMU3P2iCBqWou1jDuFdf3FUUQbP8BLaYG9gv+7P0wMnsN1RepwQKo\n",
       "FExNDojEzHwnngoFKhDtgVdYkTZ674Hv82GjsvOvOhuPk851gOxRfdQo7bgcafmSjjvg+k+CQ5+7\n",
       "spZs0ASg4rn0mlFicTpap+7NurX15wd5eo4yW4FwNuMo//uuT9i8z2WyOaQiJlz6NJBx5vmahSvI\n",
       "slfXcYDyyUP0r3fAtJ6YtAjPKlDIVGJP4bjMKJTEvQyCZLr3yP1xw5Znw3HrS7Mt9Ui1Vd9EJZLH\n",
       "Qaw5R+iY+7sCXIk3MHVmVc60/Rqo/IqtAlowz9Fl1q0jdnS2hQy/6Rli15eilk++kr2qVfOZVihI\n",
       "Kkn5SxrQ2zHrFlivvoTQHzVDP/hDfD/duJ6EFxFPX8Ven/Etts+E1JkKY1KdQa9PhGRA30Yvrc14\n",
       "gsodvaNXCerGMhfxDN2HZaCAbG9DAOGHKfIzx8uBWBGqSLVeGRSIaIO3QpH/R2wzGPDlBosgVZLY\n",
       "9YwjFhodmK1LiM/SKHCR5YyY7hk2wn3Ha0lhGFkrFplJSN4FERT20nPlC+L440MxJr/u3TAgPJMn\n",
       "fx0fJ7HCjePWrCGoQkdRX17mq8n42mYPbI5OmrxonH76Hx9N/1/34/A9nvlXa3mMIhxtNH/BRCLP\n",
       "k26R6DlRj+NCvhJfwuUlTWW9T/lXHbXjnWBuk5TAxEP5R7IMl5ItoZQFsyAgpSP+FcAspB+Jbe7K\n",
       "rc+jC8SLmIsUSWjg9qfc81IY+XNq4H4jtheAyOzaUk1Erlfmto+ZxfFZjAHRXVTLlzlHDFsrFAxW\n",
       "wUeoYh4bD+C/jJTHIIiyouVQ5RMzmF7m6mCs2590AJkaUaUZ8PrjAxOy4k9QPscZSmrdv+i5iz+4\n",
       "tKpDfOF4WFvnA0M1bBE+fRjRh7f6xIwQjdpVwnvU5VArRBlhUlZ738dV7eyLqzISp/9rNdyhbuEv\n",
       "6scZuMBJ6mFHe0Eh28fMwXY0Aq5RfMS8vin94HW3p46QHe+rolYJ45xQFbxkoymelMMHvA0Bk5O2\n",
       "HxImNRys86EnaZccTpsWWT1zAX3wELtMVSzdnW70eJ3UYzAQ0RLcNtmM//UEC1Rmua/qoFCbiQDf\n",
       "dELdr/HWlZKJ0ADUiDe/e4cU3jpfzDJH3n3ybDR5wsMOa+JzsIKyT4DS3N+qSuEzY/YuemkWmh1T\n",
       "ssIRvovZ9ji8wm8hpn0vLfnQUwQqw/7GREaAlmokWI8IRR3gIkiNS3/BXVqqet5MZu72mDr/tcX8\n",
       "dMP/O0FGNwEvvLWER+FkpV66oj60KF7km2LaeHpDolh6n1wCKWuJ/sd7GrlDgv4pPX/CirykB4Jk\n",
       "TzK0sAnUQhi3AQS8mKJjukTlsioEmC1ZNDMFnf7CMpSVD8snjPjEBoGnu6Y35Oh8p9neMhMLNFOD\n",
       "eIMuj2osb6//rYeVel7enZ5LTXzcbT1xMyrXZivDENHKJMhYNE4NeyfMsI3fO8F26kRPw1t60PsP\n",
       "shcfxZsAweH/tsu+zTVR8YClOS+RWMoRLk1ith6iYQAAArpBmiFsQr/+OEBukVACzbpz+4hUMeca\n",
       "egjv7acvKUIzCRRcqqnUFb/YiNG1bi3Mgfc37HWj/PUTcVefuNYRptoWXjSu3nZLLJnp4YAw9x8b\n",
       "BgUFojY+wTJrcD8ppU56EN8l4WNSGV4JAXHgJZfD88GkL/PQ8iZjEittJbu8VV6frsL6+UNqFTfx\n",
       "MNa+PXbw4wtulF4f4dlu7bK3zKGbwmqSCUa1OXU+7VzXtvWOL7z4oqhrYUUrPxMZVqQemsJnHjMA\n",
       "eZKyBVb6OvCVEH6ttDrCXU1jCWxVgw+RPQtgMH5VDz64HOaVrNTy0dWWwxte4cQyr9xt3zyNe/VA\n",
       "QvDinC+7vq5d4rj5BEcV0p9cY/xxZMQJ85JaD966E1EM8bmRMie7wQJF+arsWBHB3wW3LA7G6hqW\n",
       "4a20TewvvdwkAn88qkZnz/w/sXfI65udGnG8GrLTi2tFsRf1kRwd4yHf1gLVNJIxDGMHYDgKGmLP\n",
       "LqpdJq7FSHUhmjfMQvqdcXHwuwXMWzH6hySigxHhDjv/chDOZ4Iq6zGT/GMf71kjm4CSba8MzJ/j\n",
       "mbb7mfV8QeKfb0x/aP1mIUj1qkD0mAry22dWD5e7y6lpB5YaNdsEfFF4cyItHO2LbBTqR2jI4jna\n",
       "waQGcvYgKB36EDP/FWlt9N5mXHhMm3xPOi+KpyXzsUENgSCAq+vzdkweV4iKtYkDQVlsfGCJ19eX\n",
       "Zv19DX5lLvYY1iQj9QAPu+w77Bojdessy0Ue6/e510HTr3XK35286qp4bhNXRZdaORTvQzE3RrnO\n",
       "KNYgbqMxRSn/YKLBjIrmnubnm98mk7Csv2MoY9BJyawxxccJRiYulRhkjTFbB3NlzRNAHJOsXRVa\n",
       "JhxBpYo8No251B9fEorT30le5n+Nuf8hf/22dhox+eZQ9vPfhkaRFHBYYZpVSBO4gAAAAbNBmkI8\n",
       "IZMphCv//jhAUHWJAJrk1g4ZCw+GiXG0ZaOEuksZQQ85MEDQ75EareSkn23LBdwQ5TIvpryfssoV\n",
       "KmW/kIuu9lBH/YWZoVjLWhKzz/IZ3DCzZ5Yc/e34JbueH46V54cHaX+vRmENt7I6OkF3uUOt+qIq\n",
       "QtgUaL6oQ5msVd92Jq5g3Eqez986/tpFLKM8mONVqrDC5S9L/0r0kAtUkVXihI8CHM36T2ZCvhYS\n",
       "5tRzkwBJ7OD5/vMm/jePNzLB18VTjUOEj7436bZTkddzGcNUtxnxGjhFEBYaJp1XiHWqJ9Xulfb0\n",
       "7/WvaYfVpI41349zse+iwGtw6mHWE09DZ9SbSQSrdfC+XKBAq7lzdHz8jrO2wcmsxpVKbtJsQF/6\n",
       "HyOOlcC4JZTHszaphrSx4Rm9Gu10qPRtkxklEhIrtAbKeN/8VxR9dQ6gT0PQayxeiIdas6TeG3O1\n",
       "hHOJDUtzyWhn1KT7lkmVtazsxwlrDCOAzwmkhLc3hUuzCBgnQYNkrMwRRyno0rG+5lmpwnC4vbSi\n",
       "592lYWKsrCmqXxI/ysc7FnrQ75UwyT+m/D+yW0yINaEAAAFTQZpjSeEPJlMCFf/+OEA1/BDiePGh\n",
       "owtEIJf8F5K5KgI+52u8OS7vU7NEMJzfXyTz+HP/0QNl+5K/yzc45967psdsbEbAZTCkrqcV3Fob\n",
       "eh3W1S43/5kEPB0iJViV8HEw/RqDzuxgZslY6EUKpIRs2TzbKf53JixxwfSnWPOd5YchDvkfQqFl\n",
       "3JSjt153HZHx954ajBlvm1klf1ECQYsq4V+TxuQeYeQtXirrcBewxemzZ4UeVbf7XShq08X4YgLo\n",
       "Rwz79YoDymQh+j02YqhRmngDx/EGazeTQFVEWomgoT/Hm1MlLI/Vad7/rSFys7qb8DXqKQ0Fmnbf\n",
       "IIvM/14tLlLFJs21/LkZCRDi5F6IbhlTpK0OIeD2eu8L/GhXtC59IihNWpvZ3m+XjqzQIzXo0r67\n",
       "Rvf4yyjSxEhIzEv0z6Ckd+v48IihkGxy38/nVXrP02OAAAABTUGahEnhDyZTAhX//jhANfwQ4nOf\n",
       "YQAShZ930t5r/DCIt4BCNpj/L+xRuUWIcmEToaGokhQ9VOR6dnexIh8o11gaKE5Vv5t4s4tW7YTW\n",
       "DTSaF8+U2Pt9KVntiCZDy7r8CAW5hXebqtDFiHdZHi9oSLLZYQqXu1tySh8DLwqJhisnOLlvxoc8\n",
       "At3rgxuaVEeyngsEPVxNd+88W0rDphKyaQ4Qfz3NDTc8pv2j5R3yHsR2XQDen1ZaXeEMJ+lsZTAQ\n",
       "BrhltLcErEejO2OyXWVecpdA+mF8Pp2d0oqzAuQXtUnOm5Gohqj5RQqJzCCFmQEArUOIwDtmQaHD\n",
       "fAbKUZQwaSyeBZ3IhMANLR6GCzUGKHCkghGlOVbs4stJvX1KCL6QjzJJoVu/ucMnkPETrAl2VlEp\n",
       "LsvFvbtGWAN3Yc337GYIYOPvvmlVJEuhk125tQAAASVBmqVJ4Q8mUwIV//44QCk9SMPhvLVknDeT\n",
       "QAsGjQSCpJT1iULR3sBIiEWxVp/WQuLdTe56mvdRPI1XQX9q8bn6Fblg/Ul2TDHQLbR5sfv+xAUG\n",
       "K92vXVJ9w53CB4jXFDVkwo03SvFIE3dy7xwYgcDM/aX/DeMz+ENztC8J9YCeMQ1H7C5X1V547w41\n",
       "MjJoD6L31cCWt5ci7eHdM3WPAfpkTi6cbkJZq97Ux16oBobXF7WMGJOsdzEZTyRXwjnDNNmM/U1u\n",
       "jjPXCPg/Ks1cXs4PpV1wZps4jE/A3k1LoeQD/Uaex+N+yxIwAXzqlk3Q4Wa4wu14XPmod1I9UNJb\n",
       "q70p8Qk3IAV96eSc2iJw/AFqFTRaVrQmhY39lDzAG5VX1o/aMZf3QQAAANZBmsZJ4Q8mUwIV//44\n",
       "QADN0olmACG6BZN4zcztzUT3T70REw+NmgLVxZI2YgGeZf+PmV+GKdpfPaa0CcxWe8ArbFSDhYpd\n",
       "E66WEF5Hx/5c4ax3Omrx1ZUZ7v/x25p8LitCsy5tcjWjYZB1TouNhxC53tlpVr5tHsQ4zI0lyHTb\n",
       "9wlsjEhHqMhQX9L5ZUUa/z3S0BF616ll8R946LGH59FKsWtK+MSon4TocPqmT72zEu+9ZbvLM7S9\n",
       "oKVGLA1kb2yjdY96OGHu1TL8MHVtjn+1G0saRkP3AAAAyUGa50nhDyZTAhX//jhAAZulEswARB2h\n",
       "ZN4zIvbmonun3nbofGzQJaD92rhTh4+b/rqncigCDhtELJvWyAjwfYfQlMl9RttXe0h4+7oGlqVO\n",
       "43Bdzwy7Em8jIrH7/PawDCHaRW2VTzo0EWxVEwSyxYsmfP29UH3epTyANH6Sopg3PSc7ET2G1+B7\n",
       "LXkfNAJSkn18tKji/pxppfVFaPE1WQGByFz/3rZAARSTOOO3l4LVTxGND899/nvqaEnrVMsDtgmE\n",
       "fExA7KbugQAAALdBmwhJ4Q8mUwIV//44QAM2zwOAEKed8yZbd4fOAiPYfbGWOhiwyMBZXn9BiOHj\n",
       "5zLwFl7FvkyLC6qQ8jvh8PMJCxVdaN/NF+sLJ8q4o64M/ffZe4mrMD8Awt8k6iRClHv/rCL1JB1z\n",
       "1yWeR1lSTiGP5XzUgcu7NKEXVYuU7YETcUAkG+6HYgnt8zivaEui6LSIcqdecQhLHu03zOaZzFGk\n",
       "SN6ASsQBiv6lDn3lUBiFk9EfbZGrh/gAAAC5QZspSeEPJlMCFf/+OEADO6DyhsP+aAAhqYEk52IL\n",
       "5eKqA/Bc7xldc6FhChyQpyBMRh+IyZp5SDg65msfsm788Xk+QmzEKyFVvTiGZW4ppmSKvbDnLEyu\n",
       "rs616/tCdVROrvkFmGNXRXtg431Ks4MFPmtq4QfFJnXg51lX0lqzrTmItVQxs/9Frgx/zWLbxU8Z\n",
       "Y2KO/SJ/vlGFyLIHFF2Vd4FBQ25MxONtUzEUOq6AEEixVenOMIIvdFgAAADOQZtKSeEPJlMCFf/+\n",
       "OEAGbZ4HACFPO+ZMtu8uWn2gkEM+JbNmYfJQQOYZ/HdH/4+cmOVXuUR9hwPfHciEAtfAA7EzYSW5\n",
       "e/DWaVx0ClkHTtCFg/4sLenOv2KuF7ax0mkTBFLi7vOE68tZw/puLDHJNic3GhIqnBQfcB/HBXm4\n",
       "zyUFaHMk0o3ha/+qoOfukKTaTNCkLHvoNh9ApixqBwByqJ/XqXIjwq6/QFzZUuX1PKmnmoFOBo0U\n",
       "rcY9mHm+/dtSqAO2NrEkW/6Z4DyUUCEAAACUQZtrSeEPJlMCFf/+OEAGd0B/Zytb6egAXUdxog2k\n",
       "t61lq0YOGGFBU/3M5TX4t8/v9LdKwd0RRjfIrhZ5nerMV/9H/aWbK/hK/j5dictszx87zlGfy/L8\n",
       "HJSqkNUdXfMBuAaHpVFxWTNBUEGQO2u7OeRm8TrcvsaBZo+6p14mTzr7IROVP3bVMsAntNfgeaqj\n",
       "JSdOeAAAAJZBm4xJ4Q8mUwIV//44QAZuDQsKiAEztSwN4ykdXWywHQiPe2Yrzj8eU1LkpPCjwFj6\n",
       "T8Y5bRs6Qt7+HzBCJvosgLmO3LsX/UZW82BpCzkhym0XDjfGQy9+HPTpEjpyb7HGM/Kxy4lsgIwL\n",
       "yPTL2nk2i6TWp7VnHq/IMYd/DCONtUywCgqyyOnaFPXd6gjX771PiLMUPWAAAADeQZutSeEPJlMC\n",
       "Ff/+OEAM3oEjmjXziABdPjs6MyqwCXyNK4LQKg6fcuJCIXDLNhqn/gRomQYxavSsHC8OZfACg4ep\n",
       "QNF1KQBh58m7ysJwqMVuE18pdLQJMEnDe/yApf4q7iC/CJC3wcRYU+hhlWGHp0m+DCq8cuIqAQMR\n",
       "9TEgg1WPaFnD103E6kLhTEwGTOLY22lRgP3K8xnb1nZPA+IXWaEf65+7VJ4ov5hN7ctZOx0mdiA7\n",
       "r74f+RwUINav94+NjO9UWl0wvx7tqVQA7P+KtQIvaAIVOhq2oSOlci+BAAAAgEGbzknhDyZTAhX/\n",
       "/jhADMfsbDxe0V+gGzs0Jkw440GYR890yC/+KCAUN1lUyQyM4dHs+gB6FMsmELXlYZdvoBSF75N1\n",
       "Xn7exsnXzL65WOIRhEQXJpslmtAkcmKZ49Imhb+gUn4WaJMT/XG2qZYAoRLRg6ZdncaEz1LB2hZQ\n",
       "yeaTAAAAiUGb70nhDyZTAhX//jhADNsgdH7GgAOKGU2KxOTOg/H8QU39za8NV4EbWWJfv5NDH8pA\n",
       "3ePNYJoX3aCyLF37mK1GTwYmn+Gvp5ITQbf6w6hwQuZn+KiM427ccC7sKFjrlDeG9wtU7iQuDDWQ\n",
       "q3S21TLAFCHnmRaiHDRiSSOSZfJUfbNFFqJc71bBAAAAnkGaEEnhDyZTAhX//jhADNw69awkoAHF\n",
       "DKbFcOropF051jr5DvVqCfSOzlQMgRjhJkAQuYv+0AIUGehfmtSEut8sXEXTkvYfMUu/v05Ggy4c\n",
       "yFN1HzyO92yH8H+dSb2S1YgsY9zzrqTg+gZitc1XN2u7hFE8tL9BH/gcBt/Zex4Dg/18hFL+147D\n",
       "uNtUywBQUG5iUH0bZUrM02ai6iqYAAAA0UGaMUnhDyZTAhX//jhAHE1sp60K/NxibCdRcy64KpaQ\n",
       "JIeSgAAHiRRVnYALnd6Pawc434uxPRW80cfX/XYDjYNYIB2iFKAC4T7Gc0TyoG5xR/tzA7fhp0+t\n",
       "Yka2KkEpmudy3uIkjDvBlCIgcJ8qGkbLrnQIb2yegcmdvJc9E7IfTJ29H2/GUbod5El+hGXb2lPG\n",
       "lHYA2Iii3mRm13F+mIIBqsKJ2/qsBc+mFAldmIXcKMoJHzHJCk54XfF2hUGR7VMsANp9VtGNqRqA\n",
       "nZNFPhbRAAAAzUGaUknhDyZTAhX//jhAHBfhzADdd/IkDUW3S8zhEKuqXrySV0hb+paHr1Cxl0jv\n",
       "aDOlhNpPjuKrOkXQ+KH/tDgAHV9oB/TCxwfljI2a3S3zNSzccvKv0OkLK4CiYo2BQbkdt599lIEc\n",
       "TFrHntuin7cqZNl1pRO2WHutgSSiLK8AuhKSAV0mzhZwkyezhhzM7Lc8djbEvCKu+YK79LyiFJ8s\n",
       "kXZN2DDweMFlAw1kKds6GalqivBS9aopH7t7xUNH2PaplgBtQryOpccLWLEAAABqQZpzSeEPJlMC\n",
       "Ff/+OEAcTXbfOxDjzJ17IAQll+AwpY5C2t12nXKH6IbrdgI9T1Ehzq6zkO4FAUC+QlmhzAzbh5bY\n",
       "CL77DICUr7HfNrDSxN1py6nZ9liZbU/kmSipqdiIAo5XPYrVYaPFbAAAAE1BmpRJ4Q8mUwIV//44\n",
       "QBxWbXjlSWoMx3GZJq17epY16y+IAW8Jb+dvngAHkMgQmZaC8HSqdCrNn3l5gekDRObcxhBvD3gQ\n",
       "i0wQCMKadgAAAIpBmrVJ4Q8mUwIV//44QBxNfVvUALWgJfk02OWKB5WgCl41W0ogGnzQ7b7/EngC\n",
       "Nu7p6C318OiE4WHn+DCEFpZtw1EBREq5+7haI+0YU7uA4JEvXXk9HSd8GrkVLS0DqlaSferBf+vh\n",
       "AbGK2tSu9XtpBY8P4MLoQA+cj5ltUywAhLyRKjqmxD1FnVEAAABRQZrWSeEPJlMCFf/+OEBipjDp\n",
       "0RoaAEf3dRvbQ/RSRAeqRWswCIlYEUcFBNw+hPyW5cwcCa+8GO0yAAAqj18g1OJc2qZYAIFkkCIg\n",
       "dJOA3fLwAAAAlEGa90nhDyZTAhX//jhAHE2CMlAAuo6G110bXKktpYMFvMzEFdC2mCHC0H7tXCnU\n",
       "0Rcj3OUlXKYjuklriRU/7pnMWqhkCGf4MIfgUQjIJ8hdRSjlJCYff2Rl1iNw1wa0Tex/SnndEJWo\n",
       "dX73EtJWYtDH7vzibrQMbzREJiKEN0JseF7UDtZbaplgBCX830oUdihhxjMAAACLQZsYSeEPJlMC\n",
       "Ff/+OEAcTX3k0AAP535NImswLz8dRGlcxsltNqUc6OE5oCOpokm/+INnlISzRul/+Z/puKU/wZNr\n",
       "sDJ3hq0meQ6fECNu/W+FvXuhLyZv+Qx1GhHa37aQLOK7uyatSccGiaxaHFf+XyPwDsVQOQC8fXs/\n",
       "tHbVMsAIS83klclNdzbmxwAAAIZBmzlJ4Q8mUwIT//3xAESy7dwAt0Ll6mi7zXX9Z9dfxWiw7Q9L\n",
       "/FFtqS1mT5rUe840uG3pmJar8dVlu3MDktn7q06ZoSOlRiyMllkemqI/CXkRvj383txssV3lCDw0\n",
       "D7AiuZ9cFqb8DP5xJ6TXQ8GYeDEQMbWjLACGSF7L2+e9neqhA1wxYAAAAHFBm1pJ4Q8mUwIR//3h\n",
       "AGtvfSAE1E+a9iOV7N7hgTe7WdxISlUDdJFDh3wvw0Cyu0cRtqt4RnbL5YphoG4HLp961YjBtPcf\n",
       "27ANmUBN2BxXL0HtN3E3JETE6TwCUYKEU7US3m1ltqeEAHJ2iUjtl1RqaQAAA6Jtb292AAAAbG12\n",
       "aGQAAAAAAAAAAAAAAAAAAAPoAAACowABAAABAAAAAAAAAAAAAAAAAQAAAAAAAAAAAAAAAAAAAAEA\n",
       "AAAAAAAAAAAAAAAAAEAAAAAAAAAAAAAAAAAAAAAAAAAAAAAAAAAAAAAAAAACAAACzHRyYWsAAABc\n",
       "dGtoZAAAAAMAAAAAAAAAAAAAAAEAAAAAAAACowAAAAAAAAAAAAAAAAAAAAAAAQAAAAAAAAAAAAAA\n",
       "AAAAAAEAAAAAAAAAAAAAAAAAAEAAAAABsAAAASAAAAAAACRlZHRzAAAAHGVsc3QAAAAAAAAAAQAA\n",
       "AqMAAAIAAAEAAAAAAkRtZGlhAAAAIG1kaGQAAAAAAAAAAAAAAAAAACgAAAAbAFXEAAAAAAAtaGRs\n",
       "cgAAAAAAAAAAdmlkZQAAAAAAAAAAAAAAAFZpZGVvSGFuZGxlcgAAAAHvbWluZgAAABR2bWhkAAAA\n",
       "AQAAAAAAAAAAAAAAJGRpbmYAAAAcZHJlZgAAAAAAAAABAAAADHVybCAAAAABAAABr3N0YmwAAACz\n",
       "c3RzZAAAAAAAAAABAAAAo2F2YzEAAAAAAAAAAQAAAAAAAAAAAAAAAAAAAAABsAEgAEgAAABIAAAA\n",
       "AAAAAAEAAAAAAAAAAAAAAAAAAAAAAAAAAAAAAAAAAAAAAAAAAAAY//8AAAAxYXZjQwFkABX/4QAY\n",
       "Z2QAFazZQbCWhAAAAwAEAAADAUA8WLZYAQAGaOvjyyLAAAAAHHV1aWRraEDyXyRPxbo5pRvPAyPz\n",
       "AAAAAAAAABhzdHRzAAAAAAAAAAEAAAAbAAABAAAAABRzdHNzAAAAAAAAAAEAAAABAAAAGGN0dHMA\n",
       "AAAAAAAAAQAAABsAAAIAAAAAHHN0c2MAAAAAAAAAAQAAAAEAAAAbAAAAAQAAAIBzdHN6AAAAAAAA\n",
       "AAAAAAAbAAAbVgAAAr4AAAG3AAABVwAAAVEAAAEpAAAA2gAAAM0AAAC7AAAAvQAAANIAAACYAAAA\n",
       "mgAAAOIAAACEAAAAjQAAAKIAAADVAAAA0QAAAG4AAABRAAAAjgAAAFUAAACYAAAAjwAAAIoAAAB1\n",
       "AAAAFHN0Y28AAAAAAAAAAQAAACwAAABidWR0YQAAAFptZXRhAAAAAAAAACFoZGxyAAAAAAAAAABt\n",
       "ZGlyYXBwbAAAAAAAAAAAAAAAAC1pbHN0AAAAJal0b28AAAAdZGF0YQAAAAEAAAAATGF2ZjU1LjE5\n",
       "LjEwNA==\n",
       "\">\n",
       "  Your browser does not support the video tag.\n",
       "</video>"
      ],
      "text/plain": [
       "<matplotlib.animation.FuncAnimation at 0x20cca1078d0>"
      ]
     },
     "execution_count": 355,
     "metadata": {},
     "output_type": "execute_result"
    }
   ],
   "source": [
    "xR = np.linspace(0, R, N)\n",
    "\n",
    "fig, ax = plt.subplots()\n",
    "line, = ax.plot(xR, T_initial)\n",
    "ax.set_yticks(np.arange(0, 601, 50))\n",
    "\n",
    "plt.title(\"Процес нагрівання\")\n",
    "plt.ylabel(u\"Температура нагріву, ℃\")\n",
    "plt.xlabel(u\"Координата, м\")\n",
    "plt.grid()\n",
    "\n",
    "def animate(i):\n",
    "    line.set_ydata(T_data[i]-273.0)  # update the data\n",
    "    return line,\n",
    "\n",
    "# Init only required for blitting to give a clean slate.\n",
    "def init():\n",
    "    line.set_ydata(np.ma.array(xR, mask=True))\n",
    "    return line,\n",
    "\n",
    "ani = animation.FuncAnimation(fig, animate, np.arange(0, len(T_data), 5000), init_func=init,\n",
    "                              interval=25, blit=True)\n",
    "plt.close()\n",
    "ani"
   ]
  },
  {
   "cell_type": "markdown",
   "metadata": {},
   "source": [
    "Будуємо графік залежності температури від часу в процесі нагрівання в трьох точках, розташованих по перетину системи ($r_1 = 0, r_2 = \\frac{r_0}{2}, r_3 = r_0$):"
   ]
  },
  {
   "cell_type": "code",
   "execution_count": 351,
   "metadata": {},
   "outputs": [
    {
     "data": {
      "image/png": "[encoded data removed]",
      "text/plain": [
       "<matplotlib.figure.Figure at 0x20cc8a8c160>"
      ]
     },
     "metadata": {},
     "output_type": "display_data"
    }
   ],
   "source": [
    "x_time = np.linspace(0, time_heat/60, len(T_data))\n",
    "it = iter(['--', '-.', ':'])\n",
    "for y, labl in zip(T_data.T[[0, 10, 19]]-273.0, ['$r_1=0$', r'$r_2=\\frac{R}{2}$', '$r_3 = R$']):\n",
    "    plt.plot(x_time, y, next(it), label=labl)\n",
    "plt.legend()\n",
    "plt.title(\"Процес нагрівання в окремих точках\")\n",
    "plt.ylabel(u\"Температура нагріву, ℃\")\n",
    "plt.xlabel(u\"Час, хв\")\n",
    "plt.grid()"
   ]
  },
  {
   "cell_type": "markdown",
   "metadata": {},
   "source": [
    "### Висновки\n",
    "\n",
    "Реалізована детермінована числова математична модель із розподіленими параметрами та визначений час нагріву металевого виробу, який становить 4.5хв."
   ]
  }
 ],
 "metadata": {
  "kernelspec": {
   "display_name": "Python 3",
   "language": "python",
   "name": "python3"
  },
  "language_info": {
   "codemirror_mode": {
    "name": "ipython",
    "version": 3
   },
   "file_extension": ".py",
   "mimetype": "text/x-python",
   "name": "python",
   "nbconvert_exporter": "python",
   "pygments_lexer": "ipython3",
   "version": "3.6.2"
  }
 },
 "nbformat": 4,
 "nbformat_minor": 2
}
