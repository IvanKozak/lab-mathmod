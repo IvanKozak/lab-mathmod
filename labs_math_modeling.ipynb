{
 "cells": [
  {
   "cell_type": "markdown",
   "metadata": {},
   "source": [
    "\n",
    "# МАТЕМАТИЧНЕ МОДЕЛЮВАННЯ МАТЕРІАЛІВ ТА ТЕХНОЛОГІЧНИХ ПРОЦЕСІВ В МАТЕРІАЛОЗНАВСТВІ\n",
    "Комп'ютерний практикум\n",
    "\n",
    "*Виконав студент групи ФМ-71мп*\n",
    "\n",
    "*Богомаз Ростислав*"
   ]
  },
  {
   "cell_type": "markdown",
   "metadata": {},
   "source": [
    "## АНАЛІТИЧНА МАТЕМАТИЧНА МОДЕЛЬ НАГРІВАННЯ МЕТАЛЕВОГО ВИРОБУ В ПЕЧІ ДЛЯ НАСТУПНОЇ ТЕРМІЧНОЇ ОБРОБКИ\n",
    "\n",
    "**Мета роботи:** освоєння принципів побудови детермінованої аналітичної математичної моделі із зосередженими параметрами та визначення часу нагріву металевого виробу."
   ]
  },
  {
   "cell_type": "markdown",
   "metadata": {},
   "source": [
    "### Завдання та вихідні дані\n",
    "Розрахувати час нагріву заготівки $t_{h}$, яка нагрівається в печі та побудувати графік залежності температури від часу в процесі нагрівання. Розрахунки провести використовуючи для цього детерміновану, інтегральну, аналітичну математичну модель із зосередженими параметрами.\n",
    "\n",
    "Вихідні дані:"
   ]
  },
  {
   "cell_type": "code",
   "execution_count": 1,
   "metadata": {
    "collapsed": true
   },
   "outputs": [],
   "source": [
    "# Defining variablbbes\n",
    "# Материал Cu\n",
    "# material constants\n",
    "density = 8873  # густина металу кг/м3\n",
    "alpha = 200  # Вт*м-2*К-1\n",
    "heat_capacity = [385, 442]  # 300 K and 800 K\n",
    "thermal_emissivity = 0.78  # для міді (epsilon)\n",
    "\n",
    "# constants\n",
    "Stefan_Bolzman = 5.6704e-8  # Вт / (м^2 * К^4)\n",
    "\n",
    "# geometry, m\n",
    "width, length, high = 0.1, 0.1, 0.1\n",
    "\n",
    "# температура печі\n",
    "T_furnace = 600 + 273.0  # K\n",
    "T_specimen = 20 + 273.0  # K\n",
    "DeltaT = 1  # %"
   ]
  },
  {
   "cell_type": "markdown",
   "metadata": {},
   "source": [
    "### Порядок виконання"
   ]
  },
  {
   "cell_type": "code",
   "execution_count": 2,
   "metadata": {
    "collapsed": true
   },
   "outputs": [],
   "source": [
    "import numpy as np\n",
    "import matplotlib.pyplot as plt\n",
    "%matplotlib inline"
   ]
  },
  {
   "cell_type": "markdown",
   "metadata": {},
   "source": [
    "Розрахунок площі поверхні та маси зразка:"
   ]
  },
  {
   "cell_type": "code",
   "execution_count": 3,
   "metadata": {},
   "outputs": [
    {
     "data": {
      "text/plain": [
       "(0.06000000000000001, 0.0010000000000000002, 8.873000000000003)"
      ]
     },
     "execution_count": 3,
     "metadata": {},
     "output_type": "execute_result"
    }
   ],
   "source": [
    "square = (width * length + width * high + length * high) * 2\n",
    "volume = width * length * high\n",
    "mass = volume * density\n",
    "square, volume, mass"
   ]
  },
  {
   "cell_type": "markdown",
   "metadata": {},
   "source": [
    "Визначаємо температуру закінчення розрахунків Тк:"
   ]
  },
  {
   "cell_type": "code",
   "execution_count": 4,
   "metadata": {},
   "outputs": [
    {
     "data": {
      "text/plain": [
       "864.27"
      ]
     },
     "execution_count": 4,
     "metadata": {},
     "output_type": "execute_result"
    }
   ],
   "source": [
    "T_last = (1 - 0.01 * DeltaT) * T_furnace\n",
    "T_last"
   ]
  },
  {
   "cell_type": "markdown",
   "metadata": {},
   "source": [
    "Розраховуємо середню теплоємність через лінійний закон:"
   ]
  },
  {
   "cell_type": "code",
   "execution_count": 5,
   "metadata": {},
   "outputs": [
    {
     "data": {
      "text/plain": [
       "417.26200000000006"
      ]
     },
     "execution_count": 5,
     "metadata": {},
     "output_type": "execute_result"
    }
   ],
   "source": [
    "heat_cap_line = np.poly1d(np.polyfit([300, 800], heat_capacity, 1))\n",
    "c = heat_cap_line(np.mean([T_furnace, T_specimen]))\n",
    "c"
   ]
  },
  {
   "cell_type": "markdown",
   "metadata": {},
   "source": [
    "Розраховуємо коефіцієнт $k$ та час нагріву:"
   ]
  },
  {
   "cell_type": "code",
   "execution_count": 6,
   "metadata": {},
   "outputs": [
    {
     "data": {
      "text/plain": [
       "(0.0032411708858823842, 1294.6749435417539)"
      ]
     },
     "execution_count": 6,
     "metadata": {},
     "output_type": "execute_result"
    }
   ],
   "source": [
    "k = alpha * square / (c * mass)\n",
    "heat_time = -np.log((T_furnace - T_last) / (T_furnace - T_specimen)) / k\n",
    "k, heat_time"
   ]
  },
  {
   "cell_type": "markdown",
   "metadata": {},
   "source": [
    "Будуємо графік:"
   ]
  },
  {
   "cell_type": "code",
   "execution_count": 7,
   "metadata": {},
   "outputs": [
    {
     "data": {
      "image/png": "[encoded data removed]",
      "text/plain": [
       "<matplotlib.figure.Figure at 0x20c8af84e48>"
      ]
     },
     "metadata": {},
     "output_type": "display_data"
    }
   ],
   "source": [
    "# дані для побудови\n",
    "lab1_x = np.arange(0, heat_time, 0.5)\n",
    "lab1_y = T_furnace - (T_furnace - T_specimen) * np.exp(-k * lab1_x)\n",
    "\n",
    "plt.plot(lab1_x, lab1_y - 273.0)\n",
    "plt.xticks(np.arange(lab1_x[0], lab1_x[-1] + 60, 120))\n",
    "plt.yticks(np.arange(0, 601, 50))\n",
    "plt.title(\"Процес нагрівання\")\n",
    "plt.ylabel(u\"Температура нагріву, ℃\")\n",
    "plt.xlabel(u\"Час нагріву, c\")\n",
    "plt.grid()"
   ]
  },
  {
   "cell_type": "markdown",
   "metadata": {},
   "source": [
    "### Висновки\n",
    "Була побудована детермінована аналітична математична модель із зосередженими параметрами для визначення часу нагріву металевого виробу.\n",
    "\n",
    "Отримано, що за даними параметрами зразок в печі нагрівається до температури печі за 22 хв. (1300 с).\n"
   ]
  },
  {
   "cell_type": "markdown",
   "metadata": {},
   "source": [
    "## ЧИСЛОВА МАТЕМАТИЧНА МОДЕЛЬ НАГРІВАННЯ МЕТАЛЕВОГО ВИРОБУ В ПЕЧІ ДЛЯ НАСТУПНОЇ ТЕРМІЧНОЇ ОБРОБКИ\n",
    "\n",
    "**Мета роботи:** освоєння принципів побудови детермінованої числової математичної моделі із зосередженими параметрами та визначення впливів залежності питомої теплоємності від температури і випромінювання на процес нагріву металевого виробу. "
   ]
  },
  {
   "cell_type": "markdown",
   "metadata": {},
   "source": [
    "### Завдання та вихідні дані\n",
    "Розрахувати час нагріву заготовки $t_\\text{н}$, яка нагрівається в печі та побудувати графік залежності температури від часу в процесі нагрівання. Розрахунки провести використовуючи ітераційну формулу чисельної математичної моделі із зосередженими параметрами. Дані для розрахунків задані в комп’ютерному практикумі №1.\n",
    "\n",
    "Розрахунки провести при наступних умовах:\n",
    "1. $a_0 = c$; $a_1 = 0$; $\\epsilon = 0$. В цьому випадку розрахунки можна порівняти з результатами, які отримані в комп’ютерному практикумі №1.\n",
    "2. $a_0 \\neq c$; $a_1 \\neq 0$; $\\epsilon = 0$. В цьому випадку розрахунки показують вплив залежності питомої теплоємності від температури на динаміку процесу нагріву.\n",
    "3. $a_0 \\neq c$; $a_1 \\neq 0$; $\\epsilon = 0.78$. В цьому випадку розрахунки показують вплив залежності питомої теплоємності від температури та врахування нагріву шляхом випромінювання на динаміку процесу нагріву.\n",
    "\n",
    "Побудувати графіки для трьох варіантів розрахунків і порівняти їх між собою та з результатами, що отримані в комп’ютерному практикумі №1.  \n"
   ]
  },
  {
   "cell_type": "markdown",
   "metadata": {},
   "source": [
    "### Порядок виконання"
   ]
  },
  {
   "cell_type": "markdown",
   "metadata": {},
   "source": [
    "Реалізовуємо ітеративну функцію для розрахунку температури за формулою:\n",
    "$$ T_{i+1} = T_i + h \\frac{k_1(T_f-T_i)+k_2(T_f^4 - T_i^4)}{a_0 + a_1 T_i} $$\n",
    "де:\n",
    "\n",
    "- $T_{i+1}$, $T_{i}$ та $T_f$ -- відповідно наступна, попередня температури та температура печі,\n",
    "- $h$ -- крок по часу\n",
    "- $a_0$, $a_1$ -- емпіричні коефіцієнти з лінійної апроксимації темпоємності.\n",
    "\n",
    "Коефіцієнти $k_1$, $k_2$ розраховуються таким чином:\n",
    "$$ k_1 = \\frac{\\alpha S}{m},$$\n",
    "$$k_2 = \\frac{\\sigma \\epsilon S}{m}$$,\n",
    "де:\n",
    "\n",
    "- $\\alpha$ - коефіцієнт теплопереносу\n",
    "- $\\sigma$ - стала Стефана-Больцмана\n",
    "- $\\epsilon$ - випромінювальна здатність\n",
    "- $S$ - площа поверхні зразка\n",
    "- $m$ - маса зразка"
   ]
  },
  {
   "cell_type": "code",
   "execution_count": 8,
   "metadata": {
    "collapsed": true
   },
   "outputs": [],
   "source": [
    "def lab2_data(a0, a1, epsilon):\n",
    "    # коефіцієнти\n",
    "    k1 = alpha * square / mass\n",
    "    k2 = Stefan_Bolzman * epsilon * square / mass\n",
    "    step = 10  # крок\n",
    "\n",
    "    time_array = [0]\n",
    "    i = 0\n",
    "\n",
    "    T_array = [T_specimen]\n",
    "    T_next = T_array[0]\n",
    "\n",
    "    while T_next <= T_last:\n",
    "        i += 1\n",
    "        T_next = T_next + step * (k1 * (T_furnace - T_next) +\n",
    "                                  k2 * (T_furnace ** 4 - T_next ** 4)\n",
    "                                  ) / (a0 + a1 * T_next)\n",
    "        T_array.append(T_next)\n",
    "        time_array.append(step*i)\n",
    "    return np.array(time_array), np.array(T_array)"
   ]
  },
  {
   "cell_type": "markdown",
   "metadata": {},
   "source": [
    "$a_0 = c$; $a_1 = 0$; $\\epsilon = 0$:"
   ]
  },
  {
   "cell_type": "code",
   "execution_count": 9,
   "metadata": {
    "collapsed": true
   },
   "outputs": [],
   "source": [
    "lab2_x1, lab2_y1 = lab2_data(c, 0, 0)"
   ]
  },
  {
   "cell_type": "markdown",
   "metadata": {},
   "source": [
    "$a_0 \\neq c$; $a_1 \\neq 0$; $\\epsilon = 0$:"
   ]
  },
  {
   "cell_type": "code",
   "execution_count": 10,
   "metadata": {
    "collapsed": true
   },
   "outputs": [],
   "source": [
    "lab2_x2, lab2_y2 = lab2_data(heat_cap_line[0],\n",
    "                             heat_cap_line[1],\n",
    "                             0)"
   ]
  },
  {
   "cell_type": "markdown",
   "metadata": {},
   "source": [
    "$a_0 \\neq c$; $a_1 \\neq 0$; $\\epsilon = 0.78$:"
   ]
  },
  {
   "cell_type": "code",
   "execution_count": 11,
   "metadata": {
    "collapsed": true
   },
   "outputs": [],
   "source": [
    "lab2_x3, lab2_y3 = lab2_data(heat_cap_line[0],\n",
    "                             heat_cap_line[1],\n",
    "                             thermal_emissivity)"
   ]
  },
  {
   "cell_type": "markdown",
   "metadata": {},
   "source": [
    "Будуємо графік залежності:"
   ]
  },
  {
   "cell_type": "code",
   "execution_count": 12,
   "metadata": {},
   "outputs": [
    {
     "data": {
      "image/png": "[encoded data removed]",
      "text/plain": [
       "<matplotlib.figure.Figure at 0x20c8af849b0>"
      ]
     },
     "metadata": {},
     "output_type": "display_data"
    }
   ],
   "source": [
    "data_list = [(lab1_x, lab1_y, \"Комп.практ.№1\"),\n",
    "            (lab2_x1, lab2_y1, \"$а_0 = c$; $а_1 = 0$; $\\epsilon = 0$\"),\n",
    "            (lab2_x2, lab2_y2, \"$а_0 ≠ 0; а_1 ≠ 0; \\epsilon = 0$\"),\n",
    "            (lab2_x3, lab2_y3, '$а_0 ≠ 0$; $а_1 ≠ 0$; $\\epsilon = 0.78$')]\n",
    "\n",
    "style_iter = iter(['--', '-.', ':', '-'])\n",
    "\n",
    "for x, y, l in data_list:\n",
    "    plt.plot(x, y-273.0, next(style_iter), label=l)\n",
    "    \n",
    "plt.legend()\n",
    "plt.title(\"Процес нагрівання\")\n",
    "plt.ylabel(u\"Температура нагріву, ℃\")\n",
    "plt.xlabel(u\"Час нагріву, c\")\n",
    "plt.yticks(np.arange(0, 601, 50))\n",
    "plt.xticks(np.arange(0, 1400, 120))\n",
    "plt.grid()"
   ]
  },
  {
   "cell_type": "markdown",
   "metadata": {},
   "source": [
    "Час нагріву до температури в перших двох випадках співпадає з результатом комп'ютерного практикуму №1 з точністю до хвилини. Урахування випромінювання в моделі ($\\epsilon \\neq 0$) значно скорочує час нагрівання - для даних параметрів час становить 15 хв. "
   ]
  },
  {
   "cell_type": "markdown",
   "metadata": {},
   "source": [
    "### Висновки\n",
    "Побудована детермінована числова математична модель із зосередженими параметрами для визначення впливів залежності питомої теплоємності від температури і випромінювання на процес нагріву металевого виробу.\n",
    "\n",
    "Урахування випромінювання в даній моделі значно скорочує час нагрівання зразку.\n",
    "\n",
    "Урахування лінійної залежності теплоємності не впливає на отримані результати, отже для задовільної апроксимації достатньо середнього значення на даному проміжку температур."
   ]
  },
  {
   "cell_type": "markdown",
   "metadata": {},
   "source": [
    "## НАГРІВАННЯ МЕТАЛЕВОГО ВИРОБУ В ПЕЧІ ДЛЯ НАСТУПНОЇ ТЕРМІЧНОЇ ОБРОБКИ-3\n",
    "\n",
    "**Мета роботи:** освоєння принципів побудови детермінованої числової математичної моделі із розподіленими параметрами та визначення часу нагріву металевого виробу.\n",
    "\n",
    "### Завдання та вихідні дані\n",
    "Розрахувати час нагріву заготівки $t_h$, яка нагрівається в печі та побудувати графік залежності температури від часу в процесі нагрівання в трьох точках, розташованих по перетину системи ($r_1 = 0, r_1 = \\frac{r_0}{2}, r_1 = r_0$). Розрахунки провести використовуючи ітераційні формули чисельної математичної моделі із розгалуженими параметрами."
   ]
  },
  {
   "cell_type": "code",
   "execution_count": 311,
   "metadata": {
    "collapsed": true
   },
   "outputs": [],
   "source": [
    "# geometry, m\n",
    "R, length = 0.05, 0.1\n",
    "\n",
    "# lambda\n",
    "thermal_conductivity = [401, 366]  # W m-1 K-1 300 K and 800 K\n",
    "\n",
    "# інші потрібні параметри співпадають з даними комп. практикуму №1"
   ]
  },
  {
   "cell_type": "markdown",
   "metadata": {},
   "source": [
    "Розрахунок середньої теплоємності через лінійний закон:"
   ]
  },
  {
   "cell_type": "code",
   "execution_count": 312,
   "metadata": {},
   "outputs": [
    {
     "data": {
      "text/plain": [
       "381.18999999999983"
      ]
     },
     "execution_count": 312,
     "metadata": {},
     "output_type": "execute_result"
    }
   ],
   "source": [
    "lambda_line = np.poly1d(np.polyfit([300, 800], thermal_conductivity, 1))\n",
    "lambd = lambda_line(np.mean([T_specimen, T_furnace]))\n",
    "lambd"
   ]
  },
  {
   "cell_type": "markdown",
   "metadata": {},
   "source": [
    "### Порядок виконання\n",
    "\n",
    "Реалізуємо ітераційну функцію за рівнянням *явної різницевої схеми*:\n",
    "$$T_i^{j+1} = \\left(f + \\frac{f}{i}\\right)T_{i+1}^j + \\left(1-2f\\right)T_i^j + \\left(f-\\frac{f}{i}\\right)T_{i-1}^j,$$\n",
    "де:\n",
    "\n",
    "- $j = 0 \\dots M$ - номера кроки у часі\n",
    "- $i = 1 \\dots N-1$ - номера кроків по довжині (радіусу)\n",
    "- $f$ - параметр, який розраховується за формулою:\n",
    "$$f = \\left( \\frac{\\alpha}{c \\rho} \\right) \\frac{\\tau}{h^2}$$\n",
    "\n",
    "Для визначення крайніх точок $i=0$ та $i=N$ використовуємо формули, які випливають з граничних умов задачі:\n",
    "\n",
    "$$ T_0^{j+1} = (1-2f) T_0^j+2f T_1^j $$\n",
    "\n",
    "$$ T_N^{j+1} = 2f T_{N-1}^j + \\left( 1 - 2f \\left( 1 + \\frac{\\alpha h}{\\lambda} \\right) \\right) T_N^j + 2f \\frac{\\alpha h}{\\lambda} T_f $$\n",
    "\n",
    "При цьому враховуємо умову збіжності даної числової схеми:\n",
    "$$ f \\leq \\frac{1}{2}, $$\n",
    "яка залежить від вибору кроків по часу $\\tau$ та по довжині $h$."
   ]
  },
  {
   "cell_type": "code",
   "execution_count": 283,
   "metadata": {},
   "outputs": [],
   "source": [
    "def explicit_scheme(T, tau, R=R, T_f=T_furnace, T_last=T_last, alpha=alpha, lambd=lambd, rho=density, c=c):\n",
    "    try:\n",
    "        N = len(T)\n",
    "        h = R / N\n",
    "        f = (alpha / (c * rho)) * tau / (h ** 2)\n",
    "        if f > 0.5:\n",
    "            raise Exception(f\"Не виконується умова збіжності: f = {f}\")\n",
    "    except Exception as e:\n",
    "        print('Помилка:', e)\n",
    "        return None\n",
    "    \n",
    "    Tnew = np.copy(T)\n",
    "    i = np.arange(1, N+1)\n",
    "    time = 0\n",
    "    T_data = [np.copy(T)]\n",
    "    while Tnew[0] < T_last:\n",
    "        _k = alpha * h / lambd\n",
    "        Tnew[1:-1] = (f+f/i[1:-1]) * T[2:] + (1 - 2*f) * T[1:-1] + (f - f/i[1:-1]) * T[:-2]\n",
    "        Tnew[-1] = 2*f * T[-2] + (1 - 2*f * (1+_k)) * T[-1] + 2*f * _k * T_f\n",
    "        Tnew[0] = (1 - 2*f) * T[0] + 2*f * T[1]\n",
    "        T = np.copy(Tnew)\n",
    "        T_data.append(np.copy(Tnew))\n",
    "        time += tau\n",
    "    return np.array(T_data), time\n"
   ]
  },
  {
   "cell_type": "markdown",
   "metadata": {},
   "source": [
    "Розраховуємо час нагріву з параметрами моделі $N = 20$ та $\\tau = 0.01$:"
   ]
  },
  {
   "cell_type": "code",
   "execution_count": 313,
   "metadata": {},
   "outputs": [],
   "source": [
    "N = 20\n",
    "T_initial = np.full(N, T_specimen)\n",
    "T_data, time_heat = explicit_scheme(T_initial, 0.01)"
   ]
  },
  {
   "cell_type": "code",
   "execution_count": 328,
   "metadata": {},
   "outputs": [
    {
     "data": {
      "text/plain": [
       "4.6148333333315525"
      ]
     },
     "execution_count": 328,
     "metadata": {},
     "output_type": "execute_result"
    }
   ],
   "source": [
    "time_heat/60"
   ]
  },
  {
   "cell_type": "markdown",
   "metadata": {},
   "source": [
    "Нагрів до заданої температури відбувся за *4.5 хв*."
   ]
  },
  {
   "cell_type": "code",
   "execution_count": 315,
   "metadata": {},
   "outputs": [],
   "source": [
    "from matplotlib import animation, rc\n",
    "from IPython.display import HTML\n",
    "rc('animation', html='html5')\n",
    "\n",
    "from IPython.display import HTML\n",
    "#len(T_data)"
   ]
  },
  {
   "cell_type": "markdown",
   "metadata": {},
   "source": [
    "Зоображаємо процес нагрівання в часі:"
   ]
  },
  {
   "cell_type": "code",
   "execution_count": 316,
   "metadata": {
    "scrolled": true
   },
   "outputs": [
    {
     "data": {
      "text/html": [
       "<video width=\"432\" height=\"288\" controls autoplay loop>\n",
       "  <source type=\"video/mp4\" src=\"data:video/mp4;base64,AAAAHGZ0eXBNNFYgAAACAGlzb21pc28yYXZjMQAAAAhmcmVlAABzNW1kYXQAAAKuBgX//6rcRem9\n",
       "5tlIt5Ys2CDZI+7veDI2NCAtIGNvcmUgMTM4IHIyMzU4IDllOTQxZDEgLSBILjI2NC9NUEVHLTQg\n",
       "QVZDIGNvZGVjIC0gQ29weWxlZnQgMjAwMy0yMDEzIC0gaHR0cDovL3d3dy52aWRlb2xhbi5vcmcv\n",
       "eDI2NC5odG1sIC0gb3B0aW9uczogY2FiYWM9MSByZWY9MyBkZWJsb2NrPTE6MDowIGFuYWx5c2U9\n",
       "MHgzOjB4MTEzIG1lPWhleCBzdWJtZT03IHBzeT0xIHBzeV9yZD0xLjAwOjAuMDAgbWl4ZWRfcmVm\n",
       "PTEgbWVfcmFuZ2U9MTYgY2hyb21hX21lPTEgdHJlbGxpcz0xIDh4OGRjdD0xIGNxbT0wIGRlYWR6\n",
       "b25lPTIxLDExIGZhc3RfcHNraXA9MSBjaHJvbWFfcXBfb2Zmc2V0PS0yIHRocmVhZHM9NiBsb29r\n",
       "YWhlYWRfdGhyZWFkcz0xIHNsaWNlZF90aHJlYWRzPTAgbnI9MCBkZWNpbWF0ZT0xIGludGVybGFj\n",
       "ZWQ9MCBibHVyYXlfY29tcGF0PTAgY29uc3RyYWluZWRfaW50cmE9MCBiZnJhbWVzPTMgYl9weXJh\n",
       "bWlkPTIgYl9hZGFwdD0xIGJfYmlhcz0wIGRpcmVjdD0xIHdlaWdodGI9MSBvcGVuX2dvcD0wIHdl\n",
       "aWdodHA9MiBrZXlpbnQ9MjUwIGtleWludF9taW49MjUgc2NlbmVjdXQ9NDAgaW50cmFfcmVmcmVz\n",
       "aD0wIHJjX2xvb2thaGVhZD00MCByYz1jcmYgbWJ0cmVlPTEgY3JmPTIzLjAgcWNvbXA9MC42MCBx\n",
       "cG1pbj0wIHFwbWF4PTY5IHFwc3RlcD00IGlwX3JhdGlvPTEuNDAgYXE9MToxLjAwAIAAABm+ZYiE\n",
       "AC///vau/MsrRwuVLh1Ze7NR8uhJcv2IMH1oAAADAADXFXgY76hDt0h0D4EJHZe17SGSclX4xRTs\n",
       "b9VOi8dhI+SqcePpCmtvkxiBFtIwkCv51+DAHVPp/D6t5GhoKQ9gt+fSaU7xDVtrNhJ05IXY2cnC\n",
       "pmFNsw8+CxnO3Q4F9SbwnnvzPWPx6cbcne2ofAgQbpL8bM/iyJEPs7KrTJVVxL4vkRe0NXeu+Shk\n",
       "CTbdY5o02DP5a2npUiqwm+JbSyhXMW0U1fXvIFFlS76qTdFugACAh8IL104DeEsz6kt5y79gwUu1\n",
       "MBvZa2EL5VelIT4bfzQKCoivqKlMcW9sTP2Fc+cN0ShGllIa6cQ2KAqSLWRPn7Vesru1AH8EGSSQ\n",
       "iJFSPKg3QFr3GlqxB90ndJikMakY/WcNlu7lcBIb9FHJzD3wTMNwP3I8hBqAgUVAEGqW9RbZyQN7\n",
       "W98wiu8W2qYuDwxEzhOjJ71t6SKdUP1CmqrUEeFLPzlBJRwzPjwb19kGO/qJU8aO1m+AwVXhP/Hn\n",
       "2UJJuGf7F1i1x5BFcDbm8TKE1j3ACkbvwvQdmXPbbwJssbYaFXBBFii1BsTyRWm++/81oU+F8MUa\n",
       "9RYeW/WHnRerRh0D+szqAHx2RcsE04CeOI+8DAG37+DBHd46Yznvs1s3RBrfWWXs6DHrTMWE3kSy\n",
       "400IvIZ/Ja8UX79wUdODOXi4LaXWE5/MDa+Sczow95xSu15zsAfkVdMe1PiX8+WhNw3bA0to23HO\n",
       "bYR0t2Kkg/dm+pcgjxAbCjzsbzetSvIHdKlT7nCTS9rOY66Sohau4zDJWkXkMn1sRH/ktlhkxeJl\n",
       "5/MoN8m/TKVYiQ2GG/vCtCNNldZfMriTQ4JDtbpBpK6QsASJ0lD73/0y2MSn4YTUu6PufBpodmm+\n",
       "BCDJUGt/gq2BF5GrOvNj1tMI5Gio5wKMsjVWey4vNBMsZwNkVgQBNhsuANbbyEGfLbQTacgFVgEG\n",
       "dZPPksY0J2rdv4OHBMNtOPByHgahK29osm5RCgOomCIrj4t6t4UwFUa0G3FWj1MFkxl0N/SoeI64\n",
       "H1ASAACU1N8tJaDUUtjlLyLvD3mzhaVWLAYtAMokJnwwAZ6HZuSS8gx8J2rQtgJyJdBwYiiIpR9L\n",
       "momG7LXu0M5g7syMyPg+lOvQ8f+eQnoS0tckioT08nEnvOd/pMBXME+CFqISP5MqKL+lE4bm2fXr\n",
       "3RE4tmM8lZ64MoQ7R9TOdP416Z/f4oxANSq0Lsw+Ip6a/NgfGtVTcg5FQFTI1VeH3jgOsKf5qU0P\n",
       "OU7CzRWVzpo5sS8dTiNLGDUMom2IAYY5T4jb5faAA84FBzbW2XtyzqXQNDzNa9pZ1SWVXa6EbPFs\n",
       "j6RjDp5BJIZZyaKPTW0TWP0Qkv3yHD1jW40UzwOjJsk9kAsl/qI/jt+u4tiG4EXW059H4MPOlg4a\n",
       "yPwyUohpXExyA0vi+5nZgeWKWKSuvB064LSMWB9bUNRDKLAMLA1RF5OX4ROJ9wJEM5tLqaNQFQ7Q\n",
       "TYq1Me2nC0F7+PwLfp0EhsuIhV+5CN41RWx6ZC7/T56fsVtZQ25t/9Wk4LVGi2857mdWD9KltKSp\n",
       "kEGTM2EVtQAjJyoTudhmMlfHoyaV1Sxc6buiLQ/1dVJ5p1i5VeKcBHmLJaYcegWdyjZjbGqp0aD+\n",
       "/XPoX4nnp/rXqhmOEJwZPrDhMp04z3C2i8xruuWcBjw7+JEoRpVkRyaW5KYbM04R94ugTgbHe8P6\n",
       "XFrLlcBTx8pNRZmYvCFJe+oalFuX1s2cxar1VLc5E88gi4U1BiDFckwjf05c9/VyQpcdiqAe0B9C\n",
       "nxcxiA8n3K0QmtSgM4RmZf/k6QpauG/Rc4+SidmzU842Ddkju9Dqj8BN3I5oFwP5TWw/uxuosFOq\n",
       "uc2TuK0wu/1SfohZJX7EgwHQV5e4PehtfIlbgtztL+M1XH9rWCdG9l7EeXSo1D/G6vjpblB3ppM8\n",
       "XLEPA+6LhUdRBJpRXpRYhuSlSGa1IXmKRAkinXMb739B0aCqcaXYuyhbziR40hiHRtgIvMpll8vx\n",
       "3UyK4mBCs4KNyc1uLWqk8NDWK4fln/qLkwJM4xXxp2rTs5pgDnvnzAG6Fr9ch2QMWQDvyXz69HD4\n",
       "1Mj22vyBnzJuya984lMILWydopUFu/A3QMB4yz05W7EybkFgnsk5ehQn7vyDpq5xi+KqbjLcQkqX\n",
       "N4u7afS3FtuQIzxTxbetUzxO/y7Bh3s9EdT6AZr+ITP+pnKs0GRClsWABt2okKJF5X11GTVAQTmH\n",
       "vhzDtRZF8A1uMaf4coHp4VioBUPFZNbcIsyk17/MdTK132p4xy16qyaFttKk/KRL2MynD5V9DIkY\n",
       "d31mYMh7yZHL5SEpt/zZwsZgzTUeZ4jGXhj2vbcJdfLxdqI6Ge+GBi0ZaSIYDkxJE1H+HoAwsNux\n",
       "Bh09QUnsO+9LKfGtj/2a2Xz8JtmMIi9hnA41Vy6FqEYKXPWHF0evHXZ8Bm4/lYWSe2Siti462oAa\n",
       "rIIkTYjBTef8ii0M8Kmsksxcfcr4GhrhlI+9f925apYdMT2pfPI2Uk8YkAfv8CTSaexPZTbMriqc\n",
       "KTUydJHkWAHlLfwUQwiQ2wuJWH2a0zHMO4kFdbURNlu8ifamiWezpqeOlqej4WdGblJT8n9AgYAn\n",
       "XibxEuXVvNzim1jJ2p5JMGkDoP4aKffCf/mYLKgfDndhrZCpc6zffdnBCF4LEhOrL+sdBNJ66jlF\n",
       "cQntXzgWrQ4UT5eLOXlIm/T1K9b9uTJTIWapTXAjsYwKWJFANpICREa/kTfBRTQh5KFHlf16E2He\n",
       "6RTHCf3RX6FeLw8H9gFH8UyUkxktb7s9KRL0BWdVFqiC6ZhzLLOHfsP3m62hj+vrQjYiMjrRUzMp\n",
       "jHrm6P5748qJ+SBqKuEKS+Zbcai7tY68/LaDel7wR4OLgHRR1538rd0OLXZ5T3Nk6lRsd2Z6qZt6\n",
       "sLeBSgeelZKxBPmxe/1hJbsaEQcO5qt0u2bjoZ/zcepuVH1NjaRb2Qtk+Uk6ywEjo/Bot24cRafj\n",
       "+fGPF5DWzMRZnvKFyUURxs2cgggG7bKf3xuK4a83ur/7bI6ZW2jOdDWBflBBF8vAeBWB5Efsucp1\n",
       "4ummjj2WcjSDpyAE08Sacyjac0te+vY2hXW9Lopy28RedxWt+Fa9a+Xkpnjab0XqDsyU3tSEQTyD\n",
       "36sEoZASpLATugdxM09+5R45ybSut77cwRz48yaWDTAEFthOW1WfYpYnvg0F/RhAK1dntIi17aNK\n",
       "uqTP1YntDUn03lluQQWkhv7Gysr4e3QaBAThfDg7wU7oyNz+Jy2lNxlrn7BZ6I34WWs3UWZebBV5\n",
       "g4whVyPOQRrcqU8EXEi2A8JV0VvT8zWqzxO4RvcuDBjXLuaTldmsFIGiYttD2VPXG4RyC6ZcKFJ1\n",
       "qvAmOoczunlLL4jHzdyNpZK55v+VFbEV43PBGy7wgQ/9ELw8noUR0LOxyE18m4UxxaNww3TTo7rO\n",
       "iy4V7d1S+yJcGLpZ7OZ4XxA0lFoDWxdg8xb9xENWyOZjqanqqoqf37nUU3BBHgLiXGXm5lbopcBJ\n",
       "E2yPSbF2SthUxZajinqwBbKDIOU0b2AxJ3QzaOiqut+luM8Gh3z4EfKYsYwvpKy62z75oH288XBF\n",
       "3lWnnK6fPTo9whc0zNXJn4SgV8oNehdQ7TKNKs93t3QUDlfu6YKc1z+TTYcgBp5SL1dyqADWDB8N\n",
       "4Aga41XSwyaOiCtUKi6W3m4jX39RxMjNUed9rWzeHUbz7E0tPJ7IC9O9OQAdf00GWvNX6TFhySUJ\n",
       "+P4l1xbaXKaS3H0phcMEpnHDG+wMnSX7YGdcjN8Z3yaANfK+8vGlFTZHjtPhhJvNW1Sy86/hJHPH\n",
       "PRiZ3DmiqWUZQjQ3z0Ne8MMPCNvbAzFdkN9SYtKEcrn+t3Uxt1D+kfkSM8n5ttMzNVj0Qp0E+644\n",
       "uT5ZFFoxN72vnfPf3rTu0qTXk38c3HbxXmMOM7V60dhyNvKz0vlDG6k8//TyvdHbqCtKxdebWCqD\n",
       "o8QQKQus+QECu9nSkKVr96ZbOh5Cbzh9lhmIHd1Le4e957f8x4z1MQi4KnIiRX/hhG0G1qnfPtzb\n",
       "X8S8dbEVl2k2UNBlySalu9PtcEwjoufj3grdparKq/PseJSyW0Rsr+IEwF4PnckIjleMOmQPn83M\n",
       "pJeL4oPi3Pyfj/D51LPHHvnqDYy2pfDzTb4OKfBV86BRyabjfyDjnB7HBkUYkZNks8RATrFVCmqj\n",
       "mJm5k1K+rUQ+DB+5nWcVt2OvV+Rx5Rbc0iMNc9Bl1I4lHYY4aYOT53gRUqQ+qp+75CiEX6vhNLtG\n",
       "dYJSpPsFGmSVFmqzqBFFz+C41WFtjShenwcD+2SViPjGH+xWRai4sXWUfUszSLRRGgAKAP7DPpRO\n",
       "c6WgIWTjzrrX2vqMZKBGPDt7qIDxGEbwmxqsli0r6N15HAIBezPQ6FsEQz20tTdKkFvAMqUrLGpr\n",
       "3bRLzks/aIMAGlqOzpLPkiuoX98/pUOdYsqz5W9b2mKgultffMw2aKb+uBVT+5JAbJ+wiRb9jmhW\n",
       "b1IJ9D/8xmHJWUA+mDy//Xfqf1vFD8KUxdb/e7d3VZvuvl5KKZSyCBbV8T2TWXUODsKBeHwW4cdV\n",
       "I1nSHpqdvoKR32n7a5qmgE9sxz4BM+XiV1uGJnkWrwfzIqYJpBjLHh4hnqAU/autjbBpQJqzi4Oh\n",
       "X8yYnY2B9l6cbHIB4D+UOl0Dawwz02IL0DWS8KWt9xqBXVyOjHX/WW5+9vDXKrRKuwUc9ZcY88No\n",
       "z4RU2NktVKiV6CG97uLvbkzrnGe3HhkeMLGU/0OCOhNw1TKRHNsv96CX21gP2Mas6rN21Zb8poSE\n",
       "ZlUHbfrjoJz9nYxjBpr70RcIU7DnrK4tEYbYkxRZfVDBOWtF5TZlAGbW4Wt+VmKgfTZT4S0Ll+uO\n",
       "zElZVZgtIfIP6GfUChv1gkCGGCzYvHJc0pSmh0V/+6dXLpbNL2mmmAZUmwk7V3eTktOPXRRSJh2L\n",
       "Ot7tnWQKAlkv/ifeW8lMzz7ej3u5SzXVxI46qaj4BanPdU7cZvUZJUQoG7/sfriJgmmeAkY7c+WO\n",
       "pAMVu2IqnyKQtjMEzXTxwv+LRwwEq3b3GgMhSMyBu7x2mwdpJQMCCT/DF5sTPUU7syZnOu2589vV\n",
       "6HIJrXB8reMH+kQdnPb2BQprVL2T3z/+GN0geyIM9x54iiyouq5Z+DtNU6iIvc4rS9GHFdDVMRAU\n",
       "DduoW9m+ZYj4rKMcfu69n51XU6C/lIP1b4RNe7eC/0s0ZdyfuAANGxpyUcOFRAB+vbFtsINTzocq\n",
       "oIFxAvT8MfDtISnBGvqSmIwoESCfmARRMMNDLOrgN1eD+zyyp01pFvvlz7x4LGKk8BNhSUKHN8+Y\n",
       "Y52u9iscK1NoSFELXVPkRKGtR/TLMZBLdSEC+kMSObJ8/AyQX3+OQxvny8hECPZkBBswePlmrSbA\n",
       "2nkhFChuxaTrEMHBfjvLjXlM6LBOgEficA11WiQOtv48F8SsQ3ACTVa5UC2Qewk/xfGKHdi++IkL\n",
       "PIZL6gLnEPRyrHFH7/PAKMgdhRDBzURmTxF/m6fvc4X+nWTHde4ra5G91LH91YpZifdXUu02KlgJ\n",
       "2v8WfvI2GnV0zBEnbQwViRscD+N7nS3+nVNkFoP5pUo9HNWsD1NRQ6nU94DvtMlUdjpPgfbE7ryv\n",
       "+z8ByzRwuG/5L8Clow90m5l/3EiNbwojHMbW4SHCTiXiRCL3nZ1aNuOOdvsFd+ALJzic+3VTcFA9\n",
       "y5+ItGXyE71zKr6vf8/YKGvyJtq5VOR0G8sLmc4xOyhoA7I+YdpEGh9vK8mMhB+r5J4+vdWXDbFp\n",
       "P/IQ91jCMM89mrrWcvurdO1pGQsxfNRGbCvVaLTXRFhthTDzzcrt9ewpNsGXgl1+boX7UDXuXRty\n",
       "QCq7y78/2sOMVeCARG+a4fQxUgFuKelIfRdYd4I0DOw6pFoD5vnAg7pgeLZRdcTs1gppznbjGqr9\n",
       "dn55UDRPcZKrb9yEXRtfTslCj8TMYb/kLkz4eiHbVURBOxdhS+zStva53K1fY+3SAmJefiF3nZQC\n",
       "wJPIlUDJ/hbTnf4Rjop4ksiR5/TD/FC/+9qYNM+dBFbxzAipTM8HsHPW9sDHeK65M1sU7zNZMHCl\n",
       "ufuS/fh8UAcXzdL/L5uHVuDKbzSFWI11pThSGKy+czUjUa0JPH8hRceBSImbXC9URW0oaiZWtvT5\n",
       "zkP9ddNO9v8ks+Uenr0xM3Tn/NUs41S737dY79tAhiXdvFJ8i4eKCzblLY6ZZQv3CW0LzZdZ5t5Z\n",
       "wkmJIHDeoxWU9lFxTutNhgDnRpMir9/b4nZw12sy8JePpf+x+5FSqS8y393Jk/E2Wt7JuG+0gcBm\n",
       "HP/mK2nTKTdlRviakF2RBtITFd4ZI7UxXuMhb82lKcmxItVWb8uR7Ksqu/BF++y8Vy2CsBhXwAIK\n",
       "dHFQHZA6lIdkaNOyi/6ZZCdakUKO7umkfYS7aJIhD/3neBEOoPD9UzTUNult2j715TSXPeEzpqnF\n",
       "eOdrySitS/Qk4GGxUwy82QLzCZrJ4/0PQkADPkEo3X+Vg0cvutFXh0wNvsLCAED4ljEbIl1E7/Av\n",
       "TINLA0+TTUxAQmjqSqfmA7BeQ4bwra9QSS7MrsWXOTfflwHXKRGyTSH+tcQ0anoUXO4+R8pz3dkA\n",
       "Sf+PdDO0wDYuwnnOPJyljvHGzh/+uc/M8k61nZiMaoRcXnqNsVW3bTX4gRVzz7RhcElnUyrgLlBR\n",
       "d6PDvrRc+TA8g44azuPR7AnlkvcST1S+vwZ/4wHHmpz2vat7nlZVtyZZny8aiUxAf5UrMChm160O\n",
       "dXRjqThR2z0Mj1X+BGufc6knQ7Zem1v6Ia2Aso2pK4q3VoikMG/wdxLPn3xkjQwSIYklACWYn2ov\n",
       "Ldb5kD0Ak1BKUKh/+FfFKNX2f3wJzb6E223JixpLLAYi6xGaNB9FANC7CDhxOLL2TrCWbTgDw5KF\n",
       "i5wPuoUgChbHYs0f4xVVqZso0+10lvlCnvg/Oq6TFki8b2fSDNQGwIANNXnLIPBYo6cGCd6KnhxL\n",
       "7J2TW0XJ6Cs6dJQAIr+YI1HNKFiDEuEPablyOlPdtfG8w+iZRfqfQA/a4nbDbAihoiyGhRV2O6OK\n",
       "3r5WEzYat0Fnpe3ifHSKzYS1Xh+GhpspTQbQgO0xBsHLsFwsG6ZSB/6pbPsJ6WzQLgfgKfgvJo+3\n",
       "Rai15m1BQOX37Vt3L6/Nn5psGEK8KvLY6Vw7KK/653R9uJT26FGNiWS16o6h8v5b0SiEjNq/bx4N\n",
       "TkmrhPo0PZH3zJZTKtRFLGff54ee6UfiG6nu9fha1R8qZX0T8/ybNeRLioXZTedTAXw4F8V8q91T\n",
       "lSq7qFgJEbV3HHiitfOB5YG9/dgLNoarz7dbZ/nFOGfBxfXlJb/8O6a9Q/sphnVeBx5Ek+FspMgE\n",
       "SYKuq1Eq7a5CGwaGLKV5+xjbuH6+BAzYSr/yGtNaC8+OB5Aq7ybZo65jvRv50DA4A6t5SvQYW42x\n",
       "BCzpdCBOWQb8fMu2CyFa1WK2rSZ1kYFLZm75Gn/GqLX6/wwCsHD7/P4Xq6VoiP9L7yyCDoEufmIC\n",
       "d5TOKlQS40cqgaBjGZa+co02aa/LFUnHM75qT80DPzFj5WNzJ3S91Gtax8W0qYSV2wnp7y2LOM24\n",
       "usSJ29kHzJ0TKPLWwzqK+oTIoI3sTwd/8lOe19+FpHXUcoTd+WvVLMPD6jqAnMjgd4nKjvFuJ8q0\n",
       "BP3+uTHtuS56uQoa6yl1BHHwEwu4CBNXqanWyqnlDoowSwIh0jvJw5iXpnOzjC3zHnxb/fQXpB9k\n",
       "+87roNx45FPte35Xazn18tAWyFMjSWPrGwOq0bKw3GEw35RNHVC5kmcTniNjOoGIDDeW3lOe17Vp\n",
       "9HivxkUaC+CoUQ1FMJLrFTQnzq1T+qFO7lTlm52lf3MsvFzR8pdMheFcbh6TKt/rj0MUdrXCzxqV\n",
       "0Xj9cuWdXzJe/c0ENTSNu85+mr4QqmbncnkNYSgDzfjKgzbBgvprwHCkpbCw2FyUI2WJ+ksFasUW\n",
       "i+3++AIvxvz7Q+bXo+7j4FhJzMHqrq9c6ohSmuv4J5pHPBHflVnyOe6bUNvOZd8TyXfuOjFrcxuW\n",
       "Tb6/yT3HFsx2VXm7TG/84MetcBglOXz440S13ZqI9hVDTwuCSmSp6pgnEJzSr4w1p5Rdgemt4n1s\n",
       "4JgguLRFSU8jMezm+/0fa+MPWDdV61+5levmy665ONyXmw09uMMhLnyqwuuz7OTasfLE9VXqer4N\n",
       "d4zUinlO6QhtrYeMXNMa13838QwPTKgj13AlW8fWybGsisnHN4vg/6wkwj99r3ymssCGBsk5wHSZ\n",
       "PxldSZBTUFrc9Q01amYaTuh7rUuD4tA/QnVfA8NGU2FPlvsnuu41+EULvtQwnON5YX0NUCVlAa5H\n",
       "qEbrIisyXUShy4fpOih+SwlcZffCqa3f0wLpuaRsJhjVfqKFefDFa2XL4A2ofEjTUT1WY7B5417w\n",
       "vEUp1jcG5QyCUef6iB1cN5TWw5y9E3Lck6cHQ7eiZNdW0eft1m7AfqUfV1PBwTXIwfGmICl1Cnha\n",
       "OcVk39L3O+JLxEG/jkHKWUxu593O++V/58OltijrzDWtF6YFYsUn3O1eaBDrq7ywVrGNhAHRu20G\n",
       "UE4UeAlzeamhvTGcB85736/AfY28NrSUKHRg9I6SKlMHb0fiaF8gPtU4S90l70FyZVIe+BqOoECX\n",
       "69btBeiuO0PAP9ME4KPKnReVID0SL0npSrSoiNLQtIEAAAOJQZohbEL//oywW3E5Oc+AHsgvQUAX\n",
       "QeqRPilKVJCyUAlan+TXZyYtvDREOf5oZgyfjl5reX2fEqJ23t9D8c1d28irNf327mFGQzT2TCOC\n",
       "A1mgBpyBjaoZ7hFTP7kykYt7zmoQbyYtW3bAd3lcpQJZdil7EXJnRmKKKqQwMVNEPIgDpHO7bUWf\n",
       "swvty/S5TOFEnyz9yvhkDUImhylcHzXhEC3wESdyUIOdV5XQIw/9p/sP2MrZPE99WCKWYoWqf0zI\n",
       "EQa1xBmIXPep+ObUINzOOyQhD0KGUKiAM6aOnfp8Isa0S4zXWZ0tRDX8lyPaPAG+GGyyWmGDY6bF\n",
       "5yEmhL4dBGhdeEetFcgV+//29g3JM7OkQZW4AeABcq1sJJpNCD5GsqOU+xfxrbtCRQMs2sik/Uk4\n",
       "W7YKUcpsjzkKoV2SIUDIMn/VwnPOO+1gGpfa+HafK/lmUtadu+f6IfOjpRHEHMAz+4efYGWMn4c1\n",
       "pp/C1H18hX9C7WDOx0gh7MmrIrV0Ftw2Nmfr1QnI81gC+dQYAmclfZ2EkOg3+Pt4EJjEKa1tfaFG\n",
       "KXEQQrrwkWDdLl+OqeN7WZY3VJcTV+iPLP/hhbJ8dZEhJo+nPGEmAWgAJ9FWFSqPV91RYfF6ns9H\n",
       "lAu/WO6FadQNPYQ4JeH9Cs/yTjWJA7wCweRTDOdQhOqyKl6zF85r/wERBgmYE3R7YyoRV+ztNP6P\n",
       "H7FRdllxPiON/uxV32V/nnuKAZpKfhdK2JvtKUPKtq1VaDqnWfBEPmuS0Yv/bQDnth6I0tiATvIV\n",
       "VneuI8RH/UKLHvi8XvjA1TW95/bCTWFf7Gkr4tTHd6OmFa3khWwL7Ij6H0urS+toam8+XNZByPxp\n",
       "18ogQsstyRRibw4Vfz71KvTHgG0vX7P81ijZCfTM+c4T1nNurlqf/8OTwjmhMYVtwwkhgnDthMuZ\n",
       "AIUX20OkpZQ2XwyaR4fc41VCJfjrmWGMlEBiJHF0FZA3uvdfEfDC7HyXEF6OPcLfhQPcqeJbJ4QI\n",
       "OlgmaJD3jkSOkP+x6csY6rRQyaBIggObbwX9yePhPghKTKTkjnatcncuXg+KD/br0fzXG9ILDBzW\n",
       "M20hrgsR85fkFcWqxdAFRnwWlKgXyqb3M4zx9YYrEYPw9y/Enjl9CaHcFWL2eTs6NXwGlq4DzF0i\n",
       "2JFZuC9l4VSQ/ovc0tez9xF0fcU/aZ072UUdbBgAAALQQZpCPCGTKYQv//6MsDD4l+XIAL/BZgqM\n",
       "XPqC4yvT79/tsmKRxj1Brp4bjqR6Wx+g1P6rlGBQog/J5mrUEN9Np/uzvP+nP4irV//b7G4Dqaft\n",
       "8+4GUAcruNiszjxJpvp4TXEcyTpEOhyzWfT0o8Op5XqmCG45mBvewD8F8PN/4twblxLOrgtBr8xD\n",
       "dRC7tlarnG/JjZbcDcCoW95rbh8j//rV7CPGGB1hhuP04if7XZxsog95mCslaiDAMCAn1xechUKX\n",
       "5SZWOdkrTN+SpW2zWOFn2Qm7ZRhD+tS+Q4q+TNBnSS9wX8Q5nCabVRSX08eI30wJWCeNhAmQjNJS\n",
       "jYMPQPTA3uZr173CV5EZ0T7y4Z7j7zpndMxW4+TS02F/xnZk0keaOGodrVmxq6GhALe0V7+F6iej\n",
       "blyIyg4F4sGHdW/KTSk0DW1qmA/MNYbjGNYe9WHTS8DHJ5eb+GXmORTxZ8eJCHAcIEIUl48ez9w7\n",
       "H5Uo1VJ01nEdfMi7AsNScqDNsHnHfPOeWtCwPU5i3udhZW5vPF9bfxP+B6tAW/zs9Zq6U9+2m+H8\n",
       "4F4Pl9Ai6RiUV9mYWsG/YEw+v9f5j49nWyI/RN8cuKnqAteFrczehLTa57dsaoNh7jV00n2NjeO9\n",
       "Ld/tcAJGzPeSM3pZT0EC6IPMHoY0tVV3uFbTjsBAF/kEA2M+Irx/S/baLzB8OvK+eNtH7gbjlHxb\n",
       "ZgkjSFfyTGP9/NI62D3hnznjPyjjZeZnhdV7ZzCfb03Ku09SOO7SZ2CUSqRQ+p7pJvDxZjAFGy4R\n",
       "4MhQpUONAq/+F3WYV9OYPfptRuT/BGwmK17WH8CgiX+/gsPBR+Odl1VFKXgU4adoovA6qBk7+Yvw\n",
       "VmZu0C56nitwQCqpEpw1A1UyYTYAufMsjZdYRiJuAZx0IzgZAKFugP/gRbsdqe7WVsdB+FikpfRq\n",
       "IHkIfoBpg8TyZ5FrAAACB0GaY0nhDyZTAhn//p4QG5EuQBW8/h51BnNuyWRY6rKKV0QyNBjHvJwX\n",
       "sb7Xo6+kXWapMJbJRyng3rlgo9XCHetTfm8refkmhFemPAYxs6yNtKpepNYL0zdxQO9qwvCo8UoE\n",
       "F7IDa5prGFFElIXX7cVQvH+54DBCVmcY6HoALrInNJUcqJHzwecZ8kea5BGAcmG9KsNLclYhC6vN\n",
       "KayQVNMJD+KGUoOUGy1Tgux07Vje1KvxtW+DIAwPXTwxzKMX29Qv2vmqc23kxyAw0nv6QtpY6MdI\n",
       "5Yeh5lAqwggOX7kxVMUHpgniWX3XYNYKZKFCeZFyK4Fjv2/kjbm1piPFzkdC97GdvLZ5iFrCdYwT\n",
       "+GctUiBLiW73xIKHfv/wHWarcAcIEagEJxDDYgmxynotFb66ewL6rnivf0anKyy4WHHa9Vz0ph3f\n",
       "Tdbd9d0uK40H1iVflx2T8eHDq7wEHoNx4+rK0gld7lJmuVXLEBLauNxVACXa8Ee/NQsSNKjphUs6\n",
       "qQyCW6Sdiotqxd7jotwVmRUCgIm0Kyz1MwbqNFlBlsz4XqPoEU9QJj9KvQfAWJh4ImelU/w1mcCp\n",
       "2tGZQlLBLLj+5ivu1eugTDBu2ZjxKj22Yq6lG6BwDg2Kg1+ylm6wXlbNtWp5IPhLyw250YSb5AeQ\n",
       "Y7F7XhH7XYgj18ppQteNC6Fg+jP9UgAAAhlBmodJ4Q8mUwIZ//6eEBuke5AFbz+HnUGikTNoDBIe\n",
       "kdDKBCtFG/ucwi0vc5XrrZlauceiOfgn9GPO9ol68Bxtv2tj6/V+FZQMPYBCR6tvFkSlI043rdOq\n",
       "FYqqYtnY+a8dy97wFSKNiRfK503mjx39k9Sjr5ZzCieNEd9mCZwksKdf9sZoKvQiclFYD+iK71T1\n",
       "kDc2y+iMzlkykdGUbrOWbx5ANnw29Gx21NTmwzGh+SL9crJT3PGf8Ul89tHyymYw1GhsoBkGwGXf\n",
       "fBsLyK3S4B9qwkAHlEVK/FRauhL27yBQYfQzpPWNvtUSxvQDafsHXA3eAQFtcRU/IeFldOPoCiZa\n",
       "Wneu41GH2a3UT8F1QiGZ6jRwNv8M1rPXOMsltwbJ6oVW+2zWHwlpe8mx42z8+kw8fT8SqsFHUEt7\n",
       "gYGisNdyH6z6McWff+vxppiFdbjfflIEGKFNfB0/OFaJUC2VAbdCx34D40uVzISKr+MRdJJmH7M6\n",
       "Ib6j81N3BEniqav9GjAZhbf8MAM5RAYHljGXKo1p0++Hy/3mXz74lGXzJ94ee9bXPx6nkTi/3paO\n",
       "fzZU+iGyZ/unLy5gqKeveWCJZNdNrZe4FydIds5D6/8SxFuXgf/vTGj4A54JWbBHaVE5ebJ9F00U\n",
       "FN1WEHsctlw3nTYa+DJZU5UVFyMzw7IM2JZ3gV7oVnY6lKhpMmaY34/mkmJCauE+/AUAAAG/QZ6l\n",
       "RRE8J/8DiDB4v5dYr8CEADeF5yLqSbVt40rWqGXnwGmAAAAMtvgMNFSXEJPvA9hZruWhFTtiACKf\n",
       "DLhSg7wcV9880iDWGETSllgTjEawjvN6PgDcF4JkmLgCqX2nKsMX06gsDR4uilH2BfcpJ5hT+a2b\n",
       "hNcpgkiPa6BA/423eeJ4gYibV7AJmLzGmPuv/pJQuohLgQpRxSQDZCHZG4vowVNZ0ZgHqzsSUKsQ\n",
       "+xcyMLITX+fySqNgQD/QZiE4UVfZACpM6R6oczWoJLtLL5cGqxhdLplYKMRkPg2P39AK7NtTV48s\n",
       "0KPFA/dmw+zLwd7rJX/Wju1jhz15IzhK8A258XrKKaPUv3Q/ehKVtj5uTjQq7Vj9vA7EITf8Iho1\n",
       "0bWE5yFwIMTV/om1qWwpnym1UgQYhVE1XeZlBe00gP/JYhWDkwspj61hWjDBaievNPYjcYYZ+Xhi\n",
       "qUzGUGJAIl04ATmbmtrf4Sh8FUBJhmvlAUN5rtTPol39bYeb5gFRyAFaeyUaGa/IdKCAqi83Hpif\n",
       "yLGoAHHcxH3CaFLj4Zdzgh++xKR2bu3LikRD+qzIqQGHUz2k3xMoc1CwveuBAAABCQGexHRCPwG6\n",
       "m6N97/Ndv7hZnLmcy2AiOABxC7D/wUAEsMX/qZc/Qurvv4nL6Gd7r0uFh3Mk0ilVYCO5BhsQdN55\n",
       "dGd85GIqJw3HrAEceT+E1sCTuRWzay83UiE8qe+CqEo/GgCAadgHCWnMlnP2gjpKfG0/nx+xTTo7\n",
       "lLQTeZNbG3RKOFb1/ffrttRNBXS2uez/mAgPCozgzgejxBCKDr4E0NvEnVNEzxKqD4FOJzhsC/G0\n",
       "PWs2eCar2ZliBsrpaTn1qYns1EsIlWH6VABsAtbo/108xw7BGaB6qX7UhqQ/3Xlad48qU/hhdBUm\n",
       "TZxEvvhiRCqnRozwmaBAoFZQ55xqhCtclXp/YpkAAAFEAZ7GakI/AbqJGU4FSbvDfrOENBamY0QN\n",
       "wAUe63cD2htADcpnk1XZSWAI/UbiIMGXa5cr+fzR+lu+nKESrYN2zaY9A05A49mREDVZvk9hsjQf\n",
       "5XRWzRK62C9UkWoeQZ4FOW0S5AcelzIgeMRAn4x/UCIL+h5oLPJv9XV5LRFkqb57UvlfKWj7/MRe\n",
       "ynvn75KRlYdg4e/SXX41SP47FM6XInD3gcXfBgDXPQoVq3tCHmHvnQCb64xus0Pz5wM7rNwa5/Do\n",
       "2wBgA36tckIbDCYbG84E2LJftJ4bLFs8E8dpDUPYWAsxrm8dZK+ylid1OdV2pi6Q/AGJgBn0Bz2D\n",
       "rvSxm6bVuRBeSBNNTOndAND3sQcRFvtk+/Ut33LDtGcMB6sao8ivDlH4xZ/k2TuFgCuiV9MLLRm8\n",
       "L3ZUenwIkFwwCGLfbzgBAAABzEGay0moQWiZTAhX//44QGJXeAEI4/6aBaxc+phD1M4xS6Tv+CjX\n",
       "YDZ7SISuYpK0QBwxIJufmJ3U3XEc+5IVvX4huswWyQbEgeTkAiI0TexMishgUYfNGVGGQ4NT5MNR\n",
       "9LZi40bV/zv/dKKE6ucRi/fJDTdkCMn9dibufPgqChs4zgIyEKogZ5M4KG3DkJPWwc2IoHObYOXo\n",
       "k9HzfeOkPRcOn9s9iZtYoMblYvo+ytYCsdgEXOVN3DsAS5Lz2OOoIJYLE/8ckTuTGY24wc3s1g0J\n",
       "vvPDkICLwnkTxLZzckIPqpJwrRkiS1ZxFvFaH5XgvfhuanJiobjUWZAKTOX61Vv1tAslUd2m3noa\n",
       "4BenaCLft9c25nG6Uu9/pWFy9OXTd+AuoBAN3eFt1P53ofAXFFYvycA09HMS76of01SGzuUWuSwj\n",
       "LoUCR5aexBtzao577Y2S+UHWPQv5bKJsn0/IJZYo1so/clHT0NTsmGglXQ0FeKQ3VDRdG6cc98lH\n",
       "IwWGsP0W5nckqi5zxr3EthQmHAVljgABTJapkmZH21UVwKwCxlIEuVGTKSrdn6FkymwEPi6jOFUc\n",
       "TAaR61DHOzENPM3lmxAygiatTXAksHwAAAFsQZ7pRREsJ/8DiPZrUZumKC/fsH7JaFK7AtDYeXG8\n",
       "RoC1jb8CIALWkekcQ8K5u2p3jCAACyj/+MS8TAHMjuXGnbdQB//9llf6MRw3FbH/YZy5uifGMCx3\n",
       "Ar5K91UY1E/h53X1CxEYPopfhg3bL0VQ+pReJ92FWYCuoIzSCc3lYSlGGk8Cc8YEQXnT+OMHEclz\n",
       "i6TtxcDZ22+MYfGVPJi2EaB3rIlyagXN5+S9PU+KAH4vC4hj3vuJ+ET1kcdIvdDFJjFL2MiiAFCV\n",
       "+/enChWGyyOMPQBSzGpe/l2RTZ4TlYM/qL7//ZSIfnTR+6olhX3OzJR+NACDW7j2bJqxgSjwDGpu\n",
       "fIPpu51N3PgIVBNibyrcOTK+2ZBsYv3BgrveWHCHubyxA1GwB4CDmo3akE+e7HyFeTIoghMLxbZQ\n",
       "7JXw7bUIF7aD+ZvvMz3B8GvfILyhjHa0GKMPaU2kYcm/vMc9U7PKy4P5N/4RM39L9wAAAOQBnwh0\n",
       "Qj8Bufgfc5a5Tde0iMmT8Im4l0LsK8PKmg5vsGJO0cN3QqOeuvRHZWPcOoAJFrONf+EVIgdevStY\n",
       "OXq6vG//9Tj/Xmxvo39zqHs1QeKNB5MfW6QUxkPTBRwN1Jj38pNyJeWHBrfb7r8OaeeQJuoRrHY8\n",
       "3RdIrGhmhm+AIK13Nj9BNTjpLrW30QLglkpThP8qJgDwFlNMWUkL7MVrecpPyLYkXMa0I++95CTf\n",
       "Tg+5RT+LNjbHwZdvCVgwvTNDUX/gLCOAg63C4KpKuk1S7nKxl0cAQ5bd/idxeCKPd2O7W18AAADd\n",
       "AZ8KakI/AbqZxSiUtQdpBjO7M2okyVtieZdTo3DCtAA42V7MTk9DjUNBcm03H9PF4W0YufvmnCNr\n",
       "EiINBLyU3SyHn+NUGrLSIL5MBnbTWYDMMMQWOUb9SnTA3CiyLziCAtK8NGgTNueT9dI3MeVpDUYF\n",
       "JzBdIfgl79nQjMlulDeklBRnivHMJam6RF9ZmHDw+5rPAHf++rbvJGSwsDHpV37+oP2ASUo4NBAc\n",
       "B1ABMoYM3O58/xq+7mK2+WwOWfcfKJfjsp1cLr3df81UtFy2+k/EN9liRHhMF/BTkkYAAAF/QZsM\n",
       "SahBbJlMCF///oywOPcz1OsgDqezVKc3y/HwlV0uHgicsanrFMrGDc/swTCAzCNDVLaPIVoY0mjC\n",
       "KyVh5UH+Xz/ELwJ845PilIKcZdfeAkyxN7Ia080mmhAADH1sBB+V1k0Lyp6ZAMiiLYwWkLwXwEAc\n",
       "VV05AftSi19XdBorJ26olRcHkAzQAE+YK2Zx0u5sCV/0wax0zIGuMY5LJIpBUIdysTccYgaJrES1\n",
       "oHXITv4OfJJXNszTkwewLVcM/ieJwydjmDijb9Kpn9tqGCF/tUcMqIGEj3SoIsUqYFglMPdo3NaQ\n",
       "/+Wfgq4BiZubLNtxxiiMfEnAR3O/eJo4vjtm5zYVR0+JQk+pDS6hHw/NXGor2Z3JzHLbNc3saoSD\n",
       "T3bGJ/atUzDXXMz4HZQF7S+B5YpyYinjhScDgDfNGBEe5pboeqDyIjhlS29KsAGF9833PJNn67EE\n",
       "2ljBKoir8ic+Emwy8zbCLq+0aiYCua26mwXp6FCs0MZj2YCYkcAAAAFcQZstSeEKUmUwIX/+jLAE\n",
       "4Chm+XG/v4UDnboniVDuUAJANgwYRB9mqTEyz4JL0X242CBENcUHDqmZcR3VTO1IUHJYOsZtbJNY\n",
       "eUcpRafbEmlwVY+9upY3c+R0CB9MqUnsaFs0IisSEBsTxbq0fmWEkwzCsOJV8tGnvmuhBM4jQ5BA\n",
       "JslnOEXgruFpBXgvVlpJyVycxqCSriZSNuRImBsJ7ue1H0Coe9uZyA5nvMw7ci1cGE9U3VLFSf4a\n",
       "Gzm1jl43vEUeVsVt4Z8L6lcom4llgOPAGeB5cGhqIX//FkqlVYKelb33RwajUABsIw6ssnwi4fog\n",
       "7pi1QLkyDnxB7Kav2aGpVn4mwXA6OBC3BcRVceWpRzqFRdc93yVRdM9PM9MI+5UhumMW68/SXvk0\n",
       "v8tEZ5Me1MIYRUSdueFHoqifgdiIhUnuaqWJkwVq/Y41+dbOd/wIiNnwhhS4hp2XAAABcUGbTknh\n",
       "DomUwIX//oywBlvhrNARilgWxEvXCVCJhvSb2+bqFgQGJoXogF7effe2d7QBuyedF5eve3E1ipiq\n",
       "ADDBi5vNryIuy+0uYh2EduB7dRcaxChUQO46+glRjj0TEVDodNYx3HOlgHjM2qsQuCwtBo7tRToO\n",
       "7spm5BC7TYgLR0dj9jk1BvNabvqSBfoF7fd4svCjek2ljjNPuHUB8v7QE21wpb16d9SnwREJiS1z\n",
       "/b/mMTbkKADyJeIOasj9A1dIIFrvPmJjpTk6Cm3wzhJsLtsbFJXKkJaSBfLD7IukHAvfnItZf2wJ\n",
       "M0fdhqjYE0B0eyF5XxQl9kJ563lb184mHEIrzFqto55cDBeuRreMqnYnXfi9bwkRt4vJkJhx0QCy\n",
       "3SecEwRl/s+Rz+Mf794hFbVrTfTKAkExsEx7VgWyNqYItSyOt29LmGmSarIT2v59xmdJo3hVs7mm\n",
       "itzQ1WWDCJ3FNEd0uWEhQDr046U1SQAAAT5Bm29J4Q8mUwIZ//6eEAaHWVQRkeORnOLm6+4RlCKI\n",
       "VHnRfFecoy8FbHTKbrDzUlTIwNnwJGo8i4kZ6KDw7ByiXPdCo4CtRkUoPq9VQUvWX4Zupqe4+Mc3\n",
       "7oMsi3Q4ahYFLRw+bf3vDps3Z1ALnv7E9D6qipRjEchZXXV7h9KRkFUrkxObFLRPpA5emnvvPHHf\n",
       "FZNgm/dfibwP1FM4vuaJ9vlgO7s4JpTaLqKdsagGPVbTpJVfVVv19MojUl0P5UhIw3jTnzhHNpa6\n",
       "/aJKxzY/9xwt6XlZJqUlXs6/3iPx38dlBCm3/AmxoA7W1W0S1pLs/IhHpnd0bcQQNJL/VcZD/IEG\n",
       "xP82dfdp7yrbEs23tJbcuv7P4Fs83fKaD6iz1joOgFNhgLQ+j8SjwrF3tvp3kZiMg3R2XMlLlkS2\n",
       "W0EAAAD4QZuTSeEPJlMCF//+jLAFN97wkD3KXAU+Qq8/N4j+1jor9akBAhEPdE/qGa6sT9XQNmbY\n",
       "WPQ7P59qNm+9/3t0ZPR17qVHpfs3KKKLpcAKnf9WcQoe9xUEz+03y2Jec0n0Ars5+qQAR9So20OB\n",
       "DOMIJjGDhhwBCHBKRwT5vjH2y4i69qLZavdtltqCz7TIsYu5yfEpLVFD6SX9cpc+nRktMq06WFvy\n",
       "W4E1X/aZ+/o+qkpOwXqXWjswrP6dE2PLBsa5GqGYRlCLMZ/P9N5bJQjzBAl9Of2Eg18cCOlAccpW\n",
       "31a1UN7dD+2vln34FOdAYc/TwirOYn0/i4AAAAFTQZ+xRRE8J/8BYWaQsBn0jqVJdOFLifKTQ1rI\n",
       "NM5mW1pWKBuWF1fOAFrO5viN6Xf6QlEgCztAzOmQXJfg8X+p0poLQVrPX0lKRT/k7h3IV7SafMGI\n",
       "AonICm/hyFF5vXVcRoBseP8PPMxlOIk0S/hFKTnD2nLKakNY5kdctDJkYibBHBi2XGd3Mut9eaIF\n",
       "Xu2szxrRzQWRKYLHl2lH+RaRzfBlRqyLPwemmlY3efsDGW/bUWrmBZq+mqiqEVmwE+/EGuoIJClg\n",
       "uiW5X8Bcvsj5HQWztlh18NSCTNXUh6LyqiooKfSvuNFl3/0vJ/Jpuxyoq4iQZpFXLHT7suLUfOHP\n",
       "qG1tEhekPoZzoqzyDjcBWhL8BrmhEjSG0TTuy2aNwQ2eXMNOimQ+T85jhYaaR3MeMh89lTwImgcz\n",
       "d5Oy1rxiA7QksQ7NjjRP4q8ObGHOWkb3MeLAAAAAnwGf0HRCPwGl+mMlC/Nc4pCf0FJEaCuRAEq+\n",
       "ADieQKsu0vbYGar9nhELakdac9NifkxoPfdn8JV7G3NCjhbeohFiYqAVtduPxGD6z+RyoHzaymcT\n",
       "YmEaBx/PErAfzqN9U3buXYKQGmZ7+YQSnAHMWScT+hr0PNByNlhwcFkSFdOpyMT7dBSt+MbtR0uO\n",
       "Airtm/80RexQUUZ3aeEB8x9GJQAAALwBn9JqQj8ACG8h4ExnrlMY9E1Hi3Q7ZDBLO9HAC1bumesf\n",
       "nkhNFltosru6aL2q7YXC0Onq9uhyYmxiwgms3yegTxBSRfpy+zkhdbapZnL9ualw/mnTrWy9ZdKZ\n",
       "te6XnaUQWtIAB6H3IbiEEFylNatfS3mPav+4TEVyBe0Es34EXNNrrfW+1v99Udb49nKvJjbgEFEY\n",
       "/Dg0Ea4lB1+O3PekV2+BzDiw+GDhjJISj3xbL98rQHnZbVJekvGqLgAAARpBm9RJqEFomUwIZ//+\n",
       "nhAAIN01BomADa7AuDY/n/9FrX18gCCXwVnJYX/F2EkK2ow5tfeebbW/Lgo36IkHwHvM5/haRWtN\n",
       "aRBGZa7CHMlCucbK4+BKDuRv4wi5g5u/T9a3ZT3AvRkA7daF6qnvV05drsZ3yHnnbHVNxAZ7LJr0\n",
       "h2UymjGmEwNccvNl+sK2w/ft+bqDqGxbeNTqf3IgettDGXPqThNAoQXRbGE+yQSbA2gg3LioFSgY\n",
       "acC+2GyoeHY/bCJAUzAdoSR0PnzIIGS7F6/BWwPYgMXReTNC9yY1QUfjHlNP5OKS7Am6HWQX+ZC6\n",
       "RSmrvNFWmokRxsLSwGlU0KChwe9/YXvqW0mzwttTyyPe2RCXT4snwz4AAADaQZv4SeEKUmUwIX/+\n",
       "jLAANRaxDeHkAI0/dTrl31Zsi8t4B19v1zqfgie3QYR4lqTzPqsBWD3A2MzuYAOEAM/Z4bDlNVb3\n",
       "nAhvV4WDcnh6s+MHyHNWjOVh+5/zAjwwNfmVraNLkGfFqcaCO/cMIqde8SjTwRRoH5b46P2jSvLN\n",
       "I06GAOiTahVkKbOjBaWTj8M1i5hQgiIzXlGNhAQCzNHb0UtfBJW2aTIkjGF/fT53WYWo+DF+qJ7t\n",
       "qnsIEG4lnF4i6iqmclGv3sehiQrYAAAvm/lSt1hCk/CAiYEAAAELQZ4WRTRMJ/8ADivATOXfDClv\n",
       "ShH+ucsLmdgAWs7lKxBakPJNq/lC2y03QvLW5Oq5cBqE3BTEcaP+ioaF7ct0A3RGW1n58+3/RAKR\n",
       "rYWu/F5IfvcGINc76uqIzfoHD2uw6uQCEPE/exIiNCxZ9+9khrcHrjVMtxPTLn+6jQin0SkxAlPY\n",
       "DGJhZf9uqB9BU9zbx3++6MdOJY1lYKqRy67RiIgosbYaaKrNXCx8kiX1wExsxWy5sHmjiGV9KqOg\n",
       "V5nYlvuZnF3Vl9qAxVG7jIwnb0rdkD0gyIE1muGiwYhIfzW25I+UpkfhE3cAU869UALBSOEdmKXT\n",
       "NjcDd1UhSsy6BiNyUmfDEQeph2OAAAAAoQGeNXRCPwANhcXLIlMKercmaAAi5tpEhHbYtYn5yW/2\n",
       "CAlObsyePrm4giAb1ZE3djZmMaB9f77RhonohSqn1ibWeRCB1cfmScMHlKla/rjQ0e6jHalU6GxG\n",
       "Bo3pF4iJ9rDTnIi4KKFd8kMX1mrBOVFGXX2vtUIpSnIbsY5Va9iqLIQpuBqOpgJjeeOV/t/B3JMe\n",
       "4CUT1w5yTPKeEDNryMqBAAAA3wGeN2pCPwAQ3sEUAC6jSOc16EUS6jR50ITNyqjGBFJbdjXVOJTv\n",
       "20NoM1k/kyDock0eWV0YFIcqPqi4vwDx9K4acciu9pEg5RM25UWVgZSWMS4O13h3ApUCNURGHect\n",
       "V769ogAh+roeHAa+VrakozknaEV97KioLQxPkH9NLhhPgtYsFMbI5IXzaYyW2UyPWD/72IUuC/Vl\n",
       "+ulLannBSD8WrSYDQG4H9EtMGFvM3P6XKgAy4byq3JW8sCslYU4duonra/jbCvI9S47WRgdCFc5U\n",
       "0YTLfBad4KoeYRWxlL0AAAC5QZo5SahBaJlMCF///oywBk+FRwDVsYcf3Nu+tY9gadUS+H04qVTq\n",
       "3+CtHeVOP3cJ8AbZeEZQmg8x5s4f664fIANAP8VxAHW9cadHyQZitvA9eAN/g8qqiu5pzJcFvNwb\n",
       "VQTFLC5h9+ildeSrY2J3130/ql+N9sE/YxG0USjTOjHNCT9KqsxoT+Fmu6TXMpYV7l48mlHnKPQe\n",
       "9SWNCfPIiNcUTvGTQeWNxpKf5myhGeVp6izOSqcyBdwAAAD5QZpaSeEKUmUwIX/+jLAATAe5AAft\n",
       "AHLIHVc7vzwegMEYaxDY/jaqqeYK8ZcUVxiWbesd5oajtKDx/Wg/ur1pzNCclgaldyuGWVmbjJkf\n",
       "qyCwkmFPsVp6IzTOZA7z60mM56WnhZMNw0QGMxVRpaL71cI/k5XkW5cYF5C/t8+MaGQghMRw5D0j\n",
       "E33UqgbkYAKmFvt4JdF/fFVaAaUkfoTp38RNO518oggx2TtCu3bHZjJppf1txdzOjBJIjWbcO8pY\n",
       "LLN+FR2nKfj+hgPyxH5nfuXl2S56CiwB+t95QjcHtPsNMs3ZIVZzQlQSkvbVNsYoucAtCGftrszr\n",
       "AAAA9kGae0nhDomUwIZ//p4QAFYyLIAITH33VH0/VCk5W9xECjA/ng8k4u2TPhx/8XYSQrQbCuDY\n",
       "LdXbD2yLMLqhwe6879k4LJsIblxWU3Zab18Xlfu7EjGD++k51o1h3GiCSdURXLF7wbFHFlJ62+5B\n",
       "s8ENjYCC2sPoWGRMVrulXJQcfkk2O9tZYgpVDdo0bvMSl/k5zO/adSYrqx41aRWwwmDpUlBRvyHP\n",
       "aAJgAzGl6tD8CwqkYUkAZFUo340kVfJry9XpqG8KXoaNgBhJ1kMWlI+kmsg2vurS40/ryj3zdDTJ\n",
       "TeAqiID0KV5qRvvH9bhUr0UUb+gN6AAAANxBmp9J4Q8mUwIV//44QAvrkSur3QFn1kZCyciINrva\n",
       "zJXdiBSkee4KF/AuuLuJ86fkylS5in0tYV6o3XGz5I9gBC0LcGm5rxrxRRxS1zrZbLMTeEsf4LvG\n",
       "aJ/0I3tkZ4svf0EgXFdGRwRw/CZnnoJQ7e8jmA2Q8NymT/BhMZ5Cfi0wNHYAQcAmcP1dKDcbhLZ/\n",
       "L9ZfteS5EbL5sOCyw5yQS44msgv0hyw1R2UVx5laVbLxSZN3iedTK1P6QuKZS9QJ7jsbeoj/q3Ua\n",
       "9nso22qQw+/PyqLxkmkcnTUhAAAAz0GevUURPCf/ACS7azPOhNXoJJa6kYAbaPVltNRsIrPfu+Ta\n",
       "24kHhkl35ymyc7sNZVGzOJw6m93sv2ZFnjU4KtWagpG4buo1Z0UFhgyiH8ST28wyK/yudmNWtoaB\n",
       "lUuGvp4SZ6neXMv6nfDEggPMqLC4Eka8+cl+RxcZQs94Ltg3ohFSNRVHiDbCjEo3FcZP1bQzyync\n",
       "/FSRL7sVxJ03SZSqTAcxjciQ0fF6HXNgKCUQ97sHm2v/47Lfq2qv19wBG+KJX26ZpQ1s9yXhENvi\n",
       "kQAAALIBntx0Qj8AIaAeLMIQIAF1G2TPmPbcEDhAnmoWhLng1FDMIEtoQR5xVa+eHj1s1JQdELGu\n",
       "nRRW1H9hIgnFuBpsIDr3W92txjPTRvROuHE4Ne3EqKnahSFYe5XD7mHuZc6nbN6PG8vllJiX4Yz3\n",
       "MDt+dakF1GWBXgOKCTmZExQHmpktTrM2kNVbF9iq3tl6n5imTgSqysTd1BHGuEkLwim9XjgIb+qd\n",
       "2KjMa1lQPm2wKoHdAAAAvQGe3mpCPwAsWI4momV93AgAr1scJRzzzfi5UVoOtf4EEWxScFqPIOHO\n",
       "UJ+ghVrs0SljTzNDSTj4jiJzLml8moBfHsN78wGs5iply4Ky/j55+nW3BFsOd1mI7Bbk2fizlWpm\n",
       "NtefI1nvy/gXkT0db2YHeixUSv2bPBDgSWUA5Q51HplaD1W51mSDjBh6WaZrabeBWPNOtYBq1tX6\n",
       "fZs3TdJ20/r7g12iIydMnpYYDlR22AkxgXVIi+cA0znOgAAAAPVBmsBJqEFomUwIX//+jLAHbnf4\n",
       "Z/FYX8yFRapWcAJq1VRo9V3JR4K1L54PxKcbU7D42r8p5grxlxRW92GHWAgAGbcXzBtYu0juXUVe\n",
       "4CmNdz0zaNzDUVa/oZp2BcaPAhngQbYIauB0LmyehZ3tngb06WwfLUQVNQQ0pj6oOmoN4X5fYK06\n",
       "y4UsN62fdEtOlK1nJeGG54eLENYD4z6XJFv5mwF/qpL1aO27tiPI2zAs0OWGGVG/Sbwvt+qzPR8y\n",
       "VF9RKNiBwYDOBERs2dnmOW23+wj1pCRBr8QiNbEAjWUYYTJZYlYyqtJYkwUyBRq42mVoywBLwQAA\n",
       "ASZBmuFJ4QpSZTAhf/6MsACyYzIAEsWKHcYXIWgcRViC47mMR3IAjZW5DlEF+eDpbxhyj6Ch0R3a\n",
       "KYXv2TlCTa/4r57m67B2eMfYrfE5xjK2kZOWe4yqD/0NSSvRWKhjAJ8wnIVbpgf8c6fu24EDKfLb\n",
       "uUqaWQV/8YVVrhnFyR6+bP8JQTwOROGS1yH9JTm0nd4iMvXH3LynPdvKpBBjITqXe+trGgPxRx80\n",
       "ab4muHCjVyYtNEEeX3aTxE6e+WS8Ay+P5DOI2j40Y+Yv771/1k1jPYDdnWFVkrl8vhlVAjG/iUzT\n",
       "d6oJEbgV6F5I2EvhNBNpreCV8hzmLJc4aducdsmJJLtg8ajWMyT3u/U/8Js1bVXy7ewBMQ+ko45n\n",
       "Ip/dtRvPBttYA6YAAAEFQZsCSeEOiZTAhf/+jLAA1AWJ0Nv2ACdvRsBIBi7e37/htBZm9lrkJRZg\n",
       "+9WPZhTWEG45omo/OiTzS8BZdM3JWt6EtUgGaeOfQaE+Wroi18+sNqWv7ByioHm4cW2/opVjjgIB\n",
       "A7Tp2okcuxGnLdzEiog45gVCkWKu+7vOqJhgaR3jQoUiITc+qGfe9b1fUxuxqLflhYiEkZZmwp0s\n",
       "DjVeeVBZqo/YiReaMRQQoBGRae16ATHO5RAd+ftfM/4ci89fJFpAs0sscf6Q954852zV6NVEuCmI\n",
       "Yn5z/akYYRqswo/UC9ye5Zok3G4GrpOMbv6nvTgLLpoT+HY42TosGN10baplgGBBAAAA8kGbI0nh\n",
       "DyZTAhn//p4QANKNofo2FwAIg9PwwnjdfwNzE0Mhwa4NDAfzwSAkAf90zKSLQbgreMcb6uXSQX5d\n",
       "hmtTRR6O6ePw2kvFF1wHISnEJJSh+PGSHkrwuPt96X4I4dlkhjm11qUaN8WSJ5G6BPMjDOHovhqS\n",
       "LfDLUh/izQazPBnV9+y50fqHJuuhcDm1rY86PgvW9b06UggxfEzGrfcs4vqE8PoG67DvwtZvlyab\n",
       "eOekqz4pB8EQV0ejt5H7lsDSlAowVsW8NCuk17EYyT/QKLIpB/V1norQ4srUyS+eX5N8VflAJeBK\n",
       "isE922pVACtgAAABG0GbR0nhDyZTAhf//oywARghggAfzVVGjy8wU6TEb5+CbfToQNUcJHRwB+he\n",
       "N/p/sg60RPdaDZwehQpHSwVO7k+kLsvGdjd9zMHBt217TK1EsV7gMb8aAk3BkqesNuELkL2iHKr9\n",
       "ABv8X77lLWpRa+1jAVkWjiLAKhqJ8lsGaYub2PdiTaAp3g0eYoq9sE7CNMV80SLspquLTPZndNjh\n",
       "viV1CFLZBT8MCFRBsaNHls9Ai54h7Q9KlGCkCcolimOiE1krRZ5p9noxbfJ8uJ29O+ZgG+1Bgp/3\n",
       "qdS0lU7jdXtMLPbJ8EaL0gcbaYhU2cNMLi60qq+r7CCPc4x+xdeDn3Vl9Hp/+ZPAmwvzjwP909tq\n",
       "l+D03MvVnL53FJEAAACXQZ9lRRE8J/8AS3bWZ0ec8dxhsZwAV0d+WQmDWx6BrglVEcqKZ50YPohU\n",
       "0sQvwQA1lDAqbqwcPCHOxmN3XCtJjOOmog9B9jlIAerlgY1pqwzCU7m8SjSRvq6Cy1+5rUibGp21\n",
       "xvDgHT6oyLc2GDG3H7mECFioBs86oDD03MTmuDUPy0437ewsAfYx5JUvwwhqVQANymvSpQAAAHwB\n",
       "n4R0Qj8AQ0cGY4wASGoCe0BcGOTFp4PyV9wRYs1NY0/ch1CFqJV7+7CBAfBgcxUErWoaQaHZ6xwj\n",
       "UVwUNRJFgyFVkcDbPR/LuELvNDhoikV47t/Kgu76SQP7xbWgHD6C48cqJdvQxcWLNt80j1j407O8\n",
       "SefNUywBNbYLAAAAWAGfhmpCPwBbAmzwecXgzk1+QgQGvsyAFuFqCw7M9sSOct8XW2Iy4hvJolZH\n",
       "v/2PdKqz1re963s6zDjwQIL51eoG9nlsTyjDNNQopG7RhZ7TqlUJJyNM1LkAAACrQZuISahBaJlM\n",
       "CF///oywATlYIYrx/Cfel9VF4ASyXnJJtvy7iFmfNG+gQDrz6bxtcSDY7El0QRIPY++OAL22HEf+\n",
       "T0STb6lzXE4WhjCmnre8O47EOElEHgzxLnxO6pPgKbUMc+RPz85jzGddFBcQ+7o8HKwNgV5zvlA6\n",
       "0Hg9/xC4YMZt4O7IqSbVYUL0deTw/Z/U3i9i+phtWUsdYpmFQ8mJEmJvnbVMsAGBAAAA7UGbqUnh\n",
       "ClJlMCGf/p4QAXXeffBTEAAi+YkRIeEEQDWnH1M5HdoWEMmPlBQTwZf+a5rhCgWvXAIcGZnk/F1D\n",
       "P28cx6HNDr/tSLuNhSGKT4gYJLNDP0/ACbWV8NdJ61l4E6EFQGzKRMTIDCyZ3La9NFoTloKNhB5i\n",
       "GCAbRTvSPtWMFjmOCstjhvj89hgpUBHp/LqCBeUcufNxn8s6kJA86Kznw/ZEcfm7r7G9IgJLbfOY\n",
       "9lE0N8/A9h5jv7fNgLpwoZ2dPxb9vHhfRfoon1BrhdZDswq9D4Jlul8du9hhXNSwQRermUcKczbV\n",
       "MsAPSAAAAQNBm81J4Q6JlMCF//6MsAGqOgMwDcAIAwickVOo7/QkghF99ehRvlosiCXehN0pidsW\n",
       "rj53YDvAZ1jVmDQ7c7OoVHdRU0uoZGTgfoakKXn66vRzm46xftxkBkCg5ZC4aePA0tYp3sZUeoHX\n",
       "1NwanVFGQ68AICxdwHKZboqybf9IJSm/y0X2v5WuVPg2a9eI8Fcq0bRYTtnc8J/IOC5xj3BexWgF\n",
       "p7pIaUDrsDqPPVhnLpdNfja1XW2Qf2izRqtUnazxv4GUNAyGYifuIDnpi1tM8AgNoIfZvC6TPQKU\n",
       "mJwA5l4cWDSb3dn9b3bOkEkL8KSO3grBKf3TTP1ITQMOLqGe2Dq5AAAAgEGf60URPCf/AHEO7tYr\n",
       "gBYfOIkhWb+2UZTAqglGzG4GP33PU3nAyP5w4JQDMUk5F+IAJS7VJV3eruS0va4ts9JNt9tiZBYc\n",
       "bhPnIkVlufi+7ahfayEhYk/U5lSyTPgc/ZdMLdXqkfEvWOyky2bsm5VCU5aGBLrKUoyYlOZAVAXL\n",
       "AAAAdQGeCnRCPwCGjh37xACREBDgBAIA7leWpMkTcnGUiDi2i5z/w3AtUIUcDgV8mER3Y7S27rUC\n",
       "YDdnOXmcqRJqyAiWX+JOCVNPnzEJ4prrFLwmsjgErYgX9Vt3a+fRMB5JJ1MB8yoGgwQqhtWQbaKd\n",
       "SDLAJqRzbQAAAHkBngxqQj8AhkKsot1MAAXQS4mkitE3BZayMHZuQV2JP1Hx4BiABvX9WsL4PVcP\n",
       "LvOhQ7784Jl8JYKfC4PQ6gpBTEddjvwO+EbQIhrmg3+K5N/wi9NP9GA6UHY8OvnyOfcPjVVhJuw3\n",
       "z+mw+ZpVDYN4i+0yTYDsNB0rAAABHEGaEUmoQWiZTAhX//44QAZ3QJHNIW09AAnbzGnftrBNVWN+\n",
       "MLvmS06FEET7jlp/vBwRUIBDO3w91HstiUA7zIeqOvksH8gl/NJ/BXa8lX+JIQz7wpxV6HH4ffbT\n",
       "NViTfa48lG5Kkjy6dqiM2guCm/pi8RY7AZG5+edFo/6RkdsubOKfkR5fDM+rwn9iYg796dkPTSbO\n",
       "oUgH6LOocLpcho/k8jQiH4JjA8XIOMbI9DbjxkAYfX+s5u9huvcBYb17XejYu3hNeWlSDyiqkFzn\n",
       "o8OzbvuBwwWzHJU9ANgNJtfa2rBorfeoHzwnkkifV4/lXgZLr6IuJYqp2Loa0U5/EOfm0syFkAQn\n",
       "2kff54po7DY+xjLvvmVpbaplgAzJAAAAy0GeL0URLCf/AHEQNsNDYALndLDtPWIDhXoWUG9FmLwX\n",
       "Nbz6ATbGxSoNogld4DWMKtLwIkcBQFZrP8w3AQ4hEHFqIJdJ2COoCQJiEsZ1g9SKdZ6LHjofB0d4\n",
       "MJDfh0iosgg8ekAazGkxxzq5oBg4kTm8QiIUCRWJE5qaasDeWvBevwu6x39jT0vMqEYphQLJ3R6K\n",
       "5YtoErgAEuzoqlOAPai2DqiuBwDQyWbwmaPxMwE7iWUGNEA/W4hO8aEl/h/IC/LqmWAE2Hs4+Iy5\n",
       "AAAAmAGeTnRCPwCGjh/X/QxM0AQv3YNXIz1UDdBBSK/OeIw4RAAWh2kQ6X2BJdLOlYXisuIjicmd\n",
       "SGtlUk0jEvRWXzsgFVyuCrt8dZPZU94phEAVpeMpmsGKRpILtCRAxqIwRZwZOifVXRdP0KR9eyTC\n",
       "rs6C2j2adSeuO9S99ElqEwE+p26bDGpJAyQ9OekIuZR3/NUywAmuWxvAAAAA1AGeUGpCPwCGeKet\n",
       "0gBbbNlizmhj5QDBOgv/zDKXyjDCm8jQfVqVeJk6fbaCbJDGtLVFDS9h3chweuDQslRzkZHpsKTs\n",
       "41m5DM4NRYySDra+oW3aOi+wQmEjhn6ITzr3/Lf0xI5jOnKtvtnsRNizxdsZ+gbYLkxajsikQ+vK\n",
       "cqMbejX4jefkvNzx+Axm4n8bNRXYYD618G4LuwEsXWnVN55xUI92dMVKEzs+kdtC1wWjJgocYvbD\n",
       "CAqRIizqItLSTP3Z0by7sfnpt9M9Pn9UywAmvfpPAAABLEGaUkmoQWyZTAhX//44QAhlkl4MsQBp\n",
       "38s20FkUMsFdkgDVJTmCy4MWPQdthUP2OO6zL0TugQLAD+/dLEIXxlmrSKp0CZaUzJquPer8FsZg\n",
       "mctvEpJo2fj36rXJDkRtCSLPffcYaHz36LPOTDDECHYb97AYLzoGDC0K/2azy7VgZn747PYmKpax\n",
       "CxO6SN6/pt/AUOhKdJGKEekuN1NmF6fVzB1z4D3TIVvXPI0eqm4ax5A/cqKxXZ0FtZrUoBeiTniy\n",
       "4VBPy8w+Pzn/z+HxPjGFte8iZad3ROPsjTtHq+gpFLmstjxu41G1WO6+U9QFgDAZhlpehY+pF24X\n",
       "eZgf4EZgxVadZXFTndWn6cBMYLVZRqbpAc4DVzmaa3JtR1cQH2OFP+7WkbSD4cAOmQAAAU1BmnNJ\n",
       "4QpSZTAhf/6MsAJz3PUAK3J5K/g//sSDtsG/gzL0brbO7yEiAdsv1WHZQ3l2cAid+UkuigAcYUus\n",
       "71oXZM3ny5/84B6sunkJg54SdUlKscDvTRqOIZUDJ6vAXFQZeRpweacuE22C3H/iBlmIwQn4ZIe2\n",
       "gzT1cGL2pPYwGUcosBC5YDGMDCxf+TQtcz2oL0pKTdEAjhM89SuWvcT5y8UOXEON/0UHLCEH1yBX\n",
       "DoEg/NGdLg6TTxQd3fg+MyrRhzpGLr5p5wR/nRfAblqWZNYTGGK65n9FSsFEJQ7x3VyZjwEQxKcx\n",
       "pncb7qJNZSvd0fi7SVHhLOdlKbCrmJNaxGxPve1TjvYqYnVKEGiQxJmIU2CI7cyz4TrI3lWt6JES\n",
       "W3tQ3VSl5p92NJMQBhNE5thWosDZbkHpXSCC7Zd4N360PTZ6pIbWqZYAGBAAAAE9QZqUSeEOiZTA\n",
       "hf/+jLAC8dg1ACVNYpvPwFXmb4sf4FDiu8vX/ii1aqCTIS4t0SHK59aIyxBvMry8ch6hTewSLe4E\n",
       "aAOGGAruMkxTLelaEwyJQkIDgOiNt/Jw9UwaQH5uxsCMcNR8ybAwVUxdvZIofgLAR0y9TopU4Vu4\n",
       "Qw8KNHjLDqx3N9zQVYVA+GVEV7yiHuWxJfToOHsCLVJulieseAGDmscWTSZofbZJ3v+rzsJ/CFlA\n",
       "2nhjR+scLiRPFcP2W3AgdX85paj64XHDH18/F6mvPUjzGEKFAalv8GGNaPZBGy2b96La9eh1sTDQ\n",
       "gUkY+aCNFKUGrzgHDn9gwk2pJmdEicRMbZiAOGPwdH0mtZnzGBtt49g9oxstyjgwsk2tgfA8/vLk\n",
       "xaMDbBJ48V+PB1+NhNyPi1h2/TwgAxYAAAEoQZq1SeEPJlMCF//+jLADVD7/KwAcbVVIBZMM2My5\n",
       "TATKHUexdoXyGJXX5TzIVj2XpxoD9ApsoBKOYxaXGI/FWDMEjNvyAml7BcbEyca5g3wJyaFn1zx6\n",
       "xpKQrb/hOPZWURU6fxBaJQFkbtnNrKuyP6t05lmx6c+5I2Po1I7TgzsX1+fi42j/qPiPDxz/JFOG\n",
       "Em3yayA3Ksf8QOOl5d5jtmVbyCbM59OQiaCvmhfy0EswzjUBrFydfMl/HGs2m5qZF0VIP9K3UH+z\n",
       "RO8pEAAcgds7C3e88qkHYBN0kg1ycdBbjiwBI7FOrl1z6fc7e/Q2QUEsBV3TYwZw15G1AToudZ4g\n",
       "dEZ8fgynuaB/DK+5xVBoXQdMy7JgLfvKMV94PVCHrhVM/nnAd0EAAADgQZrWSeEPJlMCF//+jLAH\n",
       "M73gQbu8gAATAtx3CBnubUUwW3jzTOw75ShqWWeQchDZMSS8WMcnFPVS0h0VESZpPVERXIkdX23N\n",
       "+YfF0SVuC0LASdSq9h4lMM8JUWbXYOO8faWFnbSEvNPlmCCwCpcfGsQInzICdRnquxctU+u8Dv/z\n",
       "+sw4ALCeIiCmNhmv5HW1/dHPHASUae2+2M1tuUACgUzoK605v+kVcwU7AHQwSqio8R+HfNqYRtSM\n",
       "bCkMzbQSvzJRDjvYuZs/AuYBoecDMJxv3axq7RYl8kiWVa8RWccAAAB7QZr3SeEPJlMCGf/+nhAD\n",
       "Riv97/CWUkgA3RvlQXount+pLZyNz8qMwsOZNXRujkwJa1PMuhdzUGotzew48FbNR53VgDJt3GnW\n",
       "vjL52UokAKYznXQHC9UlmfSUJqzFeTUiis0v1FzK7fZs7ttS0uhfAPMz1qjcT86/8CSBAAAAxUGb\n",
       "G0nhDyZTAhf//oywA1Q+KHlQAtoLZoGFRwrBYXLBnP9WCufmBfah4r4hGznsvilR1urW5JTTo7cS\n",
       "+muu4CE1S2qVPwE2gyosaGcuWXip+8VwyRJES4YxM6ah/BPeEFNfNufrL3PnZO11jyfvJtc+/cvP\n",
       "O3BxrzAAU37DGP7OADH7Ms1ExT/M3pXuCpjxUch8rXMlcTcei7gY1R83MwqpIVsxGVxZsxSn1EE0\n",
       "rX9do39jT8hBwmzBmxqGfbVMsAV1HxlRAAAASUGfOUURPCf/AOHU38cios2n34MnoJYbwCUgYF7/\n",
       "5tNAT7YLrsM49uyjvZTAB9Edp2rQjh2IYVtX02S51dm3PVMsAJsSv3fq5IAAAAAyAZ9YdEI/AQ0c\n",
       "TIbduQnyJfT1xtlU1wWhpcY/pDCuEKMtVRGSR3W7PqmWAE12Ch0qZE0AAABPAZ9aakI/AQyFiuGv\n",
       "5P+V5tRn8kn2tS61R3BPaLXHl3GttF4M/sdRBuzF6AMSSAErR4G/w8NAbuxycXp2092dOofrXU7q\n",
       "mWAE19EOzg8mQAAAALlBm1xJqEFomUwIZ//+nhADSjhbIqjABhtqZEnV00pfG2DvAEk3ySEmSKnd\n",
       "Yc61fBTeep0Zob6Z8hDvAxZeF6mzs14kXQH7Aga7vybbqWB5NPgytUlxQHfLgqcmdwPB9AECv1/J\n",
       "2XkRyCLv70oqy+5FjZ5TxUpSygZe3WitVg9iaaxoxU+CygWL0YBY43Mbi/WRjZkdOHmChju+8Zm2\n",
       "vE0vjN2fbP4zDnMyhNMUu87DiDce5DzAt38fdwAAALZBm2BJ4QpSZTAhn/6eEANHdX6YdMAFgH5f\n",
       "zKh7bJiXL1JPcvf3E1kAnpMIyXRpOjNWJrUKmAYdqeZIW17SQRq9mLuRUdyqpkcPffVh8T4DXO1G\n",
       "4Te6WxUszpJnQKIy8t5vJhNu9+8KtBHwKjji7Ymf+AFnblWR3Oe9KTbfclgkoNBNU5ymwOG2h5Ma\n",
       "8NOhgW5xCKvQeZRdWZAr8ZV4chEITX08Y6bkztzC+VlI/aW2qZYArp0BeQAAAKZBn55FNEwn/wDi\n",
       "ILW0AAA4bCgKMunzhXva89YPqRDblIl3DFQCKJTysjlHmpqFGuIL1b2LDgywoqj0EcZ9vuh3Ray8\n",
       "HMR1Dl7ZkNC/pmW+UGgfXW8Zyg7yNW5m+hOuT0jMNScyvfgwzbOlBPKxOw5wN/cWgfD90mZdVPlI\n",
       "kaufzuMaq13KIk3gUThauTpK06cvvYsXLkouHAhA75+VTH4DKALFkCbgAAAAbgGfvXRCPwELWgZb\n",
       "AAC5FWdpv32qQRjxo9sG+KvJT9B+/VxoE6wpwCQipiw5wxVkUwyKDSTD2YAvLH8gdI4PnQ7jBoZt\n",
       "+nArF+VpVosTYzRqpTmY4QOvwtgqTflMXKT7pkwZpujjPbtqVQATTw2YAAAAZQGfv2pCPwEM8jBd\n",
       "IAWyapsB+Pb3zwUbdGwS0D2DesPyxBFPAx5+0J3N5xGtQ/E7UblZnYX9kxlaAYYqSAsGxQKwyEnf\n",
       "oQYBRs61BRF9njOSnh2cTr6UggJPiamPC77qmWAE1urbAAAA0EGboUmoQWiZTAhn//6eEANHzgbT\n",
       "gBFqaX2Pj3QC7uQAFUN9KIerfK2NVwTVDtuihIl0jj1j7Ct96PyA7DMPLBzU7PJmdMBMnoIE30bE\n",
       "JUzQukGWzvfZCQWYUy1JzTIKAJnKtB6wLhfE4OK7jlwopMuor8RKIA/77Mjoli+MAfs3fb79mGtM\n",
       "5TQBIzBa3FAACG/yLqI6C69uyXvlK0YXEf48nokvrajuw1Z+PEDIyjmv7AFeVzSUeuKXKwY3r72+\n",
       "fQCMTLAFn7PtqmWAK1CbwYAAAADxQZvFSeEKUmUwIZ/+nhAD8idrgEHH4Ad/4EYGPMjX3fi7a4Q8\n",
       "MDeRgidyhXdjpgouCK//yFQPlXvFJuVq+3iTwnx8sEnI0R/g5QI4tNHv3l9CiIdRJy8rh907xXZW\n",
       "eUHuLB8/U3QCp+vub9i3SzQf4WTeTZn9DDblS4rnAb1JUTNTSiajOhP8WM235I5Av8kayutOi5q4\n",
       "IDZPIMBnYYw11+r/7XQLCtLvvn42zQ1hQ0GbvB6DW/OrLSUEuZR2ICY9rWr7zY6euqhNKNCLr5E7\n",
       "TJnRjeiNZ3b/KhIBALNZyWMSM2xbPXvIWjeZCtqlUABJwQAAAL9Bn+NFNEwn/wEV3HcDNsLQkAHA\n",
       "lQaDpcj4YWok22NJ62m+xdvTAzx5/SwWMsVHClL1b2V/XyfqPucuQNXFffjeHyqDxggiHHyzoFBM\n",
       "YJGi1ZV4zJxlpH2q/RASi+K93AWoR/+EvrqxFghl9xe9eQqYP+bFgxYdXTtwB2qpIZaXibZGtL6J\n",
       "3RXMfahNnipaI5yB/RE6zTXDtqhNZLXJhOy+jZ32r4a4UKHKxe2HwjS1/1reKP/atjpZqUSXooAE\n",
       "7AAAAGQBngJ0Qj8BDSgyl1cCrP6o350XC4mqVABc8ogYjIanfW2ejipD3SJuaG+QZEDAmfcgo9Ex\n",
       "azVbJvVwuFye34T5OpJdmSreHBsCl4I1HqTt98kJgfXHVuz93BnzVTQof9YyAB0xAAAAmgGeBGpC\n",
       "PwFQxaNDyNABKzPToT2ubQU2ZAk1lbpk7CnSKoIq6R8HyF6QnZn5Y1sBPFw1VjSlcyVPjrlSmVgC\n",
       "ocmSGQOJvhbQIvcdzjkGTrI6xJxAug4N3cQQqTRI5xp42XUXhpFlc8xyzO/fd7wFtp69/YnDYoYT\n",
       "zGNXe0v8M2GvIgZjTGdbIJrH5GH2ak4F80z9WjjqlUAAf4EAAAE8QZoJSahBaJlMCGf//p4QB2e7\n",
       "grDE+/bp0Ai6WgA5S9knU+x79hqzkCMEX/CPA0mkrIujNd57w3j6vEO+ViqW0A0FwXubNSmpi3RT\n",
       "5fBmPXumyJfskf1/lLgnsyLyp3v3ssoU0Nzz9M4bQufxL3M5DaZxEqzij3NX7iX3Z/7HZfuXz07L\n",
       "zJVNm5c1w6x0iaFNaNyUkJ2qf8jOfjSDfZq0ru5eU8b1r4h++h7lDu5bw4xXK6o24MRVN/ZIziTw\n",
       "FVKJzoc96DDM7lqSubKzqN472KLMApPq909xvw7lMi6lTfXl11yJeKooKw11nC+41hVWXKxUHUra\n",
       "8mj9bQIwnbzXBHK3HOVGQf5X7yxiqwGKo1I0XvjCn8RxdiptW/XugwMYoX6F4mGqrh7qGzhniNxU\n",
       "Ch7EKFElGVtSqAAg4QAAAL1BnidFESwn/wHDeAisBuywOQLHUUDLAJNB7XhOX18rgg75e0cAHAke\n",
       "k57kcoh+ko74cQX7G68CdcAo9oyLtL4EG5ilji0TNMvbEfd0y7F4Ls3NwU7fwCevgCwxU43ICTYd\n",
       "eyJes2hzsITjdyHYzfLI8/TazYl0D4BcnRP+v9wjyttfv7YJlJZohPWNG6SXB7tmEN1UHf8SVE7K\n",
       "5H4xnTunPAiDTUv4DL7lBXqDQmDYkyHCIJGWiRKRGGGAAdMAAABvAZ5GdEI/AZy4uWQ+2su9YQAL\n",
       "ZIF272E9yE62RBxgzEeJdxNZP7fY0hf5nmacAcY2gw5VEOboEJb7sJQ6or16dUr87rrJywyquYLo\n",
       "DQlc/hsqlyMX6GpSayr2ZW2xmv8hxbD6yVjqhTqfbSq7AAKSAAAAagGeSGpCPwIZBtsea2PyI1e1\n",
       "T+O5Q4IorWt/ACyhKRpuZwkH+KAD1SGudxZTxiZHZW3Yqlk60Dj8szTjxAY1qnzrqGsTKrDwo/0Z\n",
       "QDqk6TV6eN/akKlTlPrtXfBfqSGnf1DL30i6pVAAPSAAAADmQZpNSahBbJlMCGf//p4QB1nRLgBb\n",
       "PMonTG+ITeU7u+OGT/obalpM+hjRaMP3xb8YlrvJ5yOxETkhD+Z0yn6WA3G/UHW1f0q1/LvyEcDC\n",
       "kD+2Eotyix8VxMJb0SviK8M9yQYjudXJ8PJAqUvbL1JabSl9eyEARhrVgkaarRn+n6a4b6KX8NL4\n",
       "vGwr09ny8Iz21ahdXpoNU9137HwTOngfzcnZUKATtc2N5J/TKd7mQ1pM6Rdc599tt/ATGRKO6tZ+\n",
       "g6cyw3Q2rqbh3Sm7px/+Uz/micX2kFuiu304utdAd32zqlUACgkAAABSQZ5rRRUsJ/8BwaoZeGl2\n",
       "HWp4VOY+KY0qa+5q/DGAAC55wbK3JrKL5DcdDweYKvDT1SeB7Op2GuC2bxRZUxHa8pQ/DMx4FJJC\n",
       "gdabcqoMJuAFTAAAAFMBnop0Qj8C583Uh4K52GO/0rg/Cx3cAIAzV+jXTPPh1HdEtogBNGejD0bJ\n",
       "SUpQRHyMzIF6tQXwgBmSvj4ghBLVrUl2R2oGvMrGPZkqISkxzYAQcAAAAGIBnoxqQj8C5q42B10K\n",
       "5/OABOQGCElpvQ+7GZnCRLHshrFTGDRqOFU3NB2KOXkShuHSCrc8SOFH8GqyIFtoPIs8vskGaKh7\n",
       "o34HrCX86EJWGhCTCUaECqZxSJokyjUmIAA44QAAALVBmpFJqEFsmUwIZ//+nhAHZ75FJABMlSiJ\n",
       "d+4eVgzEm0R58Uu6x+AHfhNxXw7pa6BqLGnMJzOirGptckiSCD777zcooVEZIOKY4m4m855oRhDu\n",
       "2xzNzT+zxylTxDtNcqzuCcdC2dYwh7m5Ocg3jAVihOfMjxwjIqKdrT6MC4bMypeJto/AnXQKaJiv\n",
       "cXwH8jWlLl6VjBqm/aQb51cYFJrlGkW1ObxuP43ttRKF/S/CtdmegAOPAAAAaEGer0UVLCf/AqLy\n",
       "Jcj1rE0po1iXO5jx5zg6sA3GgU8ZiH19uACtmdXJ1JQGcMgVSSnGmdSaRAfEdAcQnzQ5zc5uSVtq\n",
       "FaCfVWaCO3iMRlX//y2tJOao/ESmciQX30yVc1Uy2snZAD5hAAAATQGeznRCPwMqz9tt0VXHqwAf\n",
       "wxUSkPLZyqvAvJ+ReCWn8igSqP9rNjiZzzVkpew+olEC845eS9Kf90Y3mI+tQ0bSUPa9uDTEBJDM\n",
       "ADlgAAAASwGe0GpCPwMrNV+DNfVZmheacRQ80s5VOqfSS4APywjwx+pReceVwk6YUTLI6mBRlTu7\n",
       "pJUs1DwZ4B4FpJriGfpyLJpus4JaKAAfcAAAAK1BmtVJqEFsmUwIZ//+nhAYs3InIuQMClLDP/IX\n",
       "jWxRLIuRcxp0ejK4NTb9fa117U+DLmHNJrak40+cdllzhqh3qvhqL2uR8snh3HKOa0TwCzbkeIrX\n",
       "EH8cz0wkn/MElHcGS2Bhq/2ejf5EF3amHEsRr2JzUAKqNiVaCK+Fy/yIE3mnC6lLpcMKG44uKuTL\n",
       "BnANDWMaOrsQDWxqhBn/c3v1YpOaOCWqjCzHwACTgQAAAHtBnvNFFSwn/wKjPSX1TQpo/0AJIrtj\n",
       "KSZSkl4Va4UtYdT3L7O3vQrL6E+h2T0FcdD9N7pt1G4Fownew0+kEALB2tzQ3umWFGZaP3Lrh0iV\n",
       "CZwoIQajGz7gcc8GoHnBOC2YfpsMiefPrgWSRu690v+BZIci6qVSZ2WQAz4AAABBAZ8SdEI/Ayi0\n",
       "GLBkwQx122ef8WzZkrD0uRQbW1hu6OCKJzBuADuOxZK77x+3nh63jluQcMxKYbXb/29tBsAAGLAA\n",
       "AAA6AZ8UakI/AyptVqHqfVtehACaMAAnFBADLSslWD2sdZYWrWDzn6Wbl4Kz4cYblSPOJxILhPq/\n",
       "wAAbMQAAAKRBmxlJqEFsmUwIZ//+nhAULVl4eFq6oAiryqAesnhlyuwuqps6xSeVeSl4HNHeWmKd\n",
       "EwwLl6oF+lY/wYRnZ6dgEvcwJYKiRf3RutcvMIWB/+PMfUtivLNSPom0Q4+2xyleMsvwASkHCRYP\n",
       "DtyWa0gd4s2dXeXm0yTPKlVfHKNk3vchxqJECN2NilLaBk8sGXnIgrpCOfyfAdfgBUYinbU8IABt\n",
       "wAAAAIFBnzdFFSwn/wMfcruZnD6s83g3wxSIACHtvlxIau9XdKgdGgAgpyMfw0MNPHvqgpRktfdR\n",
       "KHjAq8eDqePnRY3F0SNqXjP7ZY+lJnP6AL/zW0aMz1agvTWdkw/BD4y0D7loXV+M5PYN4fGdCbeC\n",
       "s90Vlk87Sdliey0bTKZZY7oABx0AAABBAZ9WdEI/Ah0okAHeqQHo+kkRyRdHncF1/w/e3TnEI2Zm\n",
       "WWQXRwDDciagSiix1owP0AcHsAIbHmncceOmWcIAeMEAAAAyAZ9YakI/A0Jq5UJLmC8AJgpMYmUD\n",
       "sqskcTyBdNbDCy99+qbrmXVgygTq6yVto9QASsAAAAC4QZtdSahBbJlMCGf//p4QIrK2ddqoIAIk\n",
       "MWBIFEwz0k6FgF7JHNl5E9yHr1HSNzXb/o4uq+/S+TE70xfLby0REw+yC9WEZTmwcK+7k5Xxj4sR\n",
       "D/BiJn30gZAonwYXADMCQKoxO8UhJ1/me3EIK5lshuqPUOXO1BNS3xjYPwb3IB7FmFO9gnQ2pLRT\n",
       "STV1cFwtSYJGgVkqG9A8I9UxH3HmZgYfzHTiOIa5q2I2VFNUuRSPJ7aplgADZwAAAGdBn3tFFSwn\n",
       "/wMgXxJthe6/ViRrAOLmk+c9NhrKXyEBTXhFNACRIJaIRmxzhH4M7R9bzAMemvK95moIvDagAxKi\n",
       "YIs9DsRwmrJ+OfwkrRsTjMS6O0OQilsOOkf7o0cc3NNjLDLyIAKCAAAAJAGfmnRCPwNAsIx33yQB\n",
       "cTnxSUEa7eb+pgIPCUcNNhXvWkAEfQAAADoBn5xqQj8DQm289e1xX7W0DNPz3iTgReQe+Puu2E79\n",
       "1OrcBfuOIe/wwgBMQbz5UUT88rhlcrV3AAMXAAAAyUGbgUmoQWyZTAhn//6eECKytnXUe6wBEYcy\n",
       "kcxXy1tm559afIVlhFPvbdGdTFszweweVmeDRF23CY4z6Z9iQNda+ukyemvM5+YzXeTJCUahkZ/K\n",
       "VeRHYaBgHBnzeODM8ou1510X/jHB2kDx/LeVpJtwNFtHVV7kTHPtYS/y6OwYnUkGDCZ8f/F4xr5q\n",
       "BmL8/v5u/wzUYu4b+Z2XNuFSgd9REXtvn1+N11vVhDVnCxWm5B8unFxsPpEGe+ZH3DtAIJivL3al\n",
       "UAADAgAAAIpBn79FFSwn/wMgXUtHd9QmXenc8xbvyE4fgbV5mCAFl1O6iGGaVQfWWpA3+LZXCn8B\n",
       "O/TpUowQgVts2fu5U/WtTH3WNBKXuapCgeRsobrLUCyDCEbocKm2/0ujFKaQYc+QumRZjaPgcWLk\n",
       "Qe9DZTHEVYHQ/odFddgmJfLt4C7uvWYHipVFf8AAK2AAAAAqAZ/edEI/BDGLyKNrfzi3UN5Pio3r\n",
       "xrgESsYmBczgn63mTZ85TA6uAAypAAAANAGfwGpCPwQuWEJ6HQ1RzyvQV+DTbZ9SyTw1N0OoI/jG\n",
       "gBNJ+Jb2PcyP/UfMTOdNn7fABnwAAAC6QZvFSahBbJlMCGf//p4QIrJ6rGiViLbAAONzx7pxaNR+\n",
       "mExVqm/MzURvw9kg5PpUvJPJJ8ak1rXdz/I6kp+kfkv/EOMhKLZLsdoqu5nL6fe96id5K9bB973k\n",
       "/ri6TydKAGTtQrV5RrMr+SN6F8M5NviAN4JERgbJbXyL6qdmIsJnvMhydpt7JMzWhkagKSExW5Ai\n",
       "/gDECg2r0dRho+mYWKF/akb/tAGcnZws+IB5PRwWcK1K1PCAAJGBAAAAgUGf40UVLCf/AyBdJ1Nu\n",
       "Yw8MJBFsGIANnazzF+6fv6vzRgujjhAGzTTSQAL/jw5LgFWqFgfggDumTNKkONk9s9gtKoAcwxnZ\n",
       "CZ9t2AoFciE8ZH+Gh/KE2RzMAEzGzpT4VbERiYCh7id0/M+ENJyaVGCuxhNt0sfQoGus2A2AMAAf\n",
       "MAAAAD8BngJ0Qj8DtY8bXFc8fnONIQgBNGURVhHOpwUe6NwHkKHBT7eRUoigtj7lkgFpSdvhJDjj\n",
       "g22s5XGjSqAAKaEAAABDAZ4EakI/A7Ypeg6TUnSfvdbACa6KWIKqZgS+V9MA0vPlxv0YDvbYkFG5\n",
       "LNQHSnDz+KJc4KOr31y+vKCP3a8woAAk4QAAAJ1BmglJqEFsmUwIX//+jLAw+J1lo/7PSLcxgmif\n",
       "+aIKrSSAFukpXeSG/qdeKVJVdUwPX6JzD2chMfAWvPo/9aZVXV/4n2gTeaXHdo53mTQWG0/2jSys\n",
       "3QPrAcSQWbrLNNMA3U8jCqtIP3YyVQ/hOsVRwZG1V4rTf0ljB+pN65CLWJ1evjEtPoGMhDUnFQ2+\n",
       "BhanfYqYJq44VMsAAC7hAAAAiEGeJ0UVLCf/Ax/yp+O/ax6/vgTruPHmDAAToR+oxQ1c70Jh//bw\n",
       "beRGceyWQFezmF1Bz7y/4X4ICNiM9CVRib0msxTOqyiwViqTMyWFp5caOl5izdyiTnhC1gKgR0JF\n",
       "HKYURvwiN/JeYJDhyfx6DG335ds7lj4PyuTT6z3yGjRDeynhMvwAAd0AAAAmAZ5GdEI/A0Cz3dVt\n",
       "THpMmCtIIRvxV0fHSo1EABO1Om+ojKmAF5AAAAAfAZ5IakI/A5UYEelkLjQJlVEHWIxEAJrJZnsl\n",
       "oYAI2AAAAIZBmk1JqEFsmUwIT//98QC4So+022Z64TtoSWLiYAW6Mspzo+73chG/VBmEHE6Hoqf8\n",
       "RiUEgd8MEH8ZkX5gvZbUsfDdkReUYfoxhCpjCzdd/nS92wvyQrcdBTAwZwgfm9a0ooPOz+WiIhlk\n",
       "7gMr62sEz+BVctX4hTtvwAQwNCVD6tqVQAAuIQAAAHpBnmtFFSwn/wMgXSdkeJdyW7Ggw/+9f9QA\n",
       "eZixntnxgs3dNhU2H5OsXapRQBC7vb0MqtxEZkB+EwWiMSvVGYSM0w2Rp3T3eeVCuXJolHLhqeyr\n",
       "JSrWWAR9pxxzxhUa8cWRRCfoRQc84mP4Uck0yn9UPMoVTLVNRAAbMAAAAC8Bnop0Qj8DkpxmQFus\n",
       "RBMEAZAB68a+5FPW07eN5msf4c39Ueqi1h4n1CaM8ABqQAAAAEMBnoxqQj8DticICm9r8o0yOgus\n",
       "sAEvHylxbCSv/gB5++MnRSZg12d+ZZIi0JIWsKbUmzpOQ1stNjTRZT6WXKtUgCihAAAAekGajkmo\n",
       "QWyZTAhH//3hAMluqvcsKGxooABOTlIQBUe5Zpd/bzMC0TfwFtP8Ty7x/wXw4temG/0MsOkj/cf9\n",
       "Kj8Jewvwv+kUGh98/QeBZIMA+fcb51mYmU6Wq6cXKyx3xLjmz7cSDE6cxlOHvp4YjpWcxK3PrUqg\n",
       "AGfBAAAH2m1vb3YAAABsbXZoZAAAAAAAAAAAAAAAAAAAA+gAAArXAAEAAAEAAAAAAAAAAAAAAAAB\n",
       "AAAAAAAAAAAAAAAAAAAAAQAAAAAAAAAAAAAAAAAAQAAAAAAAAAAAAAAAAAAAAAAAAAAAAAAAAAAA\n",
       "AAAAAAIAAAcEdHJhawAAAFx0a2hkAAAAAwAAAAAAAAAAAAAAAQAAAAAAAArXAAAAAAAAAAAAAAAA\n",
       "AAAAAAABAAAAAAAAAAAAAAAAAAAAAQAAAAAAAAAAAAAAAAAAQAAAAAGwAAABIAAAAAAAJGVkdHMA\n",
       "AAAcZWxzdAAAAAAAAAABAAAK1wAAAgAAAQAAAAAGfG1kaWEAAAAgbWRoZAAAAAAAAAAAAAAAAAAA\n",
       "KAAAAG8AVcQAAAAAAC1oZGxyAAAAAAAAAAB2aWRlAAAAAAAAAAAAAAAAVmlkZW9IYW5kbGVyAAAA\n",
       "BidtaW5mAAAAFHZtaGQAAAABAAAAAAAAAAAAAAAkZGluZgAAABxkcmVmAAAAAAAAAAEAAAAMdXJs\n",
       "IAAAAAEAAAXnc3RibAAAALNzdHNkAAAAAAAAAAEAAACjYXZjMQAAAAAAAAABAAAAAAAAAAAAAAAA\n",
       "AAAAAAGwASAASAAAAEgAAAAAAAAAAQAAAAAAAAAAAAAAAAAAAAAAAAAAAAAAAAAAAAAAAAAAABj/\n",
       "/wAAADFhdmNDAWQAFf/hABhnZAAVrNlBsJaEAAADAAQAAAMBQDxYtlgBAAZo6+PLIsAAAAAcdXVp\n",
       "ZGtoQPJfJE/FujmlG88DI/MAAAAAAAAAGHN0dHMAAAAAAAAAAQAAAG8AAAEAAAAAFHN0c3MAAAAA\n",
       "AAAAAQAAAAEAAAMAY3R0cwAAAAAAAABeAAAABAAAAgAAAAABAAAFAAAAAAEAAAIAAAAAAQAAAAAA\n",
       "AAABAAABAAAAAAEAAAUAAAAAAQAAAgAAAAABAAAAAAAAAAEAAAEAAAAABAAAAgAAAAABAAAFAAAA\n",
       "AAEAAAIAAAAAAQAAAAAAAAABAAABAAAAAAEAAAIAAAAAAQAABQAAAAABAAACAAAAAAEAAAAAAAAA\n",
       "AQAAAQAAAAADAAACAAAAAAEAAAUAAAAAAQAAAgAAAAABAAAAAAAAAAEAAAEAAAAABAAAAgAAAAAB\n",
       "AAAFAAAAAAEAAAIAAAAAAQAAAAAAAAABAAABAAAAAAIAAAIAAAAAAQAABQAAAAABAAACAAAAAAEA\n",
       "AAAAAAAAAQAAAQAAAAABAAAFAAAAAAEAAAIAAAAAAQAAAAAAAAABAAABAAAAAAYAAAIAAAAAAQAA\n",
       "BQAAAAABAAACAAAAAAEAAAAAAAAAAQAAAQAAAAABAAACAAAAAAEAAAUAAAAAAQAAAgAAAAABAAAA\n",
       "AAAAAAEAAAEAAAAAAQAAAgAAAAABAAAFAAAAAAEAAAIAAAAAAQAAAAAAAAABAAABAAAAAAEAAAUA\n",
       "AAAAAQAAAgAAAAABAAAAAAAAAAEAAAEAAAAAAQAABQAAAAABAAACAAAAAAEAAAAAAAAAAQAAAQAA\n",
       "AAABAAAFAAAAAAEAAAIAAAAAAQAAAAAAAAABAAABAAAAAAEAAAUAAAAAAQAAAgAAAAABAAAAAAAA\n",
       "AAEAAAEAAAAAAQAABQAAAAABAAACAAAAAAEAAAAAAAAAAQAAAQAAAAABAAAFAAAAAAEAAAIAAAAA\n",
       "AQAAAAAAAAABAAABAAAAAAEAAAUAAAAAAQAAAgAAAAABAAAAAAAAAAEAAAEAAAAAAQAABQAAAAAB\n",
       "AAACAAAAAAEAAAAAAAAAAQAAAQAAAAABAAAFAAAAAAEAAAIAAAAAAQAAAAAAAAABAAABAAAAAAEA\n",
       "AAUAAAAAAQAAAgAAAAABAAAAAAAAAAEAAAEAAAAAAQAAAgAAAAAcc3RzYwAAAAAAAAABAAAAAQAA\n",
       "AG8AAAABAAAB0HN0c3oAAAAAAAAAAAAAAG8AABx0AAADjQAAAtQAAAILAAACHQAAAcMAAAENAAAB\n",
       "SAAAAdAAAAFwAAAA6AAAAOEAAAGDAAABYAAAAXUAAAFCAAAA/AAAAVcAAACjAAAAwAAAAR4AAADe\n",
       "AAABDwAAAKUAAADjAAAAvQAAAP0AAAD6AAAA4AAAANMAAAC2AAAAwQAAAPkAAAEqAAABCQAAAPYA\n",
       "AAEfAAAAmwAAAIAAAABcAAAArwAAAPEAAAEHAAAAhAAAAHkAAAB9AAABIAAAAM8AAACcAAAA2AAA\n",
       "ATAAAAFRAAABQQAAASwAAADkAAAAfwAAAMkAAABNAAAANgAAAFMAAAC9AAAAugAAAKoAAAByAAAA\n",
       "aQAAANQAAAD1AAAAwwAAAGgAAACeAAABQAAAAMEAAABzAAAAbgAAAOoAAABWAAAAVwAAAGYAAAC5\n",
       "AAAAbAAAAFEAAABPAAAAsQAAAH8AAABFAAAAPgAAAKgAAACFAAAARQAAADYAAAC8AAAAawAAACgA\n",
       "AAA+AAAAzQAAAI4AAAAuAAAAOAAAAL4AAACFAAAAQwAAAEcAAAChAAAAjAAAACoAAAAjAAAAigAA\n",
       "AH4AAAAzAAAARwAAAH4AAAAUc3RjbwAAAAAAAAABAAAALAAAAGJ1ZHRhAAAAWm1ldGEAAAAAAAAA\n",
       "IWhkbHIAAAAAAAAAAG1kaXJhcHBsAAAAAAAAAAAAAAAALWlsc3QAAAAlqXRvbwAAAB1kYXRhAAAA\n",
       "AQAAAABMYXZmNTUuMTkuMTA0\n",
       "\">\n",
       "  Your browser does not support the video tag.\n",
       "</video>"
      ],
      "text/plain": [
       "<matplotlib.animation.FuncAnimation at 0x20c98658710>"
      ]
     },
     "execution_count": 316,
     "metadata": {},
     "output_type": "execute_result"
    }
   ],
   "source": [
    "xR = np.linspace(0, R, N)\n",
    "\n",
    "fig, ax = plt.subplots()\n",
    "line, = ax.plot(xR, T_initial)\n",
    "ax.set_yticks(np.arange(0, 601, 50))\n",
    "\n",
    "plt.title(\"Процес нагрівання\")\n",
    "plt.ylabel(u\"Температура нагріву, ℃\")\n",
    "plt.xlabel(u\"Координата, м\")\n",
    "plt.grid()\n",
    "\n",
    "def animate(i):\n",
    "    line.set_ydata(T_data[i]-273.0)  # update the data\n",
    "    return line,\n",
    "\n",
    "# Init only required for blitting to give a clean slate.\n",
    "def init():\n",
    "    line.set_ydata(np.ma.array(xR, mask=True))\n",
    "    return line,\n",
    "\n",
    "ani = animation.FuncAnimation(fig, animate, np.arange(0, len(T_data), 250), init_func=init,\n",
    "                              interval=25, blit=True)\n",
    "plt.close()\n",
    "ani"
   ]
  },
  {
   "cell_type": "markdown",
   "metadata": {},
   "source": [
    "Будуємо графік залежності температури від часу в процесі нагрівання в трьох точках, розташованих по перетину системи ($r_1 = 0, r_2 = \\frac{r_0}{2}, r_3 = r_0$):"
   ]
  },
  {
   "cell_type": "code",
   "execution_count": 339,
   "metadata": {},
   "outputs": [
    {
     "data": {
      "image/png": "[encoded data removed]",
      "text/plain": [
       "<matplotlib.figure.Figure at 0x20cc85a68d0>"
      ]
     },
     "metadata": {},
     "output_type": "display_data"
    }
   ],
   "source": [
    "x_time = np.linspace(0, time_heat/60, len(T_data))\n",
    "it = iter(['--', '-.', ':'])\n",
    "for y, labl in zip(T_data.T[[0, 10, 19]]-273.0, ['$r_1=0$', r'$r_2=\\frac{R}{2}$', '$r_3 = R$']):\n",
    "    plt.plot(x_time, y, next(it), label=labl)\n",
    "plt.legend()\n",
    "plt.title(\"Процес нагрівання в окремих точках\")\n",
    "plt.ylabel(u\"Температура нагріву, ℃\")\n",
    "plt.xlabel(u\"Час, хв\")\n",
    "plt.grid()"
   ]
  },
  {
   "cell_type": "markdown",
   "metadata": {},
   "source": [
    "### Висновки\n",
    "\n",
    "Реалізована детермінована числова математична модель із розподіленими параметрами та визначений час нагріву металевого виробу, який становить 4.5хв."
   ]
  }
 ],
 "metadata": {
  "kernelspec": {
   "display_name": "Python 3",
   "language": "python",
   "name": "python3"
  },
  "language_info": {
   "codemirror_mode": {
    "name": "ipython",
    "version": 3
   },
   "file_extension": ".py",
   "mimetype": "text/x-python",
   "name": "python",
   "nbconvert_exporter": "python",
   "pygments_lexer": "ipython3",
   "version": "3.6.2"
  }
 },
 "nbformat": 4,
 "nbformat_minor": 2
}
